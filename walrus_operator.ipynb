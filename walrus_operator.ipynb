{
 "cells": [
  {
   "attachments": {},
   "cell_type": "markdown",
   "metadata": {},
   "source": [
    "<br><br><br>\n",
    "<div style=\"font-family: 'Gen Jyuu Gothic Monospace Medium', 'Noto Sans TC'; font-size: 480%; font-weight: 700; text-align: center; color: Plum;\">再談談 Walrus Operator\n"
   ]
  },
  {
   "attachments": {},
   "cell_type": "markdown",
   "metadata": {},
   "source": [
    "<div style=\"text-align:center\"><img src=\"https://hackmd.io/_uploads/HJsUHmqEn.jpg\" width=\"700\"/></div>"
   ]
  },
  {
   "attachments": {},
   "cell_type": "markdown",
   "metadata": {},
   "source": [
    "<div style=\"text-align:center\"><img src=\"https://hackmd.io/_uploads/BkiLBm5N2.jpg\" width=\"700\"/></div>"
   ]
  },
  {
   "attachments": {},
   "cell_type": "markdown",
   "metadata": {},
   "source": [
    "<div style=\"text-align:center\"><img src=\"https://hackmd.io/_uploads/Bki8SQ54h.jpg\" width=\"700\"/></div>"
   ]
  },
  {
   "attachments": {},
   "cell_type": "markdown",
   "metadata": {},
   "source": [
    "<div style=\"text-align:center\"><img src=\"https://hackmd.io/_uploads/SyoIBX5Vn.jpg\" width=\"700\"/></div>"
   ]
  },
  {
   "attachments": {},
   "cell_type": "markdown",
   "metadata": {},
   "source": [
    "<div style=\"text-align:center\"><img src=\"https://hackmd.io/_uploads/Hkj8BmcEn.jpg\" width=\"700\"/></div>"
   ]
  },
  {
   "attachments": {},
   "cell_type": "markdown",
   "metadata": {},
   "source": [
    "<div style=\"text-align:center\"><img src=\"https://hackmd.io/_uploads/H1iIHQcV2.jpg\" width=\"700\"/></div>"
   ]
  },
  {
   "attachments": {},
   "cell_type": "markdown",
   "metadata": {},
   "source": [
    "<div style=\"text-align:center\"><img src=\"https://hackmd.io/_uploads/SkoUBXc4h.jpg\"\n",
    " width=\"700\"/></div>"
   ]
  },
  {
   "attachments": {},
   "cell_type": "markdown",
   "metadata": {},
   "source": [
    "<div style=\"text-align:center\"><img src=\"https://hackmd.io/_uploads/SksUHX54h.jpg\" width=\"700\"/></div>"
   ]
  },
  {
   "attachments": {},
   "cell_type": "markdown",
   "metadata": {},
   "source": [
    "<div style=\"text-align:center\"><img src=\"https://hackmd.io/_uploads/B1jISX9E3.jpg\" width=\"700\"/></div>"
   ]
  },
  {
   "attachments": {},
   "cell_type": "markdown",
   "metadata": {},
   "source": [
    "<div style=\"text-align:center\"><img src=\"https://hackmd.io/_uploads/BJFtB7qNn.jpg\" width=\"700\"/></div>"
   ]
  },
  {
   "attachments": {},
   "cell_type": "markdown",
   "metadata": {},
   "source": [
    "<div style=\"font-family: 'Inconsolata', 'Noto Sans TC'; font-size: 135%;\">\n",
    "\n",
    "## <font color='SteelBlue'><b>先釐清幾個程式語言上的術語和觀念</b></font>\n"
   ]
  },
  {
   "attachments": {},
   "cell_type": "markdown",
   "metadata": {},
   "source": [
    "<div style=\"font-family: 'Inconsolata', 'Noto Sans TC'; font-size: 150%;\">\n",
    "\n",
    "### <font color='DarkSalmon'><b>Literals vs Variables</b></font>\n",
    "\n",
    "In programming, the terms <span style=\"color: GoldenRod; font-size: 110%; font-weight: 800;\">literal</span> and <span style=\"color: GoldenRod; font-size: 110%; font-weight: 800;\">variable</span> refer to two different kinds of elements that you can use to store and manipulate data.\n",
    "\n",
    "* <span style=\"color: GoldenRod; font-size: 125%; font-weight: 800;\">Literal(定數)</span>:\n",
    "    * A literal is a notation for representing a fixed value in source code. They are called literals because they are \"literal\" representations of values. For instance, in the code int x = 5;, 5 is a literal. It's a specific, fixed value written into the code. Literals can be of different types such as:\n",
    "        \n",
    "        |定數型別|範例|\n",
    "        |--|--|\n",
    "        |Integer literals |1, 2, 3)|\n",
    "        |Floating-point literals |1.1, 2.2, 3.3)|\n",
    "        |Character literals |('a', 'b', 'c')|\n",
    "        |String literals |(\"hello\", \"world\")|\n",
    "        |Boolean literals |True, False|\n",
    "        |NoneType literal|None|\n",
    "\n",
    "* Variable(變數):\n",
    "\n",
    "A variable, on the other hand, is a symbolic name for a memory location where a programmer can store, retrieve and manipulate data. The value of a variable can change throughout the execution of a program. In the same example int x = 5;, x is a variable. The x symbol is a stand-in for whatever value is currently stored in the memory location that x represents.\n",
    "\n",
    "Comparison:\n",
    "\n",
    "Comparing the two:\n",
    "\n",
    "Literals are fixed values used in code, whereas variables are symbolic names for memory locations whose values can be changed.\n",
    "Literals don't change their values during the execution of a program. Variables, in contrast, can be assigned different values.\n",
    "Variables can hold the values of literals. For instance, in the line int x = 5;, x is a variable that is holding the integer literal 5.\n"
   ]
  },
  {
   "attachments": {},
   "cell_type": "markdown",
   "metadata": {},
   "source": [
    "<div style=\"font-family: 'Inconsolata', 'Noto Sans TC'; font-size: 135%;\">\n",
    "\n",
    "### <font color='DarkSalmon'><b>Expressions vs Statements</b></font>\n",
    "\n",
    "* Expression\n",
    "    * In programming, an expression is a combination of one or more values, variables, operators, and function calls that evaluate to a single value. Expressions can be used in a variety of contexts, such as assigning a value to a variable, passing arguments to a function, or as part of a larger expression. For example, in the following Python code, 2 + 3 is an expression that evaluates to 5:\n",
    "\n",
    "    ```    \n",
    "    x = 2 + 3\n",
    "    ```\n",
    "* In contrast, a statement is a complete instruction that performs a specific action. Statements are typically composed of one or more expressions, along with keywords and other syntax that specify the operation to be performed. For example, the following Python code contains a statement that assigns a value to a variable:\n",
    "    ```\n",
    "    x = 5\n",
    "    ```\n",
    "In this case, the entire line x = 5 is a statement that assigns the value 5 to the variable x.\n",
    "\n",
    "* In summary, expressions are used to represent values and computations that evaluate to a single value, while statements are used to perform actions and can include one or more expressions as part of their syntax.\n",
    "\n",
    "\n",
    "\n",
    "\n",
    "\n",
    "        * ..\n",
    "    * Statement\n",
    "        * ..\n",
    "        * ..\n"
   ]
  },
  {
   "attachments": {},
   "cell_type": "markdown",
   "metadata": {},
   "source": [
    "<div style=\"font-family: 'Inconsolata', 'Noto Sans TC'; font-size: 135%;\">\n",
    "\n",
    "### <font color='DarkSalmon'><b>第3層標題</b></font>\n",
    "\n",
    "* ...\n",
    "* ..."
   ]
  },
  {
   "attachments": {},
   "cell_type": "markdown",
   "metadata": {},
   "source": [
    "## 傳統version 0\n",
    "* 用for loop\n",
    "* 限制：\n",
    "    * 只有這種情形才能使用。"
   ]
  },
  {
   "cell_type": "code",
   "execution_count": 7,
   "metadata": {},
   "outputs": [
    {
     "name": "stdout",
     "output_type": "stream",
     "text": [
      "The Zen of Python, by Tim Peters\n",
      "\n",
      "Beautiful is better than ugly.\n",
      "Explicit is better than implicit.\n",
      "Simple is better than complex.\n",
      "Complex is better than complicated.\n",
      "Flat is better than nested.\n",
      "Sparse is better than dense.\n",
      "Readability counts.\n",
      "Special cases aren't special enough to break the rules.\n",
      "Although practicality beats purity.\n",
      "Errors should never pass silently.\n",
      "Unless explicitly silenced.\n",
      "In the face of ambiguity, refuse the temptation to guess.\n",
      "There should be one-- and preferably only one --obvious way to do it.\n",
      "Although that way may not be obvious at first unless you're Dutch.\n",
      "Now is better than never.\n",
      "Although never is often better than *right* now.\n",
      "If the implementation is hard to explain, it's a bad idea.\n",
      "If the implementation is easy to explain, it may be a good idea.\n",
      "Namespaces are one honking great idea -- let's do more of those!"
     ]
    }
   ],
   "source": [
    "with open('./Zen.txt', 'r') as f:\n",
    "    for line in f:\n",
    "        print(line, end='')"
   ]
  },
  {
   "attachments": {},
   "cell_type": "markdown",
   "metadata": {},
   "source": [
    "## 傳統version 1\n",
    "* 缺點：\n",
    "    * 要寫2次readline()，不夠簡潔優雅。\n",
    "    * ...\n"
   ]
  },
  {
   "cell_type": "code",
   "execution_count": null,
   "metadata": {},
   "outputs": [],
   "source": [
    "with open('./Zen.txt', 'r') as file:\n",
    "    line = file.readline()    # 讀取檔案的第1行。\n",
    "    while line:\n",
    "        print(line, end='')\n",
    "        line = file.readline()   # 從第2行起讀到檔案結束。"
   ]
  },
  {
   "attachments": {},
   "cell_type": "markdown",
   "metadata": {},
   "source": [
    "## 傳統version 2\n",
    "* 缺點：\n",
    "    * 在while True中用if，不夠簡潔優雅。\n",
    "    * ..."
   ]
  },
  {
   "cell_type": "code",
   "execution_count": null,
   "metadata": {},
   "outputs": [],
   "source": [
    "with open('./Zen.txt', 'r') as file:\n",
    "    while True:\n",
    "        line = file.readline()\n",
    "        if not line:\n",
    "            break\n",
    "        print(line, end='')"
   ]
  },
  {
   "attachments": {},
   "cell_type": "markdown",
   "metadata": {},
   "source": [
    "## Walrus Operator Version\n",
    "* Assignment Expression (賦值運算式)\n",
    "* Python 3.8版開始引進的一個新語法。\n",
    "* 長相很像一隻「海象」的鼻子+象牙(`:=`)\n"
   ]
  },
  {
   "cell_type": "code",
   "execution_count": null,
   "metadata": {},
   "outputs": [],
   "source": [
    "with open()"
   ]
  },
  {
   "cell_type": "code",
   "execution_count": 11,
   "metadata": {},
   "outputs": [
    {
     "ename": "SyntaxError",
     "evalue": "invalid syntax. Maybe you meant '==' or ':=' instead of '='? (2746450824.py, line 2)",
     "output_type": "error",
     "traceback": [
      "\u001b[0;36m  Cell \u001b[0;32mIn[11], line 2\u001b[0;36m\u001b[0m\n\u001b[0;31m    while line = file.readline():\u001b[0m\n\u001b[0m          ^\u001b[0m\n\u001b[0;31mSyntaxError\u001b[0m\u001b[0;31m:\u001b[0m invalid syntax. Maybe you meant '==' or ':=' instead of '='?\n"
     ]
    }
   ],
   "source": [
    "with open('./Zen.txt', 'r') as file:\n",
    "    while line := file.readline():   # expression\n",
    "        print(line, end='')\n",
    "        \n",
    "\n",
    "# Python的file stream物件給予的特別方便\n",
    "with open('./Zen.txt', 'r') as file:\n",
    "    for line in file:\n",
    "        print(line, end='')        "
   ]
  },
  {
   "attachments": {},
   "cell_type": "markdown",
   "metadata": {},
   "source": [
    "## walrus operator version\n",
    "* 優點：\n",
    "    * ..\n",
    "    * .."
   ]
  },
  {
   "attachments": {},
   "cell_type": "markdown",
   "metadata": {},
   "source": [
    "## walrus operator version\n",
    "* 缺點：\n",
    "    * ..\n",
    "    * ..\n",
    "疑點：\n",
    "    * ..\n",
    "    * .."
   ]
  },
  {
   "cell_type": "code",
   "execution_count": 41,
   "metadata": {},
   "outputs": [
    {
     "name": "stdout",
     "output_type": "stream",
     "text": [
      "Point(10, 20).x = 10\n"
     ]
    }
   ],
   "source": [
    "class Point():\n",
    "    def __init__(self, x, y):\n",
    "        self.x = x\n",
    "        self.y = y\n",
    "    def move(self):\n",
    "        print('move')\n",
    "        \n",
    "print(f'{Point(10, 20).x = }')"
   ]
  }
 ],
 "metadata": {
  "kernelspec": {
   "display_name": "Python 3",
   "language": "python",
   "name": "python3"
  },
  "language_info": {
   "codemirror_mode": {
    "name": "ipython",
    "version": 3
   },
   "file_extension": ".py",
   "mimetype": "text/x-python",
   "name": "python",
   "nbconvert_exporter": "python",
   "pygments_lexer": "ipython3",
   "version": "3.11.3"
  },
  "orig_nbformat": 4
 },
 "nbformat": 4,
 "nbformat_minor": 2
}
