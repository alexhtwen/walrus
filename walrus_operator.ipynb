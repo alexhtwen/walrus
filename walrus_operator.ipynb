{
 "cells": [
  {
   "cell_type": "code",
   "execution_count": null,
   "metadata": {},
   "outputs": [],
   "source": [
    "%%javascript\n",
    "// 設定output文字顏色。\n",
    "document.styleSheets[0].addRule('body', 'color: #87CEFA !important;')"
   ]
  },
  {
   "attachments": {},
   "cell_type": "markdown",
   "metadata": {},
   "source": [
    "<div style=\"text-align:center\"><img src=\"https://hackmd.io/_uploads/HJsUHmqEn.jpg\" width=\"700\"/></div>"
   ]
  },
  {
   "attachments": {},
   "cell_type": "markdown",
   "metadata": {},
   "source": [
    "<div style=\"font-family: 'Gen Jyuu Gothic Monospace Medium', 'Noto Sans TC', 'Inconsolata'; font-size: 400%; font-weight: 700; text-align: center; color: Plum;\">\n",
    "<br>\n",
    "詳談 Walrus Operator\n",
    "<br>\n",
    "<br>\n",
    "<br>\n",
    "<!-- <div style=\"font-family: 'Inconsolata', 'Noto Sans TC'; font-size: 180%; text-align: center;\"> -->\n",
    "\n",
    "</div>"
   ]
  },
  {
   "attachments": {},
   "cell_type": "markdown",
   "metadata": {},
   "source": [
    "<div style=\"text-align:center\"><img src=\"https://hackmd.io/_uploads/Bki8SQ54h.jpg\" width=\"700\"/></div>"
   ]
  },
  {
   "attachments": {},
   "cell_type": "markdown",
   "metadata": {},
   "source": [
    "<div style=\"color: SteelBlue; font-family: 'Ubuntu Mono', 'Inconsolata', 'Noto Sans TC'; font-size: 300%; font-weight: 700;\">\n",
    "先講幾個術語\n",
    "</div>\n",
    "<br>\n",
    "<div style=\"font-family: 'Inconsolata', 'Noto Sans TC'; font-size: 135%;\">\n",
    "\n",
    "* 在進入本文主題前，先釐清幾個程式語言上的術語和觀念：\n",
    "    * Literals vs Variables\n",
    "    * Expressions vs Statements\n",
    " "
   ]
  },
  {
   "attachments": {},
   "cell_type": "markdown",
   "metadata": {},
   "source": [
    "<div style=\"text-align:center\"><img src=\"https://hackmd.io/_uploads/BkiLBm5N2.jpg\" width=\"700\"/></div>"
   ]
  },
  {
   "attachments": {},
   "cell_type": "markdown",
   "metadata": {},
   "source": [
    "<div style=\"color: DarkSalmon; font-family: 'Ubuntu Mono', 'Inconsolata', 'Noto Sans TC'; font-size: 250%; font-weight: 700;\">\n",
    "Literals(定數) vs Variables(變數)\n",
    "</div>\n",
    "<br>\n",
    "<div style=\"font-family: 'Inconsolata', 'Noto Sans TC'; font-size: 135%;\">\n",
    "In programming languages, the terms <span style=\"color: Crimson; font-size: 110%; font-weight: 800;\">literal</span> and <span style=\"color: Crimson; font-size: 110%; font-weight: 800;\">variable</span> refer to two different kinds of elements that you can use to store and manipulate data."
   ]
  },
  {
   "attachments": {},
   "cell_type": "markdown",
   "metadata": {},
   "source": [
    "<div style=\"text-align:center\"><img src=\"https://hackmd.io/_uploads/SkoUBXc4h.jpg\"\n",
    " width=\"700\"/></div>"
   ]
  },
  {
   "attachments": {},
   "cell_type": "markdown",
   "metadata": {},
   "source": [
    "<div style=\"color: YellowGreen; font-family: 'Ubuntu Mono', 'Inconsolata', 'Noto Sans TC'; font-size: 200%; font-weight: 700;\">\n",
    "Literals(定數)\n",
    "</div>\n",
    "<br>\n",
    "<div style=\"font-family: 'Inconsolata', 'Noto Sans TC'; font-size: 135%;\">\n",
    "\n",
    "A <span style=\"color: Crimson; font-size: 110%; font-weight: 800;\">literal</span> is a notation for representing a <span style=\"color: Crimson; font-size: 110%; font-weight: 800;\">fixed value(固定值)</span> in source code. They are called literals because they are 'literal'(「字面上」) representations of values. For instance, in the code `name = 'Alex'` and `age = 39`, <span style=\"color: Gold; font-size: 110%; font-weight: 800;\">'Alex'</span> and <span style=\"color: Gold; font-size: 110%; font-weight: 800;\">39</span> are literals.  They are specific, fixed values written into the code. Literals can be of different types such as:\n",
    "    \n",
    "<div style=\"color: LightSkyBlue; text-align:left; font-size: 90%; \"> \n",
    "\n",
    "|定數型別|範例|\n",
    "|--|--|\n",
    "|int literal |1, 2, 3|\n",
    "|float literal |1.1, 2.2, 3.3|\n",
    "|str literal |'hello', 'world'|\n",
    "|bool literal |True, False|\n",
    "|NoneType literal|None|\n",
    "|list literal|[1, 2, 3], ['Alex']|\n",
    "|tuple literal|(1, 2, 3), ('Alex',)|\n",
    "|set literal|{4, 9, 3}, {'a', 'z'}|\n",
    "|dict literal|{'id': 1, 'name': 'Alex'}, {0: 1, 1: 3}|\n",
    "</div>"
   ]
  },
  {
   "attachments": {},
   "cell_type": "markdown",
   "metadata": {},
   "source": [
    "<div style=\"text-align:center\"><img src=\"https://hackmd.io/_uploads/SyoIBX5Vn.jpg\" width=\"700\"/></div>"
   ]
  },
  {
   "attachments": {},
   "cell_type": "markdown",
   "metadata": {},
   "source": [
    "<div style=\"color: YellowGreen; font-family: 'Ubuntu Mono', 'Inconsolata', 'Noto Sans TC'; font-size: 200%; font-weight: 700;\">\n",
    "Variables(變數)\n",
    "</div>\n",
    "<br>\n",
    "\n",
    "<div style=\"font-family: 'Inconsolata', 'Noto Sans TC'; font-size: 135%;\">\n",
    "\n",
    "A <span style=\"color: Crimson; font-size: 110%; font-weight: 800;\">variable</span>, on the other hand, is a <span style=\"color: Crimson; font-size: 110%; font-weight: 800;\">symbolic name</span> for a memory location where a programmer can store, retrieve and manipulate data. The value of a variable can change throughout the execution of a program. In the same examples `name = 'Alex'` and `age = 39`, <font color=gold><b>name</font> and <font color=gold><b>age</font> are both variables. The <font color=gold><b>name</font> and <font color=gold><b>age</font> symbols are stand-ins for whatever value are currently stored in the memory locations that they represent.\n",
    "</div>\n"
   ]
  },
  {
   "attachments": {},
   "cell_type": "markdown",
   "metadata": {},
   "source": [
    "<div style=\"text-align:center\"><img src=\"https://hackmd.io/_uploads/Hkj8BmcEn.jpg\" width=\"700\"/></div>"
   ]
  },
  {
   "attachments": {},
   "cell_type": "markdown",
   "metadata": {},
   "source": [
    "<div style=\"color: YellowGreen; font-family: 'Ubuntu Mono', 'Inconsolata', 'Noto Sans TC'; font-size: 200%; font-weight: 700;\">\n",
    "Comparison Between literals and variables\n",
    "</div>\n",
    "<br>\n",
    "<div style=\"font-family: 'Inconsolata', 'Noto Sans TC'; font-size: 135%;\">\n",
    "\n",
    "* <span style=\"color: Salmon; font-size: 110%; font-weight: 800;\">Literals are fixed values</span> used in code, whereas <span style=\"color: Salmon; font-size: 110%; font-weight: 800;\">variables are symbolic names</span> for memory locations whose values can be changed.\n",
    "Literals don't change their values during the execution of a program. Variables, in contrast, can be assigned different values.\n",
    "* Variables can hold the values of literals. For instance, in the line `name = 'Alex'`, name is a variable that is holding the string literal <span style=\"color: Gold; font-size: 110%; font-weight: 800;\">'Alex'</span>.\n",
    "* 變數variables是用「名稱」來代表某個位址的記憶體內容；而定數literals則為「固定值」，不可以有名稱(一旦冠名就成變數)。\n",
    "* 變數的命名，必須遵守程式語言的規範。通常不可以用數字開頭，整個名稱都不可以有空白和各種符號(底線除外)。當然長度也有限制，不過現代的程式語言，變數名稱都可以很長。另外，Python的變數可以用中文命名，但筆者強烈建議不要用中文，乖乖用英數命名較為妥當。\n",
    "* 在賦值指令中，Literals只能出現在<span style=\"color: Pink; font-size: 150%; font-weight: 800;\">=</span>(含<span style=\"color: Pink; font-size: 120%; font-weight: 800;\">+=</span>, <span style=\"color: Pink; font-size: 120%; font-weight: 800;\">-=</span>等)的右邊；variables則左右逢源，在<span style=\"color: Pink; font-size: 150%; font-weight: 800;\">=</span>的兩邊均屬合法：\n",
    "    * <span style=\"color: #28A428; font-size: 130%; font-weight: 800;\">✓ name = 'Alex'</span>\n",
    "    * <span style=\"color: #993232; font-size: 130%; font-weight: 800;\">✗ 'Alex' = name</span>\n",
    "    ---\n",
    "    * <span style=\"color: #28A428; font-size: 130%; font-weight: 800;\">✓ age = age + 1</span>\n",
    "    * <span style=\"color: #993232; font-size: 130%; font-weight: 800;\">✗ age + 1 = age</span>\n",
    "    ---\n",
    "    * <span style=\"color: #28A428; font-size: 130%; font-weight: 800;\">✓ age += 1</span>\n",
    "    * <span style=\"color: #993232; font-size: 130%; font-weight: 800;\">✗ 1 += age</span>\n"
   ]
  },
  {
   "cell_type": "code",
   "execution_count": null,
   "metadata": {},
   "outputs": [],
   "source": [
    "# Literals只能出現在'='(含'+=', '-='等)的右邊；variables則左右逢源，\n",
    "# 在=的兩邊均屬合法。\n",
    "\n",
    "name = 'Alex'\n",
    "'Alex' = name\n",
    "\n",
    "age = 38\n",
    "age = age + 1\n",
    "age + 1 = age\n",
    "\n",
    "age += 1\n",
    "1 += age"
   ]
  },
  {
   "attachments": {},
   "cell_type": "markdown",
   "metadata": {},
   "source": [
    "<div style=\"color: YellowGreen; font-family: 'Ubuntu Mono', 'Inconsolata', 'Noto Sans TC'; font-size: 200%; font-weight: 700;\">\n",
    "Literals vs Variables結束\n",
    "</div>\n",
    "<br>\n",
    "<div style=\"font-family: 'Inconsolata', 'Noto Sans TC'; font-size: 135%;\">\n",
    "\n",
    "* 兩者區分一目瞭然，不再浪費時間。\n",
    "* 以下介紹另一重要概念：\n",
    "    * <span style=\"color: Gold; font-size: 110%; font-weight: 800;\">expressions vs statements</span>\n"
   ]
  },
  {
   "attachments": {},
   "cell_type": "markdown",
   "metadata": {},
   "source": [
    "<div style=\"text-align:center\"><img src=\"https://hackmd.io/_uploads/BJFtB7qNn.jpg\" width=\"700\"/></div>"
   ]
  },
  {
   "attachments": {},
   "cell_type": "markdown",
   "metadata": {},
   "source": [
    "<div style=\"color: DarkSalmon; font-family: 'Ubuntu Mono', 'Inconsolata', 'Noto Sans TC'; font-size: 250%; font-weight: 700;\">\n",
    "Expressions vs Statements\n",
    "</div>\n",
    "<br>\n",
    "<div style=\"font-family: 'Inconsolata', 'Noto Sans TC'; font-size: 135%;\">\n",
    "Expressions are used to represent values and computations that evaluate to a single value, while statements are used to perform actions and can include one or more expressions as part of their syntax.\n"
   ]
  },
  {
   "attachments": {},
   "cell_type": "markdown",
   "metadata": {},
   "source": [
    "<div style=\"text-align:center\"><img src=\"https://hackmd.io/_uploads/SkPUWLCr2.jpg\" width=\"700\"/></div>"
   ]
  },
  {
   "attachments": {},
   "cell_type": "markdown",
   "metadata": {},
   "source": [
    "<div style=\"color: YellowGreen; font-family: 'Ubuntu Mono', 'Inconsolata', 'Noto Sans TC'; font-size: 200%; font-weight: 700;\">\n",
    "Expressions(運算式)\n",
    "</div>\n",
    "<br>\n",
    "<div style=\"font-family: 'Inconsolata', 'Noto Sans TC'; font-size: 135%;\">\n",
    "\n",
    "* In programming, <span style=\"color: Salmon; font-size: 110%; font-weight: 800;\">an expression is a combination of one or more literals, variables, operators(註1), and function calls that evaluate to a single value(註2)</span>. \n",
    "* Expressions can be used in a variety of contexts, such as assigning a value to a variable, passing arguments to a function, or as part of a larger expression. For example, in the following Python code, <font color=gold><b>2 + 3</b></font> is an expression that evaluates to 5:\n",
    "    <div style=\"text-align: left; color: SkyBlue; font-size: 110%; font-weight: 800;\">\n",
    "    x = 2 + 3\n",
    "    </div>\n",
    "    <br>\n",
    "* Examples of function calls:\n",
    "    <div style=\"text-align: left; color: SkyBlue; font-size: 110%; font-weight: 800;\">\n",
    "    type(x)&nbsp;&nbsp;&nbsp;&nbsp;&nbsp;&nbsp;&nbsp;&nbsp;&nbsp;&nbsp;&nbsp;&nbsp;<span style=\"font-size: 90%; color: #6a9955;\"># 傳回class 'int'(型別是type)</span><br>\n",
    "    print('Hello')&nbsp;&nbsp;&nbsp;&nbsp;&nbsp;<span style=\"font-size: 90%; color: #6a9955;\"># 傳回class 'NoneType'(型別是NoneType)</span>\n",
    "    </div>\n",
    "    <br>\n",
    "\n",
    "<font color=#343434>\n",
    "\n",
    "---\n",
    "\n",
    "</font>\n",
    "\n",
    "註1：\n",
    "* In the definition of an expression, <span style=\"color: Salmon; font-size: 110%; font-weight: 800;\">assignment operators like <span style=\"color: Crimson; font-size: 120%;\">=</span>, <span style=\"color: Crimson; font-size: 120%;\">+=</span>, <span style=\"color: Crimson; font-size: 120%;\">-=</span>, <span style=\"color: Crimson; font-size: 120%;\">++</span>, <span style=\"color: Crimson; font-size: 120%;\">--</span>, and other similar operators are typically excluded</span>.\n",
    "* Assignment operators are used to assign values to variables and do not themselves produce a value that can be used as part of a larger expression. They are considered as statements or assignment operations, rather than being part of an expression that evaluates to a single value.\n",
    "\n",
    "註2：\n",
    "\n",
    "> In programming, an expression is a combination of one or more literals, variables, operators, and function calls that evaluate to <span style=\"color: Salmon; font-size: 110%; font-weight: 800;\">a single value</span>. \n",
    "\n",
    "* 以這個定義，一個expression經過evaluation(評量、判斷、運算)後，必須得到一個單一的值(a single value)。\n",
    "* 可是Python的函數是允許傳回多個值的呀，那麼，傳回多值的函數呼叫(function calls)，還算是expressions嗎？\n",
    "* 誰能回答這個問題？"
   ]
  },
  {
   "cell_type": "code",
   "execution_count": 7,
   "metadata": {},
   "outputs": [
    {
     "name": "stdout",
     "output_type": "stream",
     "text": [
      "(45.867252742410976, 167.41547250980008)\n",
      "45.867252742410976\n",
      "167.41547250980008\n"
     ]
    }
   ],
   "source": [
    "from math import pi\n",
    "def get_circumference_area(r: int | float):\n",
    "    return 2 * pi * r, pi * (r**2)   # 傳回圓的周長和面積兩個值。\n",
    "\n",
    "print(get_circumference_area(7.3))"
   ]
  },
  {
   "cell_type": "code",
   "execution_count": 84,
   "metadata": {},
   "outputs": [
    {
     "name": "stdout",
     "output_type": "stream",
     "text": [
      "<class 'int'>\n",
      "<class 'NoneType'>\n",
      "<class 'str'>\n",
      "<class 'str'>\n",
      "<class 'type'>\n",
      "8\n"
     ]
    }
   ],
   "source": [
    "x = 2 + 3\n",
    "print(type(x))       # <class 'int'>\n",
    "print(type(None))    # <class 'NoneType'>\n",
    "print(t := type('hello'))    # <class 'str'>\n",
    "print(t)                     # <class 'str'>\n",
    "print(type(t))               # <class 'type'>\n",
    "\n",
    "def cube(n: int | float) -> int | float:\n",
    "    return n ** 3\n",
    "\n",
    "print(cube(2))"
   ]
  },
  {
   "cell_type": "code",
   "execution_count": 86,
   "metadata": {},
   "outputs": [
    {
     "data": {
      "text/plain": [
       "NoneType"
      ]
     },
     "execution_count": 86,
     "metadata": {},
     "output_type": "execute_result"
    }
   ],
   "source": [
    "# 不寫傳回值，Python會自己傳回None。\n",
    "def func():\n",
    "    ...\n",
    "    \n",
    "type(func())"
   ]
  },
  {
   "attachments": {},
   "cell_type": "markdown",
   "metadata": {},
   "source": [
    "<div style=\"text-align:center\"><img src=\"https://hackmd.io/_uploads/H1iIHQcV2.jpg\" width=\"700\"/></div>"
   ]
  },
  {
   "attachments": {},
   "cell_type": "markdown",
   "metadata": {},
   "source": [
    "<div style=\"color: YellowGreen; font-family: 'Ubuntu Mono', 'Inconsolata', 'Noto Sans TC'; font-size: 200%; font-weight: 700;\">\n",
    "Statements(指令)\n",
    "</div>\n",
    "<br>\n",
    "<div style=\"font-family: 'Inconsolata', 'Noto Sans TC'; font-size: 135%;\">\n",
    "\n",
    "* In contrast, <span style=\"color: Salmon; font-size: 110%; font-weight: 800;\">a statement is a complete instruction that performs a specific <span style=\"color: Crimson; font-size: 150%; font-weight: 900; text-decoration: underline dotted\n",
    " #F9DD94;\">action</span></span>. Statements are typically composed of one or more expressions, along with keywords and other syntaxes that specify the operation to be performed. For example, the following Python code contains a statement that assigns a value to a variable:\n",
    "    <div style=\"text-align: left; color: SkyBlue; font-size: 150%; font-weight: 800;\">\n",
    "    x = 5\n",
    "    </div>\n",
    "* In this case, the entire line <span style=\"color: Gold; font-size: 110%; font-weight: 800;\">x = 5</span> is a <span style=\"color: Salmon; font-size: 110%; font-weight: 800;\">statement that assigns the value 5 to the variable x</span>.\n",
    "* 一個辨別expression和statement的簡單方式：只要看到賦值運算子<span style=\"font-family: 'Ubuntu Mono'; color: Crimson; font-size: 180%; font-weight: 800;\">=</span>，就可肯定這必是statement無疑，因為expression是不可能包含賦值運算子的。"
   ]
  },
  {
   "attachments": {},
   "cell_type": "markdown",
   "metadata": {},
   "source": [
    "<div style=\"text-align:center\"><img src=\"https://hackmd.io/_uploads/ryG-osjrn.jpg\" width=\"700\"/></div>"
   ]
  },
  {
   "attachments": {},
   "cell_type": "markdown",
   "metadata": {},
   "source": [
    "<div style=\"color: YellowGreen; font-family: 'Ubuntu Mono', 'Inconsolata', 'Noto Sans TC'; font-size: 200%; font-weight: 700;\">\n",
    "More Examples on Expressions and Statements\n",
    "</div>\n",
    "<br>\n",
    "<div style=\"font-family: 'Inconsolata', 'Noto Sans TC'; font-size: 135%;\">\n",
    "\n",
    "* Expressions:\n",
    "    * <div style=\"text-align: left; color: SkyBlue; font-size: 100%; font-weight: 800;\">pi * r**2</span>\n",
    "    * <div style=\"text-align: left; color: SkyBlue; font-size: 100%; font-weight: 800;\">2 * pi * r</span>\n",
    "    * <div style=\"text-align: left; color: SkyBlue; font-size: 100%; font-weight: 800;\">first_name + last_name</span>\n",
    "    * <div style=\"text-align: left; color: SkyBlue; font-size: 100%; font-weight: 800;\">f'Hello, {name}'</span>\n",
    "* Statements:\n",
    "    * <div style=\"text-align: left; color: SkyBlue; font-size: 100%; font-weight: 800;\">score += 10</span>\n",
    "    * <div style=\"text-align: left; color: SkyBlue; font-size: 100%; font-weight: 800;\">if x > 10:</span>\n",
    "    * <div style=\"text-align: left; color: SkyBlue; font-size: 100%; font-weight: 800;\">while True:</span>\n",
    "    * <div style=\"text-align: left; color: SkyBlue; font-size: 100%; font-weight: 800;\">for i in range(9):</span>"
   ]
  },
  {
   "attachments": {},
   "cell_type": "markdown",
   "metadata": {},
   "source": [
    "<div style=\"text-align:center\"><img src=\"https://hackmd.io/_uploads/B1jISX9E3.jpg\" width=\"700\"/></div>"
   ]
  },
  {
   "attachments": {},
   "cell_type": "markdown",
   "metadata": {},
   "source": [
    "<div style=\"color: YellowGreen; font-family: 'Ubuntu Mono', 'Inconsolata', 'Noto Sans TC'; font-size: 200%; font-weight: 700;\">\n",
    "既是Expression也是Statement-1\n",
    "</div>\n",
    "<br>\n",
    "<div style=\"font-family: 'Inconsolata', 'Noto Sans TC'; font-size: 135%;\">\n",
    "\n",
    "有些語法結構兼具expression和statement性質，視其context而定。例如：\n",
    "* In Python, the <span style=\"color: Crimson; font-size: 135%; font-weight: 800;\">if</span> <span style=\"color: Salmon; font-size: 110%; font-weight: 800;\">can be used as a statement</span> to control the flow of execution in a program, like this:\n",
    "    <!-- <div style=\"text-align:left\"><img src=\"https://hackmd.io/_uploads/HJw0UIir3.png\" width=\"570\"/></div> -->\n",
    "    <div style=\"text-align: left; color: SkyBlue; font-size: 100%; font-weight: 800;\">\n",
    "    if score >= 80:<br>&nbsp;&nbsp;&nbsp;\n",
    "        action = 'Go to the party'<br>\n",
    "    else:<br>&nbsp;&nbsp;&nbsp;\n",
    "        action = 'Go home'\n",
    "    <br>\n",
    "    </div>\n",
    "\n",
    "    However, the <span style=\"color: Crimson; font-size: 135%; font-weight: 800;\">if</span><span style=\"color: Salmon; font-size: 110%; font-weight: 800;\"> can also be used as an expression</span> to provide a shorthand way of assigning a value based on a condition, like this:\n",
    "    <!-- <br>\n",
    "    <div style=\"text-align:left\"><img src=\"https://hackmd.io/_uploads/HJcCULoSh.png\" width=\"420\"/></div> -->\n",
    "    <div style=\"text-align: left; color: SkyBlue; font-size: 100%; font-weight: 800;\">\n",
    "    action = 'Go to the party' if score >= 80 else 'Go home'\n",
    "    <br>\n",
    "    </div>\n",
    "\n",
    "    In this case, the if expression evaluates to 'Go to the party' if the condition score >= 80 is True, and 'Go home' otherwise. So, <span style=\"color: Salmon; font-size: 110%; font-weight: 800;\">depending on the context in which it is used, the <span style=\"color: Crimson; font-size: 135%; font-weight: 800;\">if construct</span> can be either a statement or an expression</span> in Python."
   ]
  },
  {
   "cell_type": "code",
   "execution_count": 90,
   "metadata": {},
   "outputs": [
    {
     "name": "stdout",
     "output_type": "stream",
     "text": [
      "action in statement: Go home\n",
      "action in expression: Go home\n"
     ]
    }
   ],
   "source": [
    "score = 79\n",
    "\n",
    "if score >= 80:\n",
    "    action = 'Go to the party'\n",
    "else:\n",
    "    action = 'Go home'\n",
    "print(f'action in statement: {action}')\n",
    "\n",
    "action = 'Go to the party' if score >= 80 else 'Go home'\n",
    "print(f'action in expression: {action}')"
   ]
  },
  {
   "attachments": {},
   "cell_type": "markdown",
   "metadata": {},
   "source": [
    "<div style=\"color: YellowGreen; font-family: 'Ubuntu Mono', 'Inconsolata', 'Noto Sans TC'; font-size: 200%; font-weight: 700;\">\n",
    "既是Expression也是Statement-2\n",
    "</div>\n",
    "<br>\n",
    "<div style=\"font-family: 'Inconsolata', 'Noto Sans TC'; font-size: 135%;\">\n",
    "\n",
    "* Function calls亦同時是expression和statement：\n",
    "\n",
    "    <div style=\"text-align: left; color: SkyBlue; font-size: 100%; font-weight: 800;\">print('Hello, world!')</div><br>\n",
    "    is actually both an expression and a statement in Python. The <span style=\"color: SkyBlue;\">print('Hello, world!')</span> <span style=\"color: Salmon; font-size: 110%; font-weight: 800;\">function call is an expression</span> that evaluates to <span style=\"color: Crimson; font-size: 110%; font-weight: 800;\">None</span>, which is the return value of the print() function. At the same time, the entire construct of <span style=\"color: SkyBlue;\">print('Hello, world!')</span> is also a complete instruction that performs the specific action of printing the string 'Hello, world!' to the console. Therefore, it is <span style=\"color: Salmon; font-size: 110%; font-weight: 800;\">also considered a statement in Python</span>."
   ]
  },
  {
   "attachments": {},
   "cell_type": "markdown",
   "metadata": {},
   "source": [
    "<div style=\"text-align:center\"><img src=\"https://hackmd.io/_uploads/SyI5hFsS3.png\" width=\"400\"/></div>"
   ]
  },
  {
   "attachments": {},
   "cell_type": "markdown",
   "metadata": {},
   "source": [
    "<div style=\"color: YellowGreen; font-family: 'Ubuntu Mono', 'Inconsolata', 'Noto Sans TC'; font-size: 200%; font-weight: 700;\">\n",
    "既非Expression亦非Statement\n",
    "</div>\n",
    "<br>\n",
    "<div style=\"font-family: 'Inconsolata', 'Noto Sans TC'; font-size: 135%;\">\n",
    "\n",
    "There are some syntactic constructs in programming languages that are neither expressions nor statements. These constructs are typically used to define program structure, such as defining classes, functions, modules, and other program elements.\n",
    "\n",
    "有些語法結構不屬於expression，也不是statement。例如：\n",
    "\n",
    "* The <span style=\"color: Gold; font-size: 120%; font-weight: 800;\">class</span> keyword in Python is used to define a new class, but it is neither an expression nor a statement. Here's an example:\n",
    "    <!-- <div style=\"color: SkyBlue; font-size: 120%; font-weight: 800; text-align: left;\"> -->\n",
    "    <div style=\"text-align:left\"><img src=\"https://hackmd.io/_uploads/S1rSk2JI3.png\" width=\"950\"/></div>\n",
    "    In this example, the <span style=\"color: Gold; font-size: 120%; font-weight: 800;\">class</span> keyword is used to define a new class called MyClass, and the <span style=\"color: Gold; font-size: 120%; font-weight: 800;\">def</span> keyword is used to define the constructor within the class. Neither of these constructs is an expression or a statement; instead, they are <span style=\"color: Salmon; font-size: 110%; font-weight: 800;\">just used to define the structure of the program</span>.\n",
    "\n",
    "* The <span style=\"color: Gold; font-size: 120%; font-weight: 800;\">import</span> keyword in Python is used to import modules, but it is neither an expression nor a statement. Here's an example:\n",
    "    <div style=\"color: SkyBlue; font-size: 100%; font-weight: 800; text-align: left;\">\n",
    "    import math<br>\n",
    "    from math import pi\n",
    "    </div>\n",
    "\n",
    "    In this example, the <span style=\"color: Gold; font-size: 100%; font-weight: 500;\">import</span> and <span style=\"color: Gold; font-size: 100%; font-weight: 500;\">from ... import</span> keywords are used to import the math module(or the pi method in math module), but it is not an expression or a statement.\n",
    "\n",
    "    So, in summary, there are some constructs in programming languages that are used to define program structure, and these constructs are typically not expressions or statements."
   ]
  },
  {
   "attachments": {},
   "cell_type": "markdown",
   "metadata": {},
   "source": [
    "<div style=\"text-align:center\"><img src=\"https://hackmd.io/_uploads/Sy-IoYjH2.png\" width=\"700\"/></div>"
   ]
  },
  {
   "cell_type": "code",
   "execution_count": 9,
   "metadata": {},
   "outputs": [
    {
     "name": "stdout",
     "output_type": "stream",
     "text": [
      "pi = 3.141592653589793\n"
     ]
    }
   ],
   "source": [
    "from math import pi   # Neither an expression or a statement.既非運算式亦非指令\n",
    "\n",
    "print(f'{pi = }')     # both an expression and a statement.既是運算式亦是指令"
   ]
  },
  {
   "attachments": {},
   "cell_type": "markdown",
   "metadata": {},
   "source": [
    "<div style=\"color: SteelBlue; font-family: 'Ubuntu Mono', 'Inconsolata', 'Noto Sans TC'; font-size: 300%; font-weight: 700;\">\n",
    "Walrus Operators(:=)正式開鑼\n",
    "</div>\n",
    "<br>\n",
    "<div style=\"font-family: 'Inconsolata', 'Noto Sans TC'; font-size: 135%;\">\n",
    "\n",
    "* 先「正名」一下：<span style=\"font-family: 'Ubuntu Mono'; color: Crimson; font-size: 180%; font-weight: 800;\">:=</span>這個運算子，Walrus operator是俗稱，正式的「學名」稱為<span style=\"color: Gold; font-size: 110%; font-weight: 800;\">assignment expression</span>。\n",
    "* 既然名稱都標明是<span style=\"color: Gold; font-size: 110%; font-weight: 800;\">expression</span>，walurs operator顯然是在「製造」expression而非statement。\n",
    "* 這點很重要。正因它是expression，就可以在一些「需要運算式」的情境中派上用場。如果用傳統的<span style=\"font-family: 'Ubuntu Mono'; color: DodgerBlue; font-size: 180%; font-weight: 800;\">=</span>賦值運算子，該結構就肯定變成statement，無法套用於需要expression的場合。"
   ]
  },
  {
   "attachments": {},
   "cell_type": "markdown",
   "metadata": {},
   "source": [
    "<div style=\"text-align:center\"><img src=\"https://hackmd.io/_uploads/ryBYenoB2.jpg\" width=\"600\"/></div>\n"
   ]
  },
  {
   "attachments": {},
   "cell_type": "markdown",
   "metadata": {},
   "source": [
    "<div style=\"color: DarkSalmon; font-family: 'Ubuntu Mono', 'Inconsolata', 'Noto Sans TC'; font-size: 250%; font-weight: 700;\">\n",
    "Walrus Operator運作方式\n",
    "</div>\n",
    "<br>\n",
    "<div style=\"font-family: 'Inconsolata', 'Noto Sans TC'; font-size: 135%;\">\n",
    "\n",
    "* 既稱<span style=\"color: Gold; font-size: 120%; font-weight: 800;\">assignment expression</span>，它的本質當然是expression，不過也有賦值的成分。這個運算子的具體運作，是<span style=\"color: Salmon; font-size: 100%; font-weight: 500;\">將<span style=\"font-family: 'Ubuntu Mono'; color: Crimson; font-size: 120%; font-weight: 800;\">:=</span>右邊的值，賦與<span style=\"font-family: 'Ubuntu Mono'; color: Crimson; font-size: 120%; font-weight: 800;\">:=</span>左邊的variable。而整個expression的最終值，就是<span style=\"font-family: 'Ubuntu Mono'; color: Crimson; font-size: 120%; font-weight: 800;\">:=</span>左方變數的值</span>。\n",
    "* 範例："
   ]
  },
  {
   "attachments": {},
   "cell_type": "markdown",
   "metadata": {},
   "source": [
    "\n",
    "<div style=\"text-align:center\"><img src=\"https://hackmd.io/_uploads/rkHtlnjB2.jpg\" width=\"600\"/></div>\n"
   ]
  },
  {
   "cell_type": "code",
   "execution_count": 70,
   "metadata": {},
   "outputs": [
    {
     "name": "stdout",
     "output_type": "stream",
     "text": [
      "您今年65歲，可以退休養老了。\n"
     ]
    }
   ],
   "source": [
    "import random as r\n",
    "# 在walrus operator出現之前，條件判斷通常是這樣寫的：\n",
    "age = r.randint(1, 80)    # 需要有個完整的賦值statement。\n",
    "if age >= 65:    \n",
    "    print(f'您今年{age}歲，可以退休養老了。')\n",
    "elif age >= 40:\n",
    "    print(f'您今年{age}歲，可以競選總統。')\n",
    "elif age >= 20:\n",
    "    print(f'您今年{age}歲，有投票權。')    \n",
    "elif age >= 15:\n",
    "    print(f'您今年{age}歲，可以打工。')    \n",
    "else:\n",
    "    print(f'您今年{age}歲，祝快樂成長。')"
   ]
  },
  {
   "cell_type": "code",
   "execution_count": 34,
   "metadata": {},
   "outputs": [
    {
     "name": "stdout",
     "output_type": "stream",
     "text": [
      "您今年3歲，祝快樂成長。\n"
     ]
    }
   ],
   "source": [
    "import random as r\n",
    "# Assignment expression版本\n",
    "# 注意：walrus operator的優先順序非常低，和其他運算子一起用時，整個運算式\n",
    "#        的前後請「務必」加上小括號，否則會因錯誤結合而出錯。\n",
    "# if age := r.randint(1, 100) >= 65:    # 不加括號會結合錯。\n",
    "if (age := r.randint(1, 80)) >= 65:    \n",
    "    print(f'您今年{age}歲，可以退休養老了。')\n",
    "elif age >= 40:\n",
    "    print(f'您今年{age}歲，可以競選總統。')\n",
    "elif age >= 20:\n",
    "    print(f'您今年{age}歲，有投票權。')    \n",
    "elif age >= 15:\n",
    "    print(f'您今年{age}歲，可以打工。')    \n",
    "else:\n",
    "    print(f'您今年{age}歲，祝快樂成長。')"
   ]
  },
  {
   "attachments": {},
   "cell_type": "markdown",
   "metadata": {},
   "source": [
    "\n",
    "<div style=\"text-align:center\"><img src=\"https://hackmd.io/_uploads/B1erFx2sH2.jpg\" width=\"600\"/></div>\n"
   ]
  },
  {
   "attachments": {},
   "cell_type": "markdown",
   "metadata": {},
   "source": [
    "<div style=\"color: DarkSalmon; font-family: 'Ubuntu Mono', 'Inconsolata', 'Noto Sans TC'; font-size: 250%; font-weight: 700;\">\n",
    "Walrus Operator: Use Case 1\n",
    "</div>\n",
    "<br>\n",
    "<div style=\"font-family: 'Inconsolata', 'Noto Sans TC'; font-size: 135%;\">\n",
    "\n",
    "* 開檔\n"
   ]
  },
  {
   "attachments": {},
   "cell_type": "markdown",
   "metadata": {},
   "source": [
    "\n",
    "<div style=\"text-align:center\"><img src=\"https://hackmd.io/_uploads/SJGBFxhsr3.jpg\" width=\"600\"/></div>\n"
   ]
  },
  {
   "attachments": {},
   "cell_type": "markdown",
   "metadata": {},
   "source": [
    "<div style=\"color: YellowGreen; font-family: 'Ubuntu Mono', 'Inconsolata', 'Noto Sans TC'; font-size: 200%; font-weight: 700;\">\n",
    "Use Case 1: 讀取文字檔案\n",
    "</div>\n",
    "<br>\n",
    "<div style=\"font-family: 'Inconsolata', 'Noto Sans TC'; font-size: 135%;\">\n",
    "\n",
    "Python讀取文字檔案有好幾種方法，以下逐一介紹： "
   ]
  },
  {
   "attachments": {},
   "cell_type": "markdown",
   "metadata": {},
   "source": [
    "<div style=\"text-align:center\"><img src=\"https://hackmd.io/_uploads/r1GrFg2iSh.jpg\" width=\"600\"/></div>"
   ]
  },
  {
   "cell_type": "code",
   "execution_count": 73,
   "metadata": {},
   "outputs": [
    {
     "name": "stdout",
     "output_type": "stream",
     "text": [
      "|The Zen of Python, by Tim Peters|\n",
      "||\n",
      "|Beautiful is better than ugly.|\n",
      "|Explicit is better than implicit.|\n",
      "|Simple is better than complex.|\n",
      "|Complex is better than complicated.|\n",
      "|Flat is better than nested.|\n",
      "|Sparse is better than dense.|\n",
      "|Readability counts.|\n",
      "|Special cases aren't special enough to break the rules.|\n",
      "|Although practicality beats purity.|\n",
      "|Errors should never pass silently.|\n",
      "|Unless explicitly silenced.|\n",
      "|In the face of ambiguity, refuse the temptation to guess.|\n",
      "|There should be one-- and preferably only one --obvious way to do it.|\n",
      "|Although that way may not be obvious at first unless you're Dutch.|\n",
      "|Now is better than never.|\n",
      "|Although never is often better than *right* now.|\n",
      "|If the implementation is hard to explain, it's a bad idea.|\n",
      "|If the implementation is easy to explain, it may be a good idea.|\n",
      "|Namespaces are one honking great idea -- let's do more of those!|\n"
     ]
    }
   ],
   "source": [
    "# 傳統方法version 0: for loop\n",
    "# 優點：最簡潔優雅。\n",
    "# 限制：1) 剛好Python的file物件有特別提供，才能使用for loop。其實這種\n",
    "#           情形一般是用while loop處理的。\n",
    "#        2) line是帶刺('\\n')的，須自行處理。\n",
    "with open('./Zen.txt', 'r') as f:\n",
    "    # print(f'{type(f) = }\\n------')\n",
    "    for line in f:   # line是str。\n",
    "        line = line.replace('\\n', '')\n",
    "        print(f'|{line}|')"
   ]
  },
  {
   "cell_type": "code",
   "execution_count": null,
   "metadata": {},
   "outputs": [],
   "source": [
    "# 傳統方法version 1: read()\n",
    "# 優點：一次讀入整個檔案內容，不須動用loop，非常方便。\n",
    "# 缺點：1) 讀出的內容是str，如要取得每一行，須自行切割。 \n",
    "#        2) 如檔案很大，會占用較多記憶體。\n",
    "with open('./Zen.txt', 'r') as f:\n",
    "    lines = f.read()   # lines是str\n",
    "\n",
    "print(f'{type(lines) = }\\n------')\n",
    "for line in lines.split('\\n'):\n",
    "    print(f'|{line}|')"
   ]
  },
  {
   "cell_type": "code",
   "execution_count": null,
   "metadata": {},
   "outputs": [],
   "source": [
    "# 傳統方法version 2: readlines()\n",
    "# 優點：一次讀入整個檔案內容，不須動用loop，非常方便。\n",
    "# 缺點：1) 讀出的內容是list，而且每一行的最後都帶\\n換行符號，須自行處理。\n",
    "#        2) 如檔案很大，會占用較多記憶體。\n",
    "with open('./Zen.txt', 'r') as f:\n",
    "    lines = f.readlines()   # lines是list\n",
    "\n",
    "print(f'{type(lines) = }\\n------')\n",
    "for line in lines:\n",
    "    # print(line.split('\\n'))   # 這個場合用split()是自找麻煩。\n",
    "    line = line.replace('\\n', '')\n",
    "    print(f'|{line}|')"
   ]
  },
  {
   "cell_type": "code",
   "execution_count": null,
   "metadata": {},
   "outputs": [],
   "source": [
    "# 傳統方法version 3: while loop + 2個readline()'s，目的是判斷是否\n",
    "# 要進入其後的while迴圈。\n",
    "# 缺點：要寫2次readline()，不夠簡潔優雅。\n",
    "# with open('./empty.txt', 'r') as file:\n",
    "with open('./Zen.txt', 'r') as file:\n",
    "    line = file.readline()    # 讀取檔案的第1行。\n",
    "    print(f'{type(line) = }\\n------')\n",
    "    while line:\n",
    "        line = line.replace('\\n', '')\n",
    "        print(f'|{line}|')\n",
    "        line = file.readline()   # 從第2行起讀到檔案結束。"
   ]
  },
  {
   "cell_type": "code",
   "execution_count": null,
   "metadata": {},
   "outputs": [],
   "source": [
    "# 傳統方法version 4: 萬用while True(loop and a half，即「一個半迴圈」。)\n",
    "# 優點：可以避免寫兩次readline()'s。\n",
    "# 缺點：在while True中用if，不夠簡潔優雅。\n",
    "with open('./Zen.txt', 'r') as file:\n",
    "    while True:\n",
    "        line = file.readline()\n",
    "        if not line:\n",
    "            break\n",
    "        line = line.replace('\\n', '')\n",
    "        print(f'|{line}|')"
   ]
  },
  {
   "cell_type": "code",
   "execution_count": null,
   "metadata": {},
   "outputs": [],
   "source": [
    "# Walrus Operator Version\n",
    "with open('./Zen.txt', 'r') as file:\n",
    "    while line := file.readline():   # line := file.readline() 是個expression。\n",
    "        line = line.replace('\\n', '')\n",
    "        print(f'|{line}|')"
   ]
  },
  {
   "attachments": {},
   "cell_type": "markdown",
   "metadata": {},
   "source": [
    "\n",
    "<div style=\"text-align:center\"><img src=\"https://hackmd.io/_uploads/S1xStg2jHn.jpg\" width=\"600\"/></div>\n"
   ]
  },
  {
   "attachments": {},
   "cell_type": "markdown",
   "metadata": {},
   "source": [
    "<div style=\"color: YellowGreen; font-family: 'Ubuntu Mono', 'Inconsolata', 'Noto Sans TC'; font-size: 200%; font-weight: 700;\">\n",
    "Use Case 2: Filtering(過濾) a List\n",
    "</div>\n",
    "<br>\n",
    "<div style=\"font-family: 'Inconsolata', 'Noto Sans TC'; font-size: 135%;\">\n",
    "\n",
    "Walrus operators常和comprehensions一起使用："
   ]
  },
  {
   "cell_type": "code",
   "execution_count": null,
   "metadata": {},
   "outputs": [],
   "source": [
    "# 求平方\n",
    "def get_square(num: int | float) -> int | float:\n",
    "    return num ** 2\n",
    "\n",
    "old_nums = [1, 2, 3, 4, 5, 6, 7, 8, 9]\n",
    "threshold = 50\n",
    "\n",
    "new_nums = [result for num in old_nums if (result := get_square(num)) > threshold]\n",
    "print(f'{new_nums = }')"
   ]
  },
  {
   "attachments": {},
   "cell_type": "markdown",
   "metadata": {},
   "source": [
    "\n",
    "<div style=\"text-align:center\"><img src=\"https://hackmd.io/_uploads/HyZHtghjHn.jpg\" width=\"600\"/></div>\n"
   ]
  },
  {
   "attachments": {},
   "cell_type": "markdown",
   "metadata": {},
   "source": [
    "<div style=\"color: YellowGreen; font-family: 'Ubuntu Mono', 'Inconsolata', 'Noto Sans TC'; font-size: 200%; font-weight: 700;\">\n",
    "Use Case 3: Reusing a Value\n",
    "</div>\n",
    "<br>\n",
    "<div style=\"font-family: 'Inconsolata', 'Noto Sans TC'; font-size: 135%;\">\n",
    "\n",
    "還是和comprehensions一起「打混」："
   ]
  },
  {
   "cell_type": "code",
   "execution_count": null,
   "metadata": {},
   "outputs": [],
   "source": [
    "# 本例mul_by_2和rnd這兩個變數都有reused(重複使用)，如果沒有walrus operator，\n",
    "# 恐怕很難一行搞掂。\n",
    "import random as r\n",
    "from pprint import pprint\n",
    "\n",
    "def mul(num: int | float, multiplier: int) -> int | float:\n",
    "    return num * multiplier\n",
    "\n",
    "old_nums = [11, 12, 13, 14, 15]\n",
    "new_nums = [\n",
    "    {'old_num': old_num, \n",
    "     'mul_by_2': (mul_by_2 := mul(old_num, 2)), \n",
    "     'mul_by_rnd': mul_by_2 * (rnd := r.randint(5, 20)),  # reuse mul_by_2\n",
    "     'rnd': rnd                                           # reuse rnd\n",
    "    } for old_num in old_nums\n",
    "]\n",
    "print()\n",
    "pprint(new_nums, sort_dicts=False)"
   ]
  },
  {
   "cell_type": "code",
   "execution_count": null,
   "metadata": {},
   "outputs": [],
   "source": [
    "def compute_value(x):\n",
    "    return x * 2\n",
    "\n",
    "data = [1, 2, 3, 4, 5]\n",
    "processed_data = [(x, computed := compute_value(x), computed * 3) for x in data]\n",
    "print(processed_data)\n"
   ]
  },
  {
   "attachments": {},
   "cell_type": "markdown",
   "metadata": {},
   "source": [
    "\n",
    "<div style=\"text-align:center\"><img src=\"https://hackmd.io/_uploads/B1erYl3jS2.jpg\" width=\"600\"/></div>\n"
   ]
  },
  {
   "attachments": {},
   "cell_type": "markdown",
   "metadata": {},
   "source": [
    "<div style=\"color: YellowGreen; font-family: 'Ubuntu Mono', 'Inconsolata', 'Noto Sans TC'; font-size: 200%; font-weight: 700;\">\n",
    "Use Case 4: None移至末端\n",
    "</div>\n",
    "<br>\n",
    "<div style=\"font-family: 'Inconsolata', 'Noto Sans TC'; font-size: 135%;\">\n",
    "\n",
    "本例結合了walrus operator, list的長度差以及list相加等3個技術。技壓ChatGPT，它只好自嘆不如、甘拜下風。"
   ]
  },
  {
   "cell_type": "code",
   "execution_count": null,
   "metadata": {},
   "outputs": [],
   "source": [
    "# 將序列(tuple / list)中的None移至末端，其餘元素次序保持不變。\n",
    "def reorder_list(seq: tuple | list) -> list:\n",
    "    return (new_list := [item for item in seq if item is not None]) + [None]*(len(seq) - len(new_list))\n",
    "\n",
    "print()\n",
    "print(f\"{reorder_list([4, 3, None, 9, None, None, 1]) = }\")\n",
    "print(f\"{reorder_list(['None', '0', '6']) = }\")\n",
    "print()"
   ]
  },
  {
   "attachments": {},
   "cell_type": "markdown",
   "metadata": {},
   "source": [
    "\n",
    "<div style=\"text-align:center\"><img src=\"https://hackmd.io/_uploads/SyZHFe3sB2.jpg\" width=\"600\"/></div>\n"
   ]
  },
  {
   "attachments": {},
   "cell_type": "markdown",
   "metadata": {},
   "source": [
    "<div style=\"font-family: 'Gen Jyuu Gothic Monospace Medium', 'Noto Sans TC', 'Inconsolata'; font-size: 400%; font-weight: 700; text-align: center; color: Plum;\">\n",
    "<br>\n",
    "Walrus Operator暫時打住<br>\n",
    "再聊些別的...\n",
    "<br>\n",
    "</div>\n"
   ]
  },
  {
   "attachments": {},
   "cell_type": "markdown",
   "metadata": {},
   "source": [
    "\n",
    "<div style=\"text-align:center\"><img src=\"https://hackmd.io/_uploads/ByVFeniS2.png\" width=\"300\"/></div>"
   ]
  },
  {
   "attachments": {},
   "cell_type": "markdown",
   "metadata": {},
   "source": [
    "<div style=\"color: SteelBlue; font-family: 'Ubuntu Mono', 'Inconsolata', 'Noto Sans TC'; font-size: 300%; font-weight: 700;\">\n",
    "其他較少使用的運算子\n",
    "</div>\n",
    "<br>\n",
    "<div style=\"font-family: 'Inconsolata', 'Noto Sans TC'; font-size: 135%;\">\n"
   ]
  },
  {
   "attachments": {},
   "cell_type": "markdown",
   "metadata": {},
   "source": [
    "<div style=\"color: DarkSalmon; font-family: 'Ubuntu Mono', 'Inconsolata', 'Noto Sans TC'; font-size: 250%; font-weight: 700;\">\n",
    "list + str\n",
    "</div>\n",
    "\n",
    "<br>\n",
    "<div style=\"font-family: 'Inconsolata', 'Noto Sans TC'; font-size: 135%;\">\n",
    "\n",
    "list + str的運算較很少使用，剛開始筆者還以為會產生syntax error，殊不知真的可以："
   ]
  },
  {
   "cell_type": "code",
   "execution_count": null,
   "metadata": {},
   "outputs": [],
   "source": [
    "letters = ['a', 'b', 'c']\n",
    "letters += 'xyz'\n",
    "print(f'{letters = }')"
   ]
  },
  {
   "attachments": {},
   "cell_type": "markdown",
   "metadata": {},
   "source": [
    "<div style=\"color: DarkSalmon; font-family: 'Ubuntu Mono', 'Inconsolata', 'Noto Sans TC'; font-size: 250%; font-weight: 700;\">\n",
    "Ski Hat Operator(滑雪帽運算子)\n",
    "</div>\n",
    "\n",
    "<br>\n",
    "<div style=\"font-family: 'Inconsolata', 'Noto Sans TC'; font-size: 135%;\">\n",
    "\n",
    "* The <span style=\"color: Gold; font-size: 110%; font-weight: 800;\">ski hat operator</span>, written as <span style=\"color: Crimson; font-size: 150%; font-weight: 800;\">*=0</span>, can be used to empty out a variable, be it a list, string, tuple, or numeric value.\n",
    "\n",
    "* For example, after executing the following code, items will be an empty list."
   ]
  },
  {
   "cell_type": "code",
   "execution_count": null,
   "metadata": {},
   "outputs": [],
   "source": [
    "age = 39\n",
    "print(f'{age = }')\n",
    "age *= 0\n",
    "print(f'{age = }\\n')\n",
    "\n",
    "name = 'Alex'\n",
    "print(f'{id(name) = }   {name = }')\n",
    "name *= 0\n",
    "print(f'{id(name) = }   {name = }\\n')\n",
    "\n",
    "items = [1, 2, 3]\n",
    "print(f'{id(items)}   {items = }')\n",
    "items *= 0\n",
    "print(f'{id(items)}   {items = }\\n')\n",
    "\n",
    "items = (1, 2, 3)\n",
    "print(f'{id(items)}   {items = }')\n",
    "items *= 0\n",
    "print(f'{id(items)}   {items = }\\n')\n",
    "\n",
    "# 不能用在set。\n",
    "# items = {1, 2, 3}\n",
    "# print(f'{id(items)}   {items = }')\n",
    "# items *= 0\n",
    "# print(f'{id(items)}   {items = }\\n')\n",
    "\n",
    "# 不能用在dict。\n",
    "# items = {'id': 1, 'name': 'Alex', 'age': 39}\n",
    "# print(f'{id(items)}   {items = }')\n",
    "# items *= 0\n",
    "# print(f'{id(items)}   {items = }\\n')\n",
    "\n"
   ]
  },
  {
   "cell_type": "code",
   "execution_count": null,
   "metadata": {},
   "outputs": [],
   "source": [
    "items = [1, 2, 3]\n",
    "print(f'{id(items) = }   {items = }')\n",
    "print(f'{id(items[:]) = }   {items[:] = }')\n",
    "\n",
    "# 請猜下面會印出甚麼。\n",
    "# items[:5] = []\n",
    "# print(f'{items = }')"
   ]
  },
  {
   "attachments": {},
   "cell_type": "markdown",
   "metadata": {},
   "source": [
    "<div style=\"color: DarkSalmon; font-family: 'Ubuntu Mono', 'Inconsolata', 'Noto Sans TC'; font-size: 250%; font-weight: 700;\">\n",
    "Dumbbell Operator(啞鈴運算子)\n",
    "</div>\n",
    "\n",
    "<br>\n",
    "<div style=\"font-family: 'Inconsolata', 'Noto Sans TC'; font-size: 135%;\">\n",
    "\n",
    "* The <span style=\"color: Gold; font-size: 110%; font-weight: 800;\">dumbbell operator</span>, written as <span style=\"color: Crimson; font-size: 130%; font-weight: 800;\">[:]=[]</span>, can also be used to empty a list, but is not as versatile as the ski hat operator, as it only works for lists (and a few other lesser-used types).\n",
    "\n",
    "* After the following code, items will be an empty list:"
   ]
  },
  {
   "cell_type": "code",
   "execution_count": null,
   "metadata": {},
   "outputs": [],
   "source": [
    "items = [1, 2, 3]\n",
    "print(f'{items = }\\t{items[:] = }')\n",
    "print(f'{id(items) = }\\t{id(items[:]) = }')\n",
    "print(f'{items is items[:] = }\\n')\n",
    "\n",
    "print(f'{id(items) == id(items[:]) = }')"
   ]
  },
  {
   "attachments": {},
   "cell_type": "markdown",
   "metadata": {},
   "source": [
    "<div style=\"color: DarkSalmon; font-family: 'Ubuntu Mono', 'Inconsolata', 'Noto Sans TC'; font-size: 250%; font-weight: 700;\">\n",
    "Lapping Cat Operator(舔猫運算子)\n",
    "</div>\n",
    "\n",
    "<br>\n",
    "<div style=\"font-family: 'Inconsolata', 'Noto Sans TC'; font-size: 135%;\">\n",
    "\n",
    "* The <span style=\"color: Gold; font-size: 110%; font-weight: 800;\">lapping cat operator</span>, written as <span style=\"color: Crimson; font-size: 130%; font-weight: 800;\">,=,</span> picks out the first element of an iterable and asserts that the iterable has exactly one element.\n",
    "\n",
    "* After the following code, first is 1.\n",
    "\n"
   ]
  },
  {
   "cell_type": "code",
   "execution_count": null,
   "metadata": {},
   "outputs": [],
   "source": [
    "first, second = [3, 4]\n",
    "print(f'{first = }, {second = }')\n",
    "\n",
    "first = [7, 9]\n",
    "second = [5, 6]\n",
    "print(f'{first = }, {second = }')\n",
    "\n",
    "first ,= (3,)   # 只能有1個元素。\n",
    "second ,= [8]\n",
    "print(f'{first = }, {second = }')"
   ]
  },
  {
   "attachments": {},
   "cell_type": "markdown",
   "metadata": {},
   "source": [
    "<div style=\"color: SteelBlue; font-family: 'Ubuntu Mono', 'Inconsolata', 'Noto Sans TC'; font-size: 300%; font-weight: 700;\">\n",
    "幾個built-in沒提供的好用函數\n",
    "</div>\n",
    "<br>\n",
    "<div style=\"font-family: 'Inconsolata', 'Noto Sans TC'; font-size: 135%;\">"
   ]
  },
  {
   "attachments": {},
   "cell_type": "markdown",
   "metadata": {},
   "source": [
    "<div style=\"color: DarkSalmon; font-family: 'Ubuntu Mono', 'Inconsolata', 'Noto Sans TC'; font-size: 250%; font-weight: 700;\">\n",
    "矩陣轉置(Transposing a matrix)\n",
    "</div>\n",
    "\n",
    "<br>\n",
    "<div style=\"font-family: 'Inconsolata', 'Noto Sans TC'; font-size: 135%;\">\n",
    "\n",
    "* Python的standard libraries並沒有直接提供轉置矩陣的函數。\n",
    "* numpy(非Python的standard bibrary)倒是有一個built-in的transpose()函數，這大概是最直觀的方法。\n"
   ]
  },
  {
   "cell_type": "code",
   "execution_count": null,
   "metadata": {},
   "outputs": [],
   "source": [
    "import numpy as np\n",
    "\n",
    "old_matrix = np.array([[1, 2, 3], [4, 5, 6], [7, 8, 9], ['a', 'b', 'c']])\n",
    "print(f'{old_matrix = }')\n",
    "\n",
    "new_matrix = np.transpose(old_matrix)\n",
    "print(f'{new_matrix = }')"
   ]
  },
  {
   "attachments": {},
   "cell_type": "markdown",
   "metadata": {},
   "source": [
    "<div style=\"color: DarkSalmon; font-family: 'Ubuntu Mono', 'Inconsolata', 'Noto Sans TC'; font-size: 250%; font-weight: 700;\">\n",
    "矩陣轉置(Transposing a matrix)\n",
    "</div>\n",
    "\n",
    "<br>\n",
    "<div style=\"font-family: 'Inconsolata', 'Noto Sans TC'; font-size: 135%;\">\n",
    "\n",
    "但numpy的array結構如果是如下這樣會出錯。\n"
   ]
  },
  {
   "cell_type": "code",
   "execution_count": null,
   "metadata": {},
   "outputs": [],
   "source": [
    "import numpy as np\n",
    "\n",
    "old_matrix = np.array([[1, 2, 3], [4, 5, 6], [7, 8, 9], ['abc']])\n",
    "# old_matrix = np.array([[1, 2, 3], [4, 5, 6], [7, 8, 9], 'abc'])\n",
    "print(f'{old_matrix = }')\n",
    "\n",
    "new_matrix = np.transpose(old_matrix)\n",
    "print(f'{new_matrix = }')"
   ]
  },
  {
   "attachments": {},
   "cell_type": "markdown",
   "metadata": {},
   "source": [
    "<div style=\"color: DarkSalmon; font-family: 'Ubuntu Mono', 'Inconsolata', 'Noto Sans TC'; font-size: 250%; font-weight: 700;\">\n",
    "矩陣轉置(Transposing a matrix)\n",
    "</div>\n",
    "\n",
    "<br>\n",
    "<div style=\"font-family: 'Inconsolata', 'Noto Sans TC'; font-size: 135%;\">\n",
    "\n",
    "* 以下是不須動用numpy的transpose方法。\n",
    "* 注意：matrix可以用numpy的array不允許的結構。\n"
   ]
  },
  {
   "cell_type": "code",
   "execution_count": null,
   "metadata": {},
   "outputs": [],
   "source": [
    "# verbose version: 兩個for's的comprehension。\n",
    "def transpose_matrix1(matrix):\n",
    "    return [[row[i] for row in matrix] for i in range(len(matrix[0]))]\n",
    "\n",
    "# elegant version: 用zip()。\n",
    "def transpose_matrix2(matrix):\n",
    "    [print(row) for row in zip(*matrix)]\n",
    "    return [list(row) for row in zip(*matrix)]\n",
    "\n",
    "old_matrix = [(1, 2, 3), [4, 5, 6], (7, 8, 9), ['abc']]\n",
    "# old_matrix = [(1, 2, 3), [4, 5, 6], (7, 8, 9), 'abc']\n",
    "print(f'{old_matrix = }')\n",
    "new_matrix = transpose_matrix2(old_matrix)\n",
    "print(f'{new_matrix = }')"
   ]
  },
  {
   "attachments": {},
   "cell_type": "markdown",
   "metadata": {},
   "source": [
    "<div style=\"color: DarkSalmon; font-family: 'Ubuntu Mono', 'Inconsolata', 'Noto Sans TC'; font-size: 250%; font-weight: 700;\">\n",
    "刪除所有同值元素\n",
    "</div>\n",
    "\n",
    "<br>\n",
    "<div style=\"font-family: 'Inconsolata', 'Noto Sans TC'; font-size: 135%;\">\n"
   ]
  },
  {
   "cell_type": "code",
   "execution_count": null,
   "metadata": {},
   "outputs": [],
   "source": [
    "# remove all items with the same vallue.\n",
    "def remove_all(item, seq):\n",
    "    \"\"\"Return a copy of seq (or string) with all occurences of item removed.\"\"\"\n",
    "    if isinstance(seq, str):\n",
    "        return seq.replace(item, '')\n",
    "    else:\n",
    "        return [x for x in seq if x != item]\n",
    "\n",
    "item = 3\n",
    "seq = (9, 4, 3, 0, 7, 2, 3, 7, 33, 3, 7, '3', 0, 3.0)\n",
    "remove_all(item, seq)"
   ]
  },
  {
   "attachments": {},
   "cell_type": "markdown",
   "metadata": {},
   "source": [
    "<div style=\"color: DarkSalmon; font-family: 'Ubuntu Mono', 'Inconsolata', 'Noto Sans TC'; font-size: 250%; font-weight: 700;\">\n",
    "計算有多少解譯成True的items\n",
    "</div>\n",
    "\n",
    "<br>\n",
    "<div style=\"font-family: 'Inconsolata', 'Noto Sans TC'; font-size: 135%;\">"
   ]
  },
  {
   "cell_type": "code",
   "execution_count": null,
   "metadata": {},
   "outputs": [],
   "source": [
    "# 計算seq內有幾個可以解譯(interpreted)為True的items。\n",
    "def count_true(seq):\n",
    "    \"\"\"Count the number of items in sequence that are interpreted as True.\"\"\"\n",
    "    return sum(bool(x) for x in seq)\n",
    "\n",
    "seq = ()\n",
    "print(f'{seq = }')\n",
    "print(f'{count_true(seq) = }\\n')\n",
    "\n",
    "seq = (3, 0.0, None, True, '0', ' ', False, [], '', -1, (), (0), (0,), {})\n",
    "print(f'{seq = }')\n",
    "print(f'{count_true(seq) = }\\n')\n",
    "\n",
    "seq = (0, {}, set(), range(0))\n",
    "print(f'{seq = }')\n",
    "print(f'{count_true(seq) = }\\n')"
   ]
  },
  {
   "cell_type": "markdown",
   "metadata": {},
   "source": []
  },
  {
   "cell_type": "code",
   "execution_count": 10,
   "metadata": {},
   "outputs": [
    {
     "name": "stdout",
     "output_type": "stream",
     "text": [
      "Break loop, no else!\n",
      "The loop did not break!\n"
     ]
    }
   ],
   "source": [
    "for i in range(10):\n",
    "    if i == 5:\n",
    "        print(\"Break loop, no else!\")\n",
    "        break\n",
    "else:\n",
    "    print(\"This won't be called.\")\n",
    "\n",
    "for i in range(10):\n",
    "    if i == 10:\n",
    "        print(\"This won't be called\")\n",
    "        break\n",
    "else:\n",
    "    print(\"The loop did not break!\")"
   ]
  },
  {
   "attachments": {},
   "cell_type": "markdown",
   "metadata": {},
   "source": [
    "\n",
    "<div style=\"text-align:center\"><img src=\"https://hackmd.io/_uploads/S1WrKe3sSh.jpg\" width=\"600\"/></div>\n"
   ]
  },
  {
   "cell_type": "code",
   "execution_count": 27,
   "metadata": {},
   "outputs": [
    {
     "data": {
      "text/plain": [
       "Ellipsis"
      ]
     },
     "execution_count": 27,
     "metadata": {},
     "output_type": "execute_result"
    },
    {
     "data": {
      "text/plain": [
       "Ellipsis"
      ]
     },
     "execution_count": 27,
     "metadata": {},
     "output_type": "execute_result"
    }
   ],
   "source": [
    "...   # 等等，諸如此類\n",
    "Ellipsis"
   ]
  },
  {
   "cell_type": "code",
   "execution_count": 23,
   "metadata": {},
   "outputs": [
    {
     "data": {
      "text/plain": [
       "{'a': 5, 'b': 7}"
      ]
     },
     "execution_count": 23,
     "metadata": {},
     "output_type": "execute_result"
    },
    {
     "data": {
      "text/plain": [
       "True"
      ]
     },
     "execution_count": 23,
     "metadata": {},
     "output_type": "execute_result"
    },
    {
     "name": "stdout",
     "output_type": "stream",
     "text": [
      "10729960  10729992  10730024  10730056  10730088  10730120  10730152  10730184  10730216  "
     ]
    }
   ],
   "source": [
    "a = { \"a\": 5, \"b\": 6 }\n",
    "id1 = id(a)\n",
    "b = { \"b\": 7 }\n",
    "a.update(b)\n",
    "# a = a | b\n",
    "a\n",
    "id2 = id(a)\n",
    "id1 == id2\n",
    "for i in range(9):\n",
    "    print(id(i), end='  ')"
   ]
  },
  {
   "cell_type": "code",
   "execution_count": 24,
   "metadata": {},
   "outputs": [],
   "source": [
    "assert Ellipsis == ..."
   ]
  },
  {
   "attachments": {},
   "cell_type": "markdown",
   "metadata": {},
   "source": [
    "\n",
    "<div style=\"text-align:center\"><img src=\"https://hackmd.io/_uploads/S1HKehiB2.jpg\" width=\"600\"/></div>\n"
   ]
  },
  {
   "attachments": {},
   "cell_type": "markdown",
   "metadata": {},
   "source": [
    "\n",
    "<div style=\"text-align:center\"><img src=\"https://hackmd.io/_uploads/r1lrYe3oSh.jpg\" width=\"600\"/></div>\n"
   ]
  },
  {
   "cell_type": "code",
   "execution_count": null,
   "metadata": {},
   "outputs": [],
   "source": []
  },
  {
   "attachments": {},
   "cell_type": "markdown",
   "metadata": {},
   "source": [
    "\n",
    "<div style=\"text-align:center\"><img src=\"https://hackmd.io/_uploads/SJSYl3jrn.jpg\" width=\"600\"/></div>\n"
   ]
  },
  {
   "cell_type": "code",
   "execution_count": null,
   "metadata": {},
   "outputs": [],
   "source": []
  },
  {
   "attachments": {},
   "cell_type": "markdown",
   "metadata": {},
   "source": [
    "\n",
    "<div style=\"text-align:center\"><img src=\"https://hackmd.io/_uploads/rkMHYe2sr2.jpg\" width=\"600\"/></div>\n"
   ]
  },
  {
   "cell_type": "code",
   "execution_count": null,
   "metadata": {},
   "outputs": [],
   "source": []
  },
  {
   "attachments": {},
   "cell_type": "markdown",
   "metadata": {},
   "source": [
    "\n",
    "<div style=\"text-align:center\"><img src=\"https://hackmd.io/_uploads/BkHtxnjr2.jpg\" width=\"600\"/></div>\n"
   ]
  },
  {
   "cell_type": "code",
   "execution_count": null,
   "metadata": {},
   "outputs": [],
   "source": []
  },
  {
   "attachments": {},
   "cell_type": "markdown",
   "metadata": {},
   "source": [
    "\n",
    "<div style=\"text-align:center\"><img src=\"https://hackmd.io/_uploads/SkxHFg2sr2.jpg\" width=\"600\"/></div>\n"
   ]
  },
  {
   "cell_type": "code",
   "execution_count": null,
   "metadata": {},
   "outputs": [],
   "source": []
  },
  {
   "attachments": {},
   "cell_type": "markdown",
   "metadata": {},
   "source": [
    "\n",
    "<div style=\"text-align:center\"><img src=\"https://hackmd.io/_uploads/S1rKg3sH2.jpg\" width=\"600\"/></div>\n"
   ]
  },
  {
   "cell_type": "code",
   "execution_count": null,
   "metadata": {},
   "outputs": [],
   "source": []
  },
  {
   "attachments": {},
   "cell_type": "markdown",
   "metadata": {},
   "source": [
    "\n",
    "<div style=\"text-align:center\"><img src=\"https://hackmd.io/_uploads/r1lSFx2srn.jpg\" width=\"600\"/></div>\n"
   ]
  },
  {
   "cell_type": "code",
   "execution_count": null,
   "metadata": {},
   "outputs": [],
   "source": []
  },
  {
   "attachments": {},
   "cell_type": "markdown",
   "metadata": {},
   "source": [
    "\n",
    "<div style=\"text-align:center\"><img src=\"https://hackmd.io/_uploads/HySFe2sr2.jpg\" width=\"600\"/></div>\n"
   ]
  },
  {
   "attachments": {},
   "cell_type": "markdown",
   "metadata": {},
   "source": [
    "\n",
    "<div style=\"text-align:center\"><img src=\"https://hackmd.io/_uploads/rklSYg3oHh.jpg\" width=\"600\"/></div>\n"
   ]
  },
  {
   "attachments": {},
   "cell_type": "markdown",
   "metadata": {},
   "source": [
    "\n",
    "<div style=\"text-align:center\"><img src=\"https://hackmd.io/_uploads/BybHFenjr2.jpg\" width=\"600\"/></div>\n"
   ]
  },
  {
   "attachments": {},
   "cell_type": "markdown",
   "metadata": {},
   "source": [
    "\n",
    "<div style=\"text-align:center\"><img src=\"https://hackmd.io/_uploads/ByMBFg3iBh.png\" width=\"600\"/></div>\n"
   ]
  },
  {
   "attachments": {},
   "cell_type": "markdown",
   "metadata": {},
   "source": [
    "\n",
    "<div style=\"text-align:center\"><img src=\"https://hackmd.io/_uploads/rkbrtx3iS3.png\" width=\"600\"/></div>\n"
   ]
  },
  {
   "attachments": {},
   "cell_type": "markdown",
   "metadata": {},
   "source": [
    "\n",
    "<div style=\"text-align:center\"><img src=\"https://hackmd.io/_uploads/rJlBYxnjH3.png\" width=\"600\"/></div>\n"
   ]
  },
  {
   "attachments": {},
   "cell_type": "markdown",
   "metadata": {},
   "source": [
    "\n",
    "<div style=\"text-align:center\"><img src=\"https://hackmd.io/_uploads/SJSFxhsB3.png\" width=\"600\"/></div>\n"
   ]
  },
  {
   "attachments": {},
   "cell_type": "markdown",
   "metadata": {},
   "source": [
    "\n",
    "<div style=\"text-align:center\"><img src=\"https://hackmd.io/_uploads/SJZrtg3srn.png\" width=\"600\"/></div>\n"
   ]
  },
  {
   "attachments": {},
   "cell_type": "markdown",
   "metadata": {},
   "source": [
    "\n",
    "<div style=\"text-align:center\"><img src=\"https://hackmd.io/_uploads/HyWrKxhsrh.png\" width=\"600\"/></div>\n"
   ]
  },
  {
   "attachments": {},
   "cell_type": "markdown",
   "metadata": {},
   "source": [
    "\n",
    "<div style=\"text-align:center\"><img src=\"https://hackmd.io/_uploads/ry7HtehiS3.png\" width=\"600\"/></div>\n"
   ]
  },
  {
   "attachments": {},
   "cell_type": "markdown",
   "metadata": {},
   "source": [
    "\n",
    "<div style=\"text-align:center\"><img src=\"https://hackmd.io/_uploads/B1ZrYg3oH2.png\" width=\"600\"/></div>\n"
   ]
  },
  {
   "attachments": {},
   "cell_type": "markdown",
   "metadata": {},
   "source": [
    "\n",
    "<div style=\"text-align:center\"><img src=\"https://hackmd.io/_uploads/BkfrKl3sS3.png\" width=\"600\"/></div>\n"
   ]
  },
  {
   "attachments": {},
   "cell_type": "markdown",
   "metadata": {},
   "source": [
    "\n",
    "<div style=\"text-align:center\"><img src=\"https://hackmd.io/_uploads/SJzHKlhjBn.png\" width=\"600\"/></div>\n"
   ]
  }
 ],
 "metadata": {
  "kernelspec": {
   "display_name": "Python 3",
   "language": "python",
   "name": "python3"
  },
  "language_info": {
   "codemirror_mode": {
    "name": "ipython",
    "version": 3
   },
   "file_extension": ".py",
   "mimetype": "text/x-python",
   "name": "python",
   "nbconvert_exporter": "python",
   "pygments_lexer": "ipython3",
   "version": "3.11.3"
  },
  "orig_nbformat": 4
 },
 "nbformat": 4,
 "nbformat_minor": 2
}
