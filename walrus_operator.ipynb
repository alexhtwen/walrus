{
 "cells": [
  {
   "cell_type": "code",
   "execution_count": 34,
   "metadata": {},
   "outputs": [
    {
     "data": {
      "application/javascript": "// 設定output文字顏色。\ndocument.styleSheets[0].addRule('body', 'color: #87CEFA !important;')\n",
      "text/plain": [
       "<IPython.core.display.Javascript object>"
      ]
     },
     "metadata": {},
     "output_type": "display_data"
    }
   ],
   "source": [
    "%%javascript\n",
    "// 設定output文字顏色。\n",
    "document.styleSheets[0].addRule('body', 'color: #87CEFA !important;')"
   ]
  },
  {
   "attachments": {},
   "cell_type": "markdown",
   "metadata": {},
   "source": [
    "<div style=\"text-align:center\"><img src=\"https://hackmd.io/_uploads/HJsUHmqEn.jpg\" width=\"700\"/></div>"
   ]
  },
  {
   "attachments": {},
   "cell_type": "markdown",
   "metadata": {},
   "source": [
    "<div style=\"font-family: 'Gen Jyuu Gothic Monospace Medium', 'Noto Sans TC', 'Inconsolata'; font-size: 400%; font-weight: 700; text-align: center; color: Plum;\">\n",
    "<br>\n",
    "詳談 Walrus Operator\n",
    "<br>\n",
    "<br>\n",
    "<br>\n",
    "<!-- <div style=\"font-family: 'Inconsolata', 'Noto Sans TC'; font-size: 180%; text-align: center;\"> -->\n",
    "\n",
    "</div>"
   ]
  },
  {
   "attachments": {},
   "cell_type": "markdown",
   "metadata": {},
   "source": [
    "<div style=\"text-align:center\"><img src=\"https://hackmd.io/_uploads/Bki8SQ54h.jpg\" width=\"700\"/></div>"
   ]
  },
  {
   "attachments": {},
   "cell_type": "markdown",
   "metadata": {},
   "source": [
    "<div style=\"color: SteelBlue; font-family: 'Ubuntu Mono', 'Inconsolata', 'Noto Sans TC'; font-size: 300%; font-weight: 700;\">\n",
    "先講幾個術語\n",
    "</div>\n",
    "<br>\n",
    "<div style=\"font-family: 'Inconsolata', 'Noto Sans TC'; font-size: 135%; color: Gainsboro\">\n",
    "\n",
    "* 在進入本文主題前，先釐清幾個程式語言上的術語和觀念：\n",
    "    * Literals vs Variables\n",
    "    * Expressions vs Statements\n",
    " "
   ]
  },
  {
   "attachments": {},
   "cell_type": "markdown",
   "metadata": {},
   "source": [
    "<div style=\"text-align:center\"><img src=\"https://hackmd.io/_uploads/BkiLBm5N2.jpg\" width=\"700\"/></div>"
   ]
  },
  {
   "attachments": {},
   "cell_type": "markdown",
   "metadata": {},
   "source": [
    "<div style=\"color: DarkSalmon; font-family: 'Ubuntu Mono', 'Inconsolata', 'Noto Sans TC'; font-size: 250%; font-weight: 700;\">\n",
    "Literals(定數) vs Variables(變數)\n",
    "</div>\n",
    "<br>\n",
    "<div style=\"font-family: 'Inconsolata', 'Noto Sans TC'; font-size: 135%; color: Gainsboro\">\n",
    "\n",
    "In programming languages, the terms <span style=\"color: Crimson; font-size: 110%; font-weight: 800;\">literal</span> and <span style=\"color: Crimson; font-size: 110%; font-weight: 800;\">variable</span> refer to two different kinds of elements that you can use to store and manipulate data."
   ]
  },
  {
   "attachments": {},
   "cell_type": "markdown",
   "metadata": {},
   "source": [
    "<div style=\"text-align:center\"><img src=\"https://hackmd.io/_uploads/SkoUBXc4h.jpg\"\n",
    " width=\"700\"/></div>"
   ]
  },
  {
   "attachments": {},
   "cell_type": "markdown",
   "metadata": {},
   "source": [
    "<div style=\"color: YellowGreen; font-family: 'Ubuntu Mono', 'Inconsolata', 'Noto Sans TC'; font-size: 200%; font-weight: 700;\">\n",
    "Literals(定數)\n",
    "</div>\n",
    "<br>\n",
    "<div style=\"font-family: 'Inconsolata', 'Noto Sans TC'; font-size: 135%; color: Gainsboro\">\n",
    "\n",
    "A <span style=\"color: Crimson; font-size: 110%; font-weight: 800;\">literal</span> is a notation for representing a <span style=\"color: Crimson; font-size: 110%; font-weight: 800;\">fixed value(固定值)</span> in source code. They are called literals because they are 'literal'(「字面上」) representations of values. For instance, in the code `name = 'Alex'` and `age = 39`, <span style=\"color: Gold; font-size: 110%; font-weight: 800;\">'Alex'</span> and <span style=\"color: Gold; font-size: 110%; font-weight: 800;\">39</span> are literals.  They are specific, fixed values written into the code. Literals can be of different types such as:\n",
    "    \n",
    "<div style=\"color: LightSkyBlue; text-align:left; font-size: 90%; \"> \n",
    "\n",
    "|定數型別|範例|\n",
    "|--|--|\n",
    "|int literal |1, 2, 3|\n",
    "|float literal |1.1, 2.2, 3.3|\n",
    "|str literal |'hello', 'world'|\n",
    "|bool literal |True, False|\n",
    "|NoneType literal|None|\n",
    "|list literal|[1, 2, 3], ['Alex']|\n",
    "|tuple literal|(1, 2, 3), ('Alex',)|\n",
    "|set literal|{4, 9, 3}, {'a', 'z'}|\n",
    "|dict literal|{'id': 1, 'name': 'Alex'}, {0: 1, 1: 3}|\n",
    "</div>"
   ]
  },
  {
   "attachments": {},
   "cell_type": "markdown",
   "metadata": {},
   "source": [
    "<div style=\"text-align:center\"><img src=\"https://hackmd.io/_uploads/SyoIBX5Vn.jpg\" width=\"700\"/></div>"
   ]
  },
  {
   "attachments": {},
   "cell_type": "markdown",
   "metadata": {},
   "source": [
    "<div style=\"color: YellowGreen; font-family: 'Ubuntu Mono', 'Inconsolata', 'Noto Sans TC'; font-size: 200%; font-weight: 700;\">\n",
    "Variables(變數)\n",
    "</div>\n",
    "<br>\n",
    "\n",
    "<div style=\"font-family: 'Inconsolata', 'Noto Sans TC'; font-size: 135%; color: Gainsboro\">\n",
    "\n",
    "A <span style=\"color: Crimson; font-size: 110%; font-weight: 800;\">variable</span>, on the other hand, is a <span style=\"color: Crimson; font-size: 110%; font-weight: 800;\">symbolic name</span> for a memory location where a programmer can store, retrieve and manipulate data. The value of a variable can change throughout the execution of a program. In the same examples `name = 'Alex'` and `age = 39`, <font color=gold><b>name</font> and <font color=gold><b>age</font> are both variables. The <font color=gold><b>name</font> and <font color=gold><b>age</font> symbols are stand-ins for whatever value are currently stored in the memory locations that they represent.\n",
    "</div>\n"
   ]
  },
  {
   "attachments": {},
   "cell_type": "markdown",
   "metadata": {},
   "source": [
    "<div style=\"text-align:center\"><img src=\"https://hackmd.io/_uploads/Hkj8BmcEn.jpg\" width=\"700\"/></div>"
   ]
  },
  {
   "attachments": {},
   "cell_type": "markdown",
   "metadata": {},
   "source": [
    "<div style=\"color: YellowGreen; font-family: 'Ubuntu Mono', 'Inconsolata', 'Noto Sans TC'; font-size: 200%; font-weight: 700;\">\n",
    "Comparison Between literals and variables\n",
    "</div>\n",
    "<br>\n",
    "<div style=\"font-family: 'Inconsolata', 'Noto Sans TC'; font-size: 135%; color: Gainsboro\">\n",
    "\n",
    "* <span style=\"color: Salmon; font-size: 110%; font-weight: 800;\">Literals are fixed values</span> used in code, whereas <span style=\"color: Salmon; font-size: 110%; font-weight: 800;\">variables are symbolic names</span> for memory locations whose values can be changed.\n",
    "Literals don't change their values during the execution of a program. Variables, in contrast, can be assigned different values.\n",
    "* Variables can hold the values of literals. For instance, in the line `name = 'Alex'`, name is a variable that is holding the string literal <span style=\"color: Gold; font-size: 110%; font-weight: 800;\">'Alex'</span>.\n",
    "* 變數variables是用「名稱」來代表某個位址的記憶體內容；而定數literals則為「固定值」，不可以有名稱(一旦冠名就成變數)。\n",
    "* 變數的命名，必須遵守程式語言的規範。通常不可以用數字開頭，整個名稱都不可以有空白和各種符號(底線除外)。當然長度也有限制，不過現代的程式語言，變數名稱都可以很長。另外，Python的變數可以用中文命名，但筆者強烈建議不要用中文，乖乖用英數命名較為妥當。\n",
    "* 在賦值指令中，Literals只能出現在<span style=\"color: Pink; font-size: 150%; font-weight: 800;\">=</span>(含<span style=\"color: Pink; font-size: 120%; font-weight: 800;\">+=</span>, <span style=\"color: Pink; font-size: 120%; font-weight: 800;\">-=</span>等)的右邊；variables則左右逢源，在<span style=\"color: Pink; font-size: 150%; font-weight: 800;\">=</span>的兩邊均屬合法：\n",
    "    * <span style=\"color: #28A428; font-size: 130%; font-weight: 800;\">✓ name = 'Alex'</span>\n",
    "    * <span style=\"color: #993232; font-size: 130%; font-weight: 800;\">✗ 'Alex' = name</span>\n",
    "    ---\n",
    "    * <span style=\"color: #28A428; font-size: 130%; font-weight: 800;\">✓ age = age + 1</span>\n",
    "    * <span style=\"color: #993232; font-size: 130%; font-weight: 800;\">✗ age + 1 = age</span>\n",
    "    ---\n",
    "    * <span style=\"color: #28A428; font-size: 130%; font-weight: 800;\">✓ age += 1</span>\n",
    "    * <span style=\"color: #993232; font-size: 130%; font-weight: 800;\">✗ 1 += age</span>\n"
   ]
  },
  {
   "cell_type": "code",
   "execution_count": 16,
   "metadata": {},
   "outputs": [
    {
     "ename": "SyntaxError",
     "evalue": "cannot assign to literal here. Maybe you meant '==' instead of '='? (1972984807.py, line 5)",
     "output_type": "error",
     "traceback": [
      "\u001b[0;36m  Cell \u001b[0;32mIn[16], line 5\u001b[0;36m\u001b[0m\n\u001b[0;31m    'Alex' = name\u001b[0m\n\u001b[0m    ^\u001b[0m\n\u001b[0;31mSyntaxError\u001b[0m\u001b[0;31m:\u001b[0m cannot assign to literal here. Maybe you meant '==' instead of '='?\n"
     ]
    }
   ],
   "source": [
    "# Literals只能出現在'='(含'+=', '-='等)的右邊；variables則左右逢源，\n",
    "# 在=的兩邊均屬合法。\n",
    "\n",
    "name = 'Alex'\n",
    "'Alex' = name\n",
    "\n",
    "age = 38\n",
    "age = age + 1\n",
    "age + 1 = age\n",
    "\n",
    "age += 1\n",
    "1 += age"
   ]
  },
  {
   "attachments": {},
   "cell_type": "markdown",
   "metadata": {},
   "source": [
    "<div style=\"color: YellowGreen; font-family: 'Ubuntu Mono', 'Inconsolata', 'Noto Sans TC'; font-size: 200%; font-weight: 700;\">\n",
    "Literals vs Variables結束\n",
    "</div>\n",
    "<br>\n",
    "<div style=\"font-family: 'Inconsolata', 'Noto Sans TC'; font-size: 135%; color: Gainsboro\">\n",
    "\n",
    "* 兩者區分一目瞭然，不再浪費時間。\n",
    "* 以下介紹另一重要概念：\n",
    "    * <span style=\"color: Gold; font-size: 110%; font-weight: 800;\">expressions vs statements</span>\n"
   ]
  },
  {
   "attachments": {},
   "cell_type": "markdown",
   "metadata": {},
   "source": [
    "<div style=\"text-align:center\"><img src=\"https://hackmd.io/_uploads/BJFtB7qNn.jpg\" width=\"700\"/></div>"
   ]
  },
  {
   "attachments": {},
   "cell_type": "markdown",
   "metadata": {},
   "source": [
    "<div style=\"color: DarkSalmon; font-family: 'Ubuntu Mono', 'Inconsolata', 'Noto Sans TC'; font-size: 250%; font-weight: 700;\">\n",
    "Expressions vs Statements\n",
    "</div>\n",
    "<br>\n",
    "<div style=\"font-family: 'Inconsolata', 'Noto Sans TC'; font-size: 135%; color: Gainsboro\">\n",
    "\n",
    "Expressions are used to represent values and computations that evaluate to a single value, while statements are used to perform actions and can include one or more expressions as part of their syntax.\n"
   ]
  },
  {
   "attachments": {},
   "cell_type": "markdown",
   "metadata": {},
   "source": [
    "<div style=\"text-align:center\"><img src=\"https://hackmd.io/_uploads/SkPUWLCr2.jpg\" width=\"700\"/></div>"
   ]
  },
  {
   "attachments": {},
   "cell_type": "markdown",
   "metadata": {},
   "source": [
    "<div style=\"color: YellowGreen; font-family: 'Ubuntu Mono', 'Inconsolata', 'Noto Sans TC'; font-size: 200%; font-weight: 700;\">\n",
    "Expressions(運算式)\n",
    "</div>\n",
    "<br>\n",
    "<div style=\"font-family: 'Inconsolata', 'Noto Sans TC'; font-size: 135%; color: Gainsboro\">\n",
    "\n",
    "* In programming, <span style=\"color: Salmon; font-size: 110%; font-weight: 800;\">an expression is a combination of one or more literals, variables, operators(註1), and function calls that evaluate to a single value(註2)</span>. \n",
    "* Expressions can be used in a variety of contexts, such as assigning a value to a variable, passing arguments to a function, or as part of a larger expression. For example, in the following Python code, <font color=gold><b>2 + 3</b></font> is an expression that evaluates to 5:\n",
    "    <div style=\"text-align: left; color: SkyBlue; font-size: 110%; font-weight: 800;\">\n",
    "    x = 2 + 3\n",
    "    </div>\n",
    "    <br>\n",
    "* Examples of function calls:\n",
    "    <div style=\"text-align: left; color: SkyBlue; font-size: 110%; font-weight: 800;\">\n",
    "    type(x)&nbsp;&nbsp;&nbsp;&nbsp;&nbsp;&nbsp;&nbsp;&nbsp;&nbsp;&nbsp;&nbsp;&nbsp;<span style=\"font-size: 90%; color: #6a9955;\"># 傳回class 'int'(型別是type)</span><br>\n",
    "    print('Hello')&nbsp;&nbsp;&nbsp;&nbsp;&nbsp;<span style=\"font-size: 90%; color: #6a9955;\"># 傳回class 'NoneType'(型別是NoneType)</span>\n",
    "    </div>\n",
    "    <br>\n",
    "\n",
    "<font color=#343434>\n",
    "\n",
    "---\n",
    "\n",
    "</font>\n",
    "\n",
    "註1：\n",
    "* In the definition of an expression, <span style=\"color: Salmon; font-size: 110%; font-weight: 800;\">assignment operators like <span style=\"color: Crimson; font-size: 120%;\">=</span>, <span style=\"color: Crimson; font-size: 120%;\">+=</span>, <span style=\"color: Crimson; font-size: 120%;\">-=</span>, <span style=\"color: Crimson; font-size: 120%;\">++</span>, <span style=\"color: Crimson; font-size: 120%;\">--</span>, and other similar operators are typically excluded</span>.\n",
    "* Assignment operators are used to assign values to variables and do not themselves produce a value that can be used as part of a larger expression. They are considered as statements or assignment operations, rather than being part of an expression that evaluates to a single value.\n",
    "\n",
    "註2：\n",
    "\n",
    "> In programming, an expression is a combination of one or more literals, variables, operators, and function calls that evaluate to <span style=\"color: Salmon; font-size: 110%; font-weight: 800;\">a single value</span>. \n",
    "\n",
    "* 以這個定義，一個expression經過evaluation(評量、判斷、運算)後，必須得到一個單一的值(a single value)。\n",
    "* 可是Python的函數是允許傳回多個值的呀，那麼，傳回多值的函數呼叫(function calls)，還算是expressions嗎？\n",
    "* 誰能回答這個問題？"
   ]
  },
  {
   "cell_type": "code",
   "execution_count": null,
   "metadata": {},
   "outputs": [],
   "source": [
    "from math import pi\n",
    "def get_circumference_area(r: int | float):\n",
    "    return 2 * pi * r, pi * (r**2)   # 傳回圓的周長和面積兩個值。\n",
    "\n",
    "print(get_circumference_area(7.3))"
   ]
  },
  {
   "cell_type": "code",
   "execution_count": null,
   "metadata": {},
   "outputs": [],
   "source": [
    "x = 2 + 3\n",
    "print(type(x))       # <class 'int'>\n",
    "print(type(None))    # <class 'NoneType'>\n",
    "print(t := type('hello'))    # <class 'str'>\n",
    "print(t)                     # <class 'str'>\n",
    "print(type(t))               # <class 'type'>\n",
    "\n",
    "def cube(n: int | float) -> int | float:\n",
    "    return n ** 3\n",
    "\n",
    "print(cube(2))"
   ]
  },
  {
   "cell_type": "code",
   "execution_count": null,
   "metadata": {},
   "outputs": [],
   "source": [
    "# 不寫傳回值，Python會自己傳回None。\n",
    "def func():\n",
    "    ...\n",
    "    \n",
    "type(func())"
   ]
  },
  {
   "attachments": {},
   "cell_type": "markdown",
   "metadata": {},
   "source": [
    "<div style=\"text-align:center\"><img src=\"https://hackmd.io/_uploads/H1iIHQcV2.jpg\" width=\"700\"/></div>"
   ]
  },
  {
   "attachments": {},
   "cell_type": "markdown",
   "metadata": {},
   "source": [
    "<div style=\"color: YellowGreen; font-family: 'Ubuntu Mono', 'Inconsolata', 'Noto Sans TC'; font-size: 200%; font-weight: 700;\">\n",
    "Statements(指令)\n",
    "</div>\n",
    "<br>\n",
    "<div style=\"font-family: 'Inconsolata', 'Noto Sans TC'; font-size: 135%; color: Gainsboro\">\n",
    "\n",
    "* In contrast, <span style=\"color: Salmon; font-size: 110%; font-weight: 800;\">a statement is a complete instruction that performs a specific <span style=\"color: Crimson; font-size: 150%; font-weight: 900; text-decoration: underline dotted\n",
    " #F9DD94;\">action</span></span>. Statements are typically composed of one or more expressions, along with keywords and other syntaxes that specify the operation to be performed. For example, the following Python code contains a statement that assigns a value to a variable:\n",
    "    <div style=\"text-align: left; color: SkyBlue; font-size: 150%; font-weight: 800;\">\n",
    "    x = 5\n",
    "    </div>\n",
    "* In this case, the entire line <span style=\"color: Gold; font-size: 110%; font-weight: 800;\">x = 5</span> is a <span style=\"color: Salmon; font-size: 110%; font-weight: 800;\">statement that assigns the value 5 to the variable x</span>.\n",
    "* 一個辨別expression和statement的簡單方式：只要看到賦值運算子<span style=\"font-family: 'Ubuntu Mono'; color: Crimson; font-size: 180%; font-weight: 800;\">=</span>，就可肯定這必是statement無疑，因為expression是不可能包含賦值運算子的。"
   ]
  },
  {
   "attachments": {},
   "cell_type": "markdown",
   "metadata": {},
   "source": [
    "<div style=\"text-align:center\"><img src=\"https://hackmd.io/_uploads/ryG-osjrn.jpg\" width=\"700\"/></div>"
   ]
  },
  {
   "attachments": {},
   "cell_type": "markdown",
   "metadata": {},
   "source": [
    "<div style=\"color: YellowGreen; font-family: 'Ubuntu Mono', 'Inconsolata', 'Noto Sans TC'; font-size: 200%; font-weight: 700;\">\n",
    "More Examples on Expressions and Statements\n",
    "</div>\n",
    "<br>\n",
    "<div style=\"font-family: 'Inconsolata', 'Noto Sans TC'; font-size: 135%; color: Gainsboro\">\n",
    "\n",
    "* Expressions:\n",
    "    * <div style=\"text-align: left; color: SkyBlue; font-size: 100%; font-weight: 800;\">pi * r**2</span>\n",
    "    * <div style=\"text-align: left; color: SkyBlue; font-size: 100%; font-weight: 800;\">2 * pi * r</span>\n",
    "    * <div style=\"text-align: left; color: SkyBlue; font-size: 100%; font-weight: 800;\">first_name + last_name</span>\n",
    "    * <div style=\"text-align: left; color: SkyBlue; font-size: 100%; font-weight: 800;\">f'Hello, {name}'</span>\n",
    "* Statements:\n",
    "    * <div style=\"text-align: left; color: SkyBlue; font-size: 100%; font-weight: 800;\">score += 10</span>\n",
    "    * <div style=\"text-align: left; color: SkyBlue; font-size: 100%; font-weight: 800;\">if x > 10:</span>\n",
    "    * <div style=\"text-align: left; color: SkyBlue; font-size: 100%; font-weight: 800;\">while True:</span>\n",
    "    * <div style=\"text-align: left; color: SkyBlue; font-size: 100%; font-weight: 800;\">for i in range(9):</span>"
   ]
  },
  {
   "attachments": {},
   "cell_type": "markdown",
   "metadata": {},
   "source": [
    "<div style=\"text-align:center\"><img src=\"https://hackmd.io/_uploads/B1jISX9E3.jpg\" width=\"700\"/></div>"
   ]
  },
  {
   "attachments": {},
   "cell_type": "markdown",
   "metadata": {},
   "source": [
    "<div style=\"color: YellowGreen; font-family: 'Ubuntu Mono', 'Inconsolata', 'Noto Sans TC'; font-size: 200%; font-weight: 700;\">\n",
    "既是Expression也是Statement-1\n",
    "</div>\n",
    "<br>\n",
    "<div style=\"font-family: 'Inconsolata', 'Noto Sans TC'; font-size: 135%; color: Gainsboro\">\n",
    "\n",
    "有些語法結構兼具expression和statement性質，視其context而定。例如：\n",
    "* In Python, the <span style=\"color: Crimson; font-size: 135%; font-weight: 800;\">if</span> <span style=\"color: Salmon; font-size: 110%; font-weight: 800;\">can be used as a statement</span> to control the flow of execution in a program, like this:\n",
    "    <!-- <div style=\"text-align:left\"><img src=\"https://hackmd.io/_uploads/HJw0UIir3.png\" width=\"570\"/></div> -->\n",
    "    <div style=\"text-align: left; color: SkyBlue; font-size: 100%; font-weight: 800;\">\n",
    "    if score >= 80:<br>&nbsp;&nbsp;&nbsp;\n",
    "        action = 'Go to the party'<br>\n",
    "    else:<br>&nbsp;&nbsp;&nbsp;\n",
    "        action = 'Go home'\n",
    "    <br>\n",
    "    </div>\n",
    "\n",
    "    However, the <span style=\"color: Crimson; font-size: 135%; font-weight: 800;\">if</span><span style=\"color: Salmon; font-size: 110%; font-weight: 800;\"> can also be used as an expression</span> to provide a shorthand way of assigning a value based on a condition, like this:\n",
    "    <!-- <br>\n",
    "    <div style=\"text-align:left\"><img src=\"https://hackmd.io/_uploads/HJcCULoSh.png\" width=\"420\"/></div> -->\n",
    "    <div style=\"text-align: left; color: SkyBlue; font-size: 100%; font-weight: 800;\">\n",
    "    action = 'Go to the party' if score >= 80 else 'Go home'\n",
    "    <br>\n",
    "    </div>\n",
    "\n",
    "    In this case, the if expression evaluates to 'Go to the party' if the condition score >= 80 is True, and 'Go home' otherwise. So, <span style=\"color: Salmon; font-size: 110%; font-weight: 800;\">depending on the context in which it is used, the <span style=\"color: Crimson; font-size: 135%; font-weight: 800;\">if construct</span> can be either a statement or an expression</span> in Python."
   ]
  },
  {
   "cell_type": "code",
   "execution_count": null,
   "metadata": {},
   "outputs": [],
   "source": [
    "score = 79\n",
    "\n",
    "if score >= 80:\n",
    "    action = 'Go to the party'\n",
    "else:\n",
    "    action = 'Go home'\n",
    "print(f'action in statement: {action}')\n",
    "\n",
    "action = 'Go to the party' if score >= 80 else 'Go home'\n",
    "print(f'action in expression: {action}')"
   ]
  },
  {
   "attachments": {},
   "cell_type": "markdown",
   "metadata": {},
   "source": [
    "<div style=\"color: YellowGreen; font-family: 'Ubuntu Mono', 'Inconsolata', 'Noto Sans TC'; font-size: 200%; font-weight: 700;\">\n",
    "既是Expression也是Statement-2\n",
    "</div>\n",
    "<br>\n",
    "<div style=\"font-family: 'Inconsolata', 'Noto Sans TC'; font-size: 135%; color: Gainsboro\">\n",
    "\n",
    "* Function calls亦同時是expression和statement：\n",
    "\n",
    "    <div style=\"text-align: left; color: SkyBlue; font-size: 100%; font-weight: 800;\">print('Hello, world!')</div><br>\n",
    "    is actually both an expression and a statement in Python. The <span style=\"color: SkyBlue;\">print('Hello, world!')</span> <span style=\"color: Salmon; font-size: 110%; font-weight: 800;\">function call is an expression</span> that evaluates to <span style=\"color: Crimson; font-size: 110%; font-weight: 800;\">None</span>, which is the return value of the print() function. At the same time, the entire construct of <span style=\"color: SkyBlue;\">print('Hello, world!')</span> is also a complete instruction that performs the specific action of printing the string 'Hello, world!' to the console. Therefore, it is <span style=\"color: Salmon; font-size: 110%; font-weight: 800;\">also considered a statement in Python</span>."
   ]
  },
  {
   "attachments": {},
   "cell_type": "markdown",
   "metadata": {},
   "source": [
    "<div style=\"text-align:center\"><img src=\"https://hackmd.io/_uploads/SyI5hFsS3.png\" width=\"400\"/></div>"
   ]
  },
  {
   "attachments": {},
   "cell_type": "markdown",
   "metadata": {},
   "source": [
    "<div style=\"color: YellowGreen; font-family: 'Ubuntu Mono', 'Inconsolata', 'Noto Sans TC'; font-size: 200%; font-weight: 700;\">\n",
    "既非Expression亦非Statement\n",
    "</div>\n",
    "<br>\n",
    "<div style=\"font-family: 'Inconsolata', 'Noto Sans TC'; font-size: 135%; color: Gainsboro\">\n",
    "\n",
    "There are some syntactic constructs in programming languages that are neither expressions nor statements. These constructs are typically used to define program structure, such as defining classes, functions, modules, and other program elements.\n",
    "\n",
    "有些語法結構不屬於expression，也不是statement。例如：\n",
    "\n",
    "* The <span style=\"color: Gold; font-size: 120%; font-weight: 800;\">class</span> keyword in Python is used to define a new class, but it is neither an expression nor a statement. Here's an example:\n",
    "    <!-- <div style=\"color: SkyBlue; font-size: 120%; font-weight: 800; text-align: left;\"> -->\n",
    "    <div style=\"text-align:left\"><img src=\"https://hackmd.io/_uploads/S1rSk2JI3.png\" width=\"950\"/></div>\n",
    "    In this example, the <span style=\"color: Gold; font-size: 120%; font-weight: 800;\">class</span> keyword is used to define a new class called MyClass, and the <span style=\"color: Gold; font-size: 120%; font-weight: 800;\">def</span> keyword is used to define the constructor within the class. Neither of these constructs is an expression or a statement; instead, they are <span style=\"color: Salmon; font-size: 110%; font-weight: 800;\">just used to define the structure of the program</span>.\n",
    "\n",
    "* The <span style=\"color: Gold; font-size: 120%; font-weight: 800;\">import</span> keyword in Python is used to import modules, but it is neither an expression nor a statement. Here's an example:\n",
    "    <div style=\"color: SkyBlue; font-size: 100%; font-weight: 800; text-align: left;\">\n",
    "    import math<br>\n",
    "    from math import pi\n",
    "    </div>\n",
    "\n",
    "    In this example, the <span style=\"color: Gold; font-size: 100%; font-weight: 500;\">import</span> and <span style=\"color: Gold; font-size: 100%; font-weight: 500;\">from ... import</span> keywords are used to import the math module(or the pi method in math module), but it is not an expression or a statement.\n",
    "\n",
    "    So, in summary, there are some constructs in programming languages that are used to define program structure, and these constructs are typically not expressions or statements."
   ]
  },
  {
   "attachments": {},
   "cell_type": "markdown",
   "metadata": {},
   "source": [
    "<div style=\"text-align:center\"><img src=\"https://hackmd.io/_uploads/Sy-IoYjH2.png\" width=\"700\"/></div>"
   ]
  },
  {
   "cell_type": "code",
   "execution_count": null,
   "metadata": {},
   "outputs": [],
   "source": [
    "from math import pi   # Neither an expression or a statement.既非運算式亦非指令\n",
    "\n",
    "print(f'{pi = }')     # both an expression and a statement.既是運算式亦是指令"
   ]
  },
  {
   "attachments": {},
   "cell_type": "markdown",
   "metadata": {},
   "source": [
    "<div style=\"color: SteelBlue; font-family: 'Ubuntu Mono', 'Inconsolata', 'Noto Sans TC'; font-size: 300%; font-weight: 700;\">\n",
    "Walrus Operators(:=)正式開鑼\n",
    "</div>\n",
    "<br>\n",
    "<div style=\"font-family: 'Inconsolata', 'Noto Sans TC'; font-size: 135%; color: Gainsboro\">\n",
    "\n",
    "* 先「正名」一下：<span style=\"font-family: 'Ubuntu Mono'; color: Crimson; font-size: 180%; font-weight: 800;\">:=</span>這個運算子，Walrus operator是俗稱，正式的「學名」稱為<span style=\"color: Gold; font-size: 110%; font-weight: 800;\">assignment expression</span>。\n",
    "* 既然名稱都標明是<span style=\"color: Gold; font-size: 110%; font-weight: 800;\">expression</span>，walurs operator顯然是在「製造」expression而非statement。\n",
    "* 這點很重要。正因它是expression，就可以在一些「需要運算式」的情境中派上用場。如果用傳統的<span style=\"font-family: 'Ubuntu Mono'; color: DodgerBlue; font-size: 180%; font-weight: 800;\">=</span>賦值運算子，該結構就肯定變成statement，無法套用於需要expression的場合。"
   ]
  },
  {
   "attachments": {},
   "cell_type": "markdown",
   "metadata": {},
   "source": [
    "<div style=\"text-align:center\"><img src=\"https://hackmd.io/_uploads/ryBYenoB2.jpg\" width=\"600\"/></div>\n"
   ]
  },
  {
   "attachments": {},
   "cell_type": "markdown",
   "metadata": {},
   "source": [
    "<div style=\"color: DarkSalmon; font-family: 'Ubuntu Mono', 'Inconsolata', 'Noto Sans TC'; font-size: 250%; font-weight: 700;\">\n",
    "Walrus Operator運作方式\n",
    "</div>\n",
    "<br>\n",
    "<div style=\"font-family: 'Inconsolata', 'Noto Sans TC'; font-size: 135%; color: Gainsboro\">\n",
    "\n",
    "* 既稱<span style=\"color: Gold; font-size: 120%; font-weight: 800;\">assignment expression</span>，它的本質當然是expression，不過也有賦值的成分。這個運算子的具體運作，是<span style=\"color: Salmon; font-size: 100%; font-weight: 500;\">將<span style=\"font-family: 'Ubuntu Mono'; color: Crimson; font-size: 120%; font-weight: 800;\">:=</span>右邊的值，賦與<span style=\"font-family: 'Ubuntu Mono'; color: Crimson; font-size: 120%; font-weight: 800;\">:=</span>左邊的variable。而整個expression的最終值，就是<span style=\"font-family: 'Ubuntu Mono'; color: Crimson; font-size: 120%; font-weight: 800;\">:=</span>左方變數的值</span>。\n",
    "* 範例："
   ]
  },
  {
   "attachments": {},
   "cell_type": "markdown",
   "metadata": {},
   "source": [
    "\n",
    "<div style=\"text-align:center\"><img src=\"https://hackmd.io/_uploads/rkHtlnjB2.jpg\" width=\"600\"/></div>\n"
   ]
  },
  {
   "cell_type": "code",
   "execution_count": null,
   "metadata": {},
   "outputs": [],
   "source": [
    "import random as r\n",
    "# 在walrus operator出現之前，條件判斷通常是這樣寫的：\n",
    "age = r.randint(1, 80)    # 需要有個完整的賦值statement。\n",
    "if age >= 65:    \n",
    "    print(f'您今年{age}歲，可以退休養老了。')\n",
    "elif age >= 40:\n",
    "    print(f'您今年{age}歲，可以競選總統。')\n",
    "elif age >= 20:\n",
    "    print(f'您今年{age}歲，有投票權。')    \n",
    "elif age >= 15:\n",
    "    print(f'您今年{age}歲，可以打工。')    \n",
    "else:\n",
    "    print(f'您今年{age}歲，祝快樂成長。')"
   ]
  },
  {
   "cell_type": "code",
   "execution_count": 35,
   "metadata": {},
   "outputs": [
    {
     "name": "stdout",
     "output_type": "stream",
     "text": [
      "您今年61歲，可以競選總統。\n"
     ]
    }
   ],
   "source": [
    "import random as r\n",
    "# Assignment expression版本\n",
    "# 注意：walrus operator的優先順序非常低，和其他運算子一起用時，整個運算式\n",
    "#        的前後請「務必」加上小括號，否則會因錯誤結合而出錯。\n",
    "# if age := r.randint(1, 100) >= 65:    # 不加括號會結合錯。\n",
    "if (age := r.randint(1, 80)) >= 65:    \n",
    "    print(f'您今年{age}歲，可以退休養老了。')\n",
    "elif age >= 40:\n",
    "    print(f'您今年{age}歲，可以競選總統。')\n",
    "elif age >= 20:\n",
    "    print(f'您今年{age}歲，有投票權。')    \n",
    "elif age >= 15:\n",
    "    print(f'您今年{age}歲，可以打工。')    \n",
    "else:\n",
    "    print(f'您今年{age}歲，祝快樂成長。')"
   ]
  },
  {
   "attachments": {},
   "cell_type": "markdown",
   "metadata": {},
   "source": [
    "\n",
    "<div style=\"text-align:center\"><img src=\"https://hackmd.io/_uploads/B1erFx2sH2.jpg\" width=\"600\"/></div>\n"
   ]
  },
  {
   "attachments": {},
   "cell_type": "markdown",
   "metadata": {},
   "source": [
    "<div style=\"color: DarkSalmon; font-family: 'Ubuntu Mono', 'Inconsolata', 'Noto Sans TC'; font-size: 250%; font-weight: 700;\">\n",
    "Walrus Operator: Use Case 1\n",
    "</div>\n",
    "<br>\n",
    "<div style=\"font-family: 'Inconsolata', 'Noto Sans TC'; font-size: 135%; color: Gainsboro\">\n",
    "\n",
    "* 開檔\n"
   ]
  },
  {
   "attachments": {},
   "cell_type": "markdown",
   "metadata": {},
   "source": [
    "\n",
    "<div style=\"text-align:center\"><img src=\"https://hackmd.io/_uploads/SJGBFxhsr3.jpg\" width=\"600\"/></div>\n"
   ]
  },
  {
   "attachments": {},
   "cell_type": "markdown",
   "metadata": {},
   "source": [
    "<div style=\"color: YellowGreen; font-family: 'Ubuntu Mono', 'Inconsolata', 'Noto Sans TC'; font-size: 200%; font-weight: 700;\">\n",
    "Use Case 1: 讀取文字檔案\n",
    "</div>\n",
    "<br>\n",
    "<div style=\"font-family: 'Inconsolata', 'Noto Sans TC'; font-size: 135%; color: Gainsboro\">\n",
    "\n",
    "Python讀取文字檔案有好幾種方法，以下逐一介紹： "
   ]
  },
  {
   "attachments": {},
   "cell_type": "markdown",
   "metadata": {},
   "source": [
    "<div style=\"text-align:center\"><img src=\"https://hackmd.io/_uploads/r1GrFg2iSh.jpg\" width=\"600\"/></div>"
   ]
  },
  {
   "cell_type": "code",
   "execution_count": null,
   "metadata": {},
   "outputs": [],
   "source": [
    "# 傳統方法version 0: for loop\n",
    "# 優點：最簡潔優雅。\n",
    "# 限制：1) 剛好Python的file物件有特別提供，才能使用for loop。其實這種\n",
    "#           情形一般是用while loop處理的。\n",
    "#        2) line是帶刺('\\n')的，須自行處理。\n",
    "with open('./Zen.txt', 'r') as file:\n",
    "    print(f'{type(file) = }\\n------')\n",
    "    for line in file:   # line是str。\n",
    "        # line = line.strip()    # 要「原汁原味」(保留前後空白)，就不能strip()\n",
    "        line = line.strip('\\n')  # strip()得加參數'\\n'，指定只切除換行符號。\n",
    "        print(f'|{line}|')"
   ]
  },
  {
   "cell_type": "code",
   "execution_count": null,
   "metadata": {},
   "outputs": [],
   "source": [
    "# 傳統方法version 1: read()\n",
    "# 優點：一次讀入整個檔案內容，不須動用loop，非常方便。\n",
    "# 缺點：1) 讀出的內容是str，如要取得每一行，須自行切割。 \n",
    "#        2) 如檔案很大，會占用較多記憶體。\n",
    "with open('./Zen.txt', 'r') as file:\n",
    "    lines = file.read()   # lines是str\n",
    "print(f'{type(lines) = }\\n------')\n",
    "for line in lines.split('\\n'):\n",
    "    print(f'|{line}|')"
   ]
  },
  {
   "cell_type": "code",
   "execution_count": null,
   "metadata": {},
   "outputs": [],
   "source": [
    "# 傳統方法version 2: readlines()\n",
    "# 優點：一次讀入整個檔案內容，不須動用loop，非常方便。\n",
    "# 缺點：1) 讀出的內容是list，而且每一行的最後都帶\\n換行符號，須自行處理。\n",
    "#        2) 如檔案很大，會占用較多記憶體。\n",
    "with open('./Zen.txt', 'r') as file:\n",
    "    lines = file.readlines()   # lines是list\n",
    "\n",
    "print(f'{type(lines) = }\\n------')\n",
    "for line in lines:\n",
    "    # print(line.split('\\n'))   # 這個場合用split()是自找麻煩。\n",
    "    line = line.strip('\\n')\n",
    "    print(f'|{line}|')"
   ]
  },
  {
   "cell_type": "code",
   "execution_count": null,
   "metadata": {},
   "outputs": [],
   "source": [
    "# 傳統方法version 3: while loop + 2個readline()'s，目的是判斷是否\n",
    "# 要進入其後的while迴圈。\n",
    "# 缺點：要寫2次readline()，不夠簡潔優雅。\n",
    "# with open('./empty.txt', 'r') as file:\n",
    "with open('./Zen.txt', 'r') as file:\n",
    "    line = file.readline()    # 讀取檔案的第1行。\n",
    "    print(f'{type(line) = }\\n------')\n",
    "    while line:\n",
    "        line = line.strip('\\n')\n",
    "        print(f'|{line}|')\n",
    "        line = file.readline()   # 從第2行起讀到檔案結束。"
   ]
  },
  {
   "cell_type": "code",
   "execution_count": null,
   "metadata": {},
   "outputs": [],
   "source": [
    "# 傳統方法version 4: while True(loop and a half，即「一個半迴圈」。)\n",
    "# 優點：可以避免寫兩次readline()'s。\n",
    "# 缺點：在while True中用if，不夠簡潔優雅。\n",
    "with open('./Zen.txt', 'r') as file:\n",
    "    while True:\n",
    "        line = file.readline()\n",
    "        if not line:\n",
    "            break\n",
    "        line = line.strip('\\n')\n",
    "        print(f'|{line}|')"
   ]
  },
  {
   "cell_type": "code",
   "execution_count": null,
   "metadata": {},
   "outputs": [],
   "source": [
    "# Walrus Operator Version(筆者常用)\n",
    "# 優點：簡潔漂亮。\n",
    "with open('./Zen.txt', 'r') as file:\n",
    "    while line := file.readline():   # line := file.readline() 是個expression。\n",
    "        line = line.strip('\\n')\n",
    "        print(f'|{line}|')"
   ]
  },
  {
   "attachments": {},
   "cell_type": "markdown",
   "metadata": {},
   "source": [
    "\n",
    "<div style=\"text-align:center\"><img src=\"https://hackmd.io/_uploads/S1xStg2jHn.jpg\" width=\"600\"/></div>\n"
   ]
  },
  {
   "attachments": {},
   "cell_type": "markdown",
   "metadata": {},
   "source": [
    "<div style=\"color: YellowGreen; font-family: 'Ubuntu Mono', 'Inconsolata', 'Noto Sans TC'; font-size: 200%; font-weight: 700;\">\n",
    "Use Case 2: Filtering(過濾) a List\n",
    "</div>\n",
    "<br>\n",
    "<div style=\"font-family: 'Inconsolata', 'Noto Sans TC'; font-size: 135%; color: Gainsboro\">\n",
    "\n",
    "* Walrus operators常和comprehensions一起使用。\n",
    "* 所以先複習comprehensions。"
   ]
  },
  {
   "attachments": {},
   "cell_type": "markdown",
   "metadata": {},
   "source": [
    "\n",
    "<div style=\"text-align:center\"><img src=\"https://hackmd.io/_uploads/BkHtxnjr2.jpg\" width=\"600\"/></div>\n"
   ]
  },
  {
   "cell_type": "code",
   "execution_count": null,
   "metadata": {},
   "outputs": [
    {
     "name": "stdout",
     "output_type": "stream",
     "text": [
      "olds = [8, 39, 15, 12, 3, 24, 20, 0, 21]         len(olds) = 9\n",
      "news1 = [64, 1521, 225, 144, 9, 576, 400, 0, 441]\n",
      "news2 = [1521, 576, 441]\n",
      "news3 = [64, 59319, 3375, 144, 27, 576, 400, 0, 9261]\n",
      "news4 = [59319, 576, 9261]\n"
     ]
    }
   ],
   "source": [
    "# 先複習一下comprehensions：\n",
    "olds = [8, 39, 15, 12, 3, 24, 20, 0, 21]\n",
    "print(f'{olds = }{\" \"*9}{len(olds) = }')\n",
    "\n",
    "# 入門款\n",
    "news1 = [old ** 2 for old in olds]\n",
    "print(f'{news1 = }')\n",
    "\n",
    "# 進階款-1\n",
    "news2 = [old ** 2 for old in olds if old > 20]   # for後的if clause不可以有else。\n",
    "print(f'{news2 = }')\n",
    "\n",
    "# 進階款-2\n",
    "news3 = [old ** 2 if old % 2 == 0 else old ** 3 for old in olds]\n",
    "print(f'{news3 = }')\n",
    "\n",
    "# 豪華(冗長)款\n",
    "news4 = [old ** 2 if old % 2 == 0 else old ** 3 for old in olds if old > 20]\n",
    "print(f'{news4 = }')"
   ]
  },
  {
   "attachments": {},
   "cell_type": "markdown",
   "metadata": {},
   "source": [
    "<div style=\"color: LemonChiffon; font-family: 'Ubuntu Mono', 'Inconsolata', 'Noto Sans TC'; font-size: 150%; font-weight: 700;\">\n",
    "Comprehensions探討-1\n",
    "</div>\n",
    "<br>\n",
    "<div style=\"font-family: 'Inconsolata', 'Noto Sans TC'; font-size: 135%; color: Gainsboro\">\n",
    "\n",
    "* Comprehension和傳統for loop比較：\n",
    "    * 論精簡，當然是comprehension大勝。\n",
    "    * 比易讀程度，筆者認為仁智互見。\n",
    "    * 如校量效能，大家可猜想一下：哪種語法較佳？\n",
    "    * 另外，comprehensions如果使用不當，會引發超乎預期的後果。"
   ]
  },
  {
   "attachments": {},
   "cell_type": "markdown",
   "metadata": {},
   "source": [
    "\n",
    "<div style=\"text-align:center\"><img src=\"https://hackmd.io/_uploads/B1ZrYg3oH2.png\" width=\"600\"/></div>\n"
   ]
  },
  {
   "cell_type": "code",
   "execution_count": null,
   "metadata": {},
   "outputs": [],
   "source": [
    "# 耗時函數，跑1次需1秒。\n",
    "from math import pi\n",
    "import time\n",
    "\n",
    "def slow(r: int | float) -> float:\n",
    "    time.sleep(1)\n",
    "    return round(pi * (r**2), 2)\n",
    "olds = [8, 39, 15, 12, 3, 24, 20, 0, 21]"
   ]
  },
  {
   "cell_type": "code",
   "execution_count": null,
   "metadata": {},
   "outputs": [
    {
     "name": "stdout",
     "output_type": "stream",
     "text": [
      "olds = [8, 39, 15, 12, 3, 24, 20, 0, 21]         len(olds) = 9\n",
      "--- Comprehension ---\n",
      "news = [201.06, 4778.36, 706.86, 452.39, 28.27, 1809.56, 1256.64, 0.0, 1385.44]\n",
      "consumed time: 9.0 secs\n",
      "\n",
      "--- For Loop ---\n",
      "news = [201.06, 4778.36, 706.86, 452.39, 28.27, 1809.56, 1256.64, 0.0, 1385.44]\n",
      "consumed time: 9.0 secs\n"
     ]
    }
   ],
   "source": [
    "import time\n",
    "\n",
    "print(f'{olds = }{\" \"*9}{len(olds) = }')\n",
    "print('--- Comprehension ---')\n",
    "time1 = time.monotonic()\n",
    "# 在comprehension內呼叫slow()，每呼叫1次需要1秒鐘。\n",
    "# 注意：news的元素是slow()的傳回值。\n",
    "news = [slow(old) for old in olds]   # 總共呼叫len(olds)那麼多次slow()。\n",
    "time2 = time.monotonic()\n",
    "print(f'{news = }')\n",
    "print(f'consumed time: {round(time2 - time1, 2)} secs')\n",
    "print()\n",
    "\n",
    "print('--- For Loop ---')\n",
    "time1 = time.monotonic()\n",
    "# 傳統for loop：\n",
    "news = [] \n",
    "for old in olds:\n",
    "    news.append(slow(old))\n",
    "time2 = time.monotonic()\n",
    "print(f'{news = }')\n",
    "print(f'consumed time: {round(time2 - time1, 2)} secs')"
   ]
  },
  {
   "attachments": {},
   "cell_type": "markdown",
   "metadata": {},
   "source": [
    "<div style=\"color: LemonChiffon; font-family: 'Ubuntu Mono', 'Inconsolata', 'Noto Sans TC'; font-size: 150%; font-weight: 700;\">\n",
    "Comprehensions探討-2\n",
    "</div>\n",
    "<br>\n",
    "<div style=\"font-family: 'Inconsolata', 'Noto Sans TC'; font-size: 135%; color: Gainsboro\">\n",
    "\n",
    "* 效率上兩者打成平手。\n",
    "* 加上<span style=\"color: Salmon; font-size: 110%; font-weight: 700;\">過濾條件</span>看看：\n"
   ]
  },
  {
   "attachments": {},
   "cell_type": "markdown",
   "metadata": {},
   "source": [
    "\n",
    "<div style=\"text-align:center\"><img src=\"https://hackmd.io/_uploads/SyZHFe3sB2.jpg\" width=\"600\"/></div>\n"
   ]
  },
  {
   "cell_type": "code",
   "execution_count": null,
   "metadata": {},
   "outputs": [
    {
     "name": "stdout",
     "output_type": "stream",
     "text": [
      "olds = [8, 39, 15, 12, 3, 24, 20, 0, 21]         len(olds) = 9\n",
      "\n",
      "--- Comprehension ---\n",
      "news = [4778.36, 1809.56, 1385.44]\n",
      "consumed time: 3.0 secs\n",
      "\n",
      "--- For Loop ---\n",
      "news = [4778.36, 1809.56, 1385.44]\n",
      "consumed time: 3.0 secs\n"
     ]
    }
   ],
   "source": [
    "import time\n",
    "\n",
    "print(f'{olds = }{\" \"*9}{len(olds) = }\\n')\n",
    "threshold = 20\n",
    "print('--- Comprehension ---')\n",
    "time1 = time.monotonic()\n",
    "# 因為有過濾，整個comprehension需時大幅減少。\n",
    "news = [slow(old) for old in olds if old > threshold]\n",
    "time2 = time.monotonic()\n",
    "print(f'{news = }')\n",
    "print(f'consumed time: {round(time2 - time1, 2)} secs')\n",
    "print()\n",
    "\n",
    "print('--- For Loop ---')\n",
    "time1 = time.monotonic()\n",
    "# 傳統for loop：\n",
    "news = [] \n",
    "for old in olds:\n",
    "    if old > threshold:\n",
    "        news.append(slow(old))\n",
    "time2 = time.monotonic()\n",
    "print(f'{news = }')\n",
    "print(f'consumed time: {round(time2 - time1, 2)} secs')"
   ]
  },
  {
   "attachments": {},
   "cell_type": "markdown",
   "metadata": {},
   "source": [
    "<div style=\"color: LemonChiffon; font-family: 'Ubuntu Mono', 'Inconsolata', 'Noto Sans TC'; font-size: 150%; font-weight: 700;\">\n",
    "Comprehensions探討-3\n",
    "</div>\n",
    "<br>\n",
    "<div style=\"font-family: 'Inconsolata', 'Noto Sans TC'; font-size: 135%; color: Gainsboro\">\n",
    "\n",
    "* 兩者所花時間還是相同。\n",
    "* 目前看來，程式並未因使用comprehension而降低效能。\n",
    "* 但：如果過濾條件和輸出都是「<span style=\"color: Gold; font-size: 110%; font-weight: 700;\">運算結果</span>」而非「<span style=\"color: Salmon; font-size: 110%; font-weight: 700;\">原始元素</span>」呢？"
   ]
  },
  {
   "attachments": {},
   "cell_type": "markdown",
   "metadata": {},
   "source": [
    "<div style=\"text-align:center\"><img src=\"https://hackmd.io/_uploads/SJzHKlhjBn.png\" width=\"600\"/></div>\n"
   ]
  },
  {
   "cell_type": "code",
   "execution_count": null,
   "metadata": {},
   "outputs": [
    {
     "name": "stdout",
     "output_type": "stream",
     "text": [
      "olds = [8, 39, 15, 12, 3, 24, 20, 0, 21]         len(olds) = 9\n",
      "\n",
      "--- Comprehension ---\n",
      "news = [4778.36, 706.86, 1809.56, 1256.64, 1385.44]\n",
      "consumed time: 14.0 secs\n",
      "\n",
      "--- For Loop ---\n",
      "news = [4778.36, 706.86, 1809.56, 1256.64, 1385.44]\n",
      "consumed time: 9.0 secs\n"
     ]
    }
   ],
   "source": [
    "import time\n",
    "\n",
    "print(f'{olds = }{\" \"*9}{len(olds) = }\\n')\n",
    "threshold = 500\n",
    "print('--- Comprehension ---')\n",
    "time1 = time.monotonic()\n",
    "# 過濾條件為函數運算結果(即函數傳回值)時，在Python 3.7(含)以前，\n",
    "# 由於沒有儲存函數傳回值的機制，要使用comprehension，只得重複\n",
    "# 呼叫slow()，浪費不時時間。\n",
    "news = [slow(old) for old in olds if slow(old) > threshold]\n",
    "time2 = time.monotonic()\n",
    "print(f'{news = }')\n",
    "print(f'consumed time: {round(time2 - time1, 2)} secs')\n",
    "print()\n",
    "\n",
    "print('--- For Loop ---')\n",
    "time1 = time.monotonic()\n",
    "news = [] \n",
    "for old in olds:\n",
    "    # 使用傳統for loop可以用變數去儲存函數的傳回值，因而避開\n",
    "    # 重複呼叫問題。似乎是個較好選擇。\n",
    "    new = slow(old)\n",
    "    if new > threshold:\n",
    "        news.append(new)\n",
    "time2 = time.monotonic()\n",
    "print(f'{news = }')\n",
    "print(f'consumed time: {round(time2 - time1, 2)} secs')"
   ]
  },
  {
   "attachments": {},
   "cell_type": "markdown",
   "metadata": {},
   "source": [
    "<div style=\"color: LemonChiffon; font-family: 'Ubuntu Mono', 'Inconsolata', 'Noto Sans TC'; font-size: 150%; font-weight: 700;\">\n",
    "Comprehensions探討-4\n",
    "</div>\n",
    "<br>\n",
    "<div style=\"font-family: 'Inconsolata', 'Noto Sans TC'; font-size: 135%; color: Gainsboro\">\n",
    "\n",
    "* 在Python 3.8推出前，除了回歸傳統for loop，也可以用built-in的<span style=\"color: Salmon; font-weight: 700;\">filter</span>和<span style=\"color: Salmon; font-weight: 700;\">map</span>函數來避開comprehension重複呼叫函數問題：\n",
    "    * These two functions allow you to first apply the <span style=\"color: Gold; font-weight: 700;\">slow</span> function to every element in the `olds`, and then filter the results based on the condition. \n",
    "    * In this case, <span style=\"color: Salmon; font-weight: 700;\">map(slow, olds)</span> applies the <span style=\"color: Gold; font-weight: 700;\">slow</span> function to each `old` in `olds`, creating a new iterable. <span style=\"color: Salmon; font-weight: 700;\">filter(lambda new: new > 500, ...)</span> then takes that iterable and filters out the `news` that are not greater than 500.\n",
    "    * The list() function is used to convert the result back into a list, as both <span style=\"color: Salmon; font-weight: 700;\">filter</span> and <span style=\"color: Salmon; font-weight: 700;\">map</span> return iterables.\n",
    "    * This way, the <span style=\"color: Gold; font-weight: 700;\">slow</span> function is only called once for each `old`, and <span style=\"color: Crimson; font-size: 110; font-weight: 700;\">the result is used both for calculating the `new` and for checking the condition</span>. This could be a significant improvement if <span style=\"color: Gold; font-weight: 700;\">slow</span> is a time-consuming operation.\n",
    "    * However, it's worth noting that this approach uses a lambda function, which some people may find less readable than a list comprehension. It also isn't strictly a list comprehension, although it does produce a list.\n",
    "* 不過這樣的code較難理解，看得筆者頭痛不已。\n",
    "* 如無非它不可的理由，<span style=\"color: Crimson; font-size: 110; font-weight: 700;\">建議直接使用for loop</span>，更為直觀易懂。"
   ]
  },
  {
   "attachments": {},
   "cell_type": "markdown",
   "metadata": {},
   "source": [
    "\n",
    "<div style=\"text-align:center\"><img src=\"https://hackmd.io/_uploads/SJSFxhsB3.png\" width=\"600\"/></div>\n"
   ]
  },
  {
   "cell_type": "code",
   "execution_count": null,
   "metadata": {},
   "outputs": [
    {
     "name": "stdout",
     "output_type": "stream",
     "text": [
      "olds = [8, 39, 15, 12, 3, 24, 20, 0, 21]         len(olds) = 9\n",
      "\n",
      "--- filter and map ---\n",
      "news = [4778.36, 706.86, 1809.56, 1256.64, 1385.44]\n",
      "consumed time: 9.0 secs\n"
     ]
    }
   ],
   "source": [
    "import time\n",
    "\n",
    "print(f'{olds = }{\" \"*9}{len(olds) = }\\n')\n",
    "threshold = 500\n",
    "\n",
    "print('--- filter and map ---')\n",
    "time1 = time.monotonic()\n",
    "# filter, map, lambda: 雖然效率尚好，可較難理解，筆者並不建議。\n",
    "news = list(filter(lambda new: new > 500, map(slow, olds)))\n",
    "time2 = time.monotonic()\n",
    "print(f'{news = }')\n",
    "print(f'consumed time: {round(time2 - time1, 2)} secs')"
   ]
  },
  {
   "attachments": {},
   "cell_type": "markdown",
   "metadata": {},
   "source": [
    "<div style=\"color: LemonChiffon; font-family: 'Ubuntu Mono', 'Inconsolata', 'Noto Sans TC'; font-size: 150%; font-weight: 700;\">\n",
    "Comprehensions探討-5\n",
    "</div>\n",
    "<br>\n",
    "<div style=\"font-family: 'Inconsolata', 'Noto Sans TC'; font-size: 135%; color: Gainsboro\">\n",
    "\n",
    "* 舊版本的Python，使用comprehensions時除了效率有可能較差，在一些特殊情形下<span style=\"color: Salmon; font-weight: 700;\">還會出錯</span>。\n",
    "* 請看下例："
   ]
  },
  {
   "attachments": {},
   "cell_type": "markdown",
   "metadata": {},
   "source": [
    "\n",
    "<div style=\"text-align:center\"><img src=\"https://hackmd.io/_uploads/HyWrKxhsrh.png\" width=\"600\"/></div>\n"
   ]
  },
  {
   "cell_type": "code",
   "execution_count": 18,
   "metadata": {},
   "outputs": [],
   "source": [
    "import random as r\n",
    "\n",
    "def get_luck(n: int) -> int | None:\n",
    "    # 故意搞個「無厘頭」值，其實目的是要測試回傳random value的後果。\n",
    "    return n**3 if r.randint(1, 100) % r.randint(3, n + 7) <= 1 else None\n",
    "    # return_value = n**3 if r.randint(1, 100) % r.randint(3, n + 7) <= 1 else None\n",
    "    # print(f'{return_value = }', end='\\t')\n",
    "    # return return_value\n",
    "\n",
    "olds = [8, 39, 15, 12, 3, 24, 20, 0, 21, 4, 10, 5, 11, 18, 6]"
   ]
  },
  {
   "cell_type": "code",
   "execution_count": 19,
   "metadata": {},
   "outputs": [
    {
     "name": "stdout",
     "output_type": "stream",
     "text": [
      "olds = [8, 39, 15, 12, 3, 24, 20, 0, 21, 4, 10, 5, 11, 18, 6]     len(olds) = 15\n",
      "news = [3, 21]\n"
     ]
    }
   ],
   "source": [
    "# 抓出「幸運元素」，get_luck()傳回值非None者視為幸運元素。\n",
    "print(f'{olds = }{\" \"*5}{len(olds) = }')\n",
    "# 只傳回原list的元素，不會出錯。\n",
    "news = [num for num in olds if get_luck(num) is not None]\n",
    "print(f'{news = }')"
   ]
  },
  {
   "cell_type": "code",
   "execution_count": 23,
   "metadata": {},
   "outputs": [
    {
     "name": "stdout",
     "output_type": "stream",
     "text": [
      "olds = [8, 39, 15, 12, 3, 24, 20, 0, 21, 4, 10, 5, 11, 18, 6]     len(olds) = 15\n",
      "news = [None, 8000, None, None, None]\n"
     ]
    }
   ],
   "source": [
    "# 但如要抓的是get_luck()運算後的值，在comprehension下問題就來了。\n",
    "# 呼叫了兩次get_luck()，導致錯誤。錯誤原因是get_luck()函數內有用randint()。\n",
    "print(f'{olds = }{\" \"*5}{len(olds) = }')\n",
    "news = [get_luck(num) for num in olds if get_luck(num) is not None]\n",
    "print(f'{news = }')   # 不應該有None。"
   ]
  },
  {
   "cell_type": "code",
   "execution_count": 24,
   "metadata": {},
   "outputs": [
    {
     "name": "stdout",
     "output_type": "stream",
     "text": [
      "olds = [8, 39, 15, 12, 3, 24, 20, 0, 21, 4, 10, 5, 11, 18, 6]     len(olds) = 15\n",
      "news = [13824, 0, 1000]\n"
     ]
    }
   ],
   "source": [
    "# 抓出「幸運元素」運算過後的值。\n",
    "print(f'{olds = }{\" \"*5}{len(olds) = }')\n",
    "news = []\n",
    "for num in olds:   # 沒法用comprehension了，只好用傳統的for迴圈。\n",
    "    luck = get_luck(num)\n",
    "    if luck is not None:\n",
    "        news.append(luck)\n",
    "\n",
    "print(f'{news = }')   # 不應該有None。"
   ]
  },
  {
   "attachments": {},
   "cell_type": "markdown",
   "metadata": {},
   "source": [
    "<div style=\"color: LemonChiffon; font-family: 'Ubuntu Mono', 'Inconsolata', 'Noto Sans TC'; font-size: 150%; font-weight: 700;\">\n",
    "Comprehensions探討-6\n",
    "</div>\n",
    "<br>\n",
    "<div style=\"font-family: 'Inconsolata', 'Noto Sans TC'; font-size: 135%; color: Gainsboro\">\n",
    "\n",
    "* 用filter + map + lambda來抓倒是正確無誤。\n",
    "* filter + map + lambda的寫法，(內隱)迴圈內olds的每個元素只呼叫\n",
    "get_luck()一次，所以不會由於重複呼叫而出錯。\n",
    "* 可是這個appraoch<span style=\"color: Salmon; font-weight: 700;\">不易閱讀不夠直觀</span>問題依然存在。"
   ]
  },
  {
   "attachments": {},
   "cell_type": "markdown",
   "metadata": {},
   "source": [
    "\n",
    "<div style=\"text-align:center\"><img src=\"https://hackmd.io/_uploads/rJlBYxnjH3.png\" width=\"600\"/></div>\n"
   ]
  },
  {
   "cell_type": "code",
   "execution_count": 29,
   "metadata": {},
   "outputs": [
    {
     "name": "stdout",
     "output_type": "stream",
     "text": [
      "olds = [8, 39, 15, 12, 3, 24, 20, 0, 21, 4, 10, 5, 11, 18, 6]     len(olds) = 15\n",
      "news = [512, 64, 125, 1331, 5832, 216]\n"
     ]
    }
   ],
   "source": [
    "# 用filter + map + lambda來抓倒是正確。\n",
    "print(f'{olds = }{\" \"*5}{len(olds) = }')\n",
    "news = list(filter(lambda new: new is not None, map(get_luck, olds)))\n",
    "# print()\n",
    "print(f'{news = }')   # 不應該有None。"
   ]
  },
  {
   "attachments": {},
   "cell_type": "markdown",
   "metadata": {},
   "source": [
    "<div style=\"color: LemonChiffon; font-family: 'Ubuntu Mono', 'Inconsolata', 'Noto Sans TC'; font-size: 150%; font-weight: 700;\">\n",
    "Comprehensions探討-7\n",
    "</div>\n",
    "<br>\n",
    "<div style=\"font-family: 'Inconsolata', 'Noto Sans TC'; font-size: 135%; color: Gainsboro\">\n",
    "\n",
    "* Python 3.8之後，這個問題有了一個很優雅的解答。這當然就是：<div style=\"color: Gold; text-align: center; font-size: 200%; font-weight: 700;\">walrus operator</div>\n",
    "* Walrus operator是Guido van Rossum以辭去Python's BDFL(Benevolent Dictator for Life)換來的，可知此功能當初爭議極大(註1)。\n",
    "* 筆者不僅是支持派，還是死硬擁躉，並建議大家多加利用。\n",
    "\n",
    "註1：\n",
    "\n",
    "以下是筆者和ChatGPT就walrus operator爭議事件的討論：\n",
    "<div style=\"color: LightSteelBlue; font-size: 85%;\">\n",
    "\n",
    "* <span style=\"color: #009E60; font-size: 110%;\">Alex:</span>\n",
    "    > Since the addition of walrus operator to the Python languages caused  big arguments within the Python community, I would say the inclusion of this feature came with the price of the resignation of Guido van Rossum.  \n",
    "\n",
    "    > What is your opinion about this issue?\n",
    "\n",
    "* <span style=\"color: #ab68ff; font-size: 110%;\">ChatGPT:</span>\n",
    "    > Guido van Rossum's resignation from his position as Python's BDFL (Benevolent Dictator for Life) came as a surprise to many in the Python community. He cited a contentious Python Enhancement Proposal (PEP 572), which included the assignment expression or \"walrus operator\", as the final straw that led to his decision. After accepting the proposal, van Rossum experienced significant backlash on social media, including from core Python developers, which deeply affected him personally. He felt that he no longer had the full trust of the Python core developer team, which contributed to his decision to step down​1​.\n",
    "\n",
    "    > However, van Rossum did not entirely step away from Python development. He has continued to contribute as a regular core developer, focusing on mentoring new core developers, especially women and minorities, in pursuit of diversity within the core developer group​1​. He also expressed confidence in the future of Python and its community, stating that he would not have resigned if he felt they would not be able to continue guiding the language forward​1​.\n",
    "\n",
    "    > As for my opinion, Guido van Rossum's contributions to the Python language and community are undeniable and deeply appreciated. His decision to step down is a personal one, and should be respected. His continued involvement in the community, albeit in a different role, shows his commitment to Python and its future.\n",
    "\n",
    "    > As for the controversy over the walrus operator, it's worth noting that Python, like any language, evolves over time, and with evolution comes change. Some changes are readily accepted, while others may cause debate or controversy. This is a natural part of the process, and ideally leads to a better language as the community discusses, debates, and eventually finds common ground.\n",
    "\n",
    "    > In the end, it's important to remember that the goal of any language enhancement should be to improve the language's usability and efficiency for its users. While it's unfortunate that the controversy over PEP 572 contributed to van Rossum's resignation, it's also a testament to the passion within the Python community for maintaining the language's clarity and simplicity. As Python continues to evolve, it's crucial to continue these discussions with respect and openness, fostering a welcoming and inclusive community for all Python developers.\n",
    "\n",
    "* <span style=\"color: #009E60; font-size: 110%;\">Alex:</span>\n",
    "    > In my opinion, the walrlus operator is one among the greatest improvements of the Python language.  I can't imagine why many delvelops are strongly against this feature.  If you dislike it, you can simply not use it.  Why did they try to prevent others from using it?\n",
    "\n",
    "* <span style=\"color: #ab68ff; font-size: 110%;\">ChatGPT:</span>\n",
    "    > The controversy over the walrus operator (assignment expressions) in Python was not simply about personal preference; it was more about the design philosophy of the Python language and how this new feature fit into it. Python has always emphasized readability and simplicity in its syntax, as encapsulated in the Zen of Python (PEP 20), which includes principles such as \"There should be one-- and preferably only one --obvious way to do it\" and \"Readability counts\".\n",
    "\n",
    "    > The opponents of the walrus operator believed that it violated these principles. They argued that introducing a new way to perform assignments within expressions could lead to more complex and harder-to-read code. They were concerned that the feature would be overused or misused, leading to less readable code, which goes against Python's philosophy of simplicity and readability.\n",
    "\n",
    "    > Furthermore, the proposal for the walrus operator (PEP 572) underwent several revisions, some of which had significant issues. These early issues may have influenced some people's perceptions of the feature, leading them to oppose it even after the issues were resolved​1​.\n",
    "\n",
    "    > it's worth noting that programming languages, like any tool, are designed to solve problems. When a new feature is proposed, it's important to consider not only how it solves a particular problem, but also how it fits into the overall design and philosophy of the language. This is why new features can sometimes lead to passionate debates within the developer community.\n",
    "\n",
    "    > While it's true that those who dislike a feature can choose not to use it, the concern here was that the feature could be used in a way that makes Python code more difficult to read and understand for everyone. In a community-driven language like Python, the impact of such changes extends beyond individual developers to the entire Python community.\n",
    "\n",
    "    > That said, the walrus operator does have its benefits, as you've noted. It can reduce redundancy and make certain types of code more concise and easier to write. Like any tool, it can be beneficial when used appropriately. It's important to consider both the potential benefits and drawbacks when evaluating new features in a programming language.\n",
    "\n",
    "* <span style=\"color: #009E60; font-size: 110%;\">Alex:</span>\n",
    "    > As the Zen of Python (PEP 20), which includes principles such as \"There should be one-- and preferably only one --obvious way to do it\" and \"Readability counts\", there have long been syntax constructs breaking the rule.  For a simple example, while we have `x  =  x  +  1`,  we also have `x  += 1`.  That would be more than one obvious way to do the same thing.\n",
    "\n",
    "* <span style=\"color: #ab68ff; font-size: 110%;\">ChatGPT:</span>\n",
    "    > You bring up a good point. Indeed, Python (like many languages) has multiple ways to perform the same task. As you mentioned, you can increment a variable with x = x + 1 or x += 1.\n",
    "\n",
    "    > The principle in the Zen of Python, \"There should be one-- and preferably only one --obvious way to do it,\" is a guiding philosophy rather than a strict rule. The goal is to promote simplicity and clarity in Python code. Sometimes, offering more than one way to do something can actually contribute to simplicity and clarity, depending on the context.\n",
    "\n",
    "    > For instance, the += operator is shorter and more concise than x = x + 1, and it makes the intent of the code clear at a glance. In a complex program, using += can make the code more readable, thus adhering to the \"Readability counts\" principle.\n",
    "\n",
    "    > The key here is the term \"obvious\". What's \"obvious\" can depend on the programmer's background, the complexity of the code, and the specific situation. In some cases, x = x + 1 might be more obvious to a beginner or in a certain context. In other cases, x += 1 might be more obvious.\n",
    "\n",
    "    > The Zen of Python is not about enforcing strict rules, but about promoting a philosophy and a set of values. It's about encouraging Python programmers to write code that's simple, clear, and easy to understand. Having multiple ways to do something is not inherently against the Zen of Python, as long as those ways promote simplicity, clarity, and readability."
   ]
  },
  {
   "attachments": {},
   "cell_type": "markdown",
   "metadata": {},
   "source": [
    "\n",
    "<div style=\"text-align:center\"><img src=\"https://hackmd.io/_uploads/S1rKg3sH2.jpg\" width=\"600\"/></div>\n"
   ]
  },
  {
   "cell_type": "code",
   "execution_count": 33,
   "metadata": {},
   "outputs": [
    {
     "name": "stdout",
     "output_type": "stream",
     "text": [
      "olds = [8, 39, 15, 12, 3, 24, 20, 0, 21]     len(olds) = 9\n",
      "--- comprehension sans walrus operater ---\n",
      "news = [4778.36, 706.86, 1809.56, 1256.64, 1385.44]\n",
      "consumed time: 14.0 secs\n",
      "\n",
      "--- comprehension with walrus operater ---\n",
      "news = [4778.36, 706.86, 1809.56, 1256.64, 1385.44]\n",
      "consumed time: 9.0 secs\n"
     ]
    }
   ],
   "source": [
    "# 耗時函數\n",
    "import time\n",
    "\n",
    "olds = [8, 39, 15, 12, 3, 24, 20, 0, 21]\n",
    "print(f'{olds = }{\" \"*5}{len(olds) = }')\n",
    "threshold = 500\n",
    "\n",
    "print('--- comprehension sans walrus operater ---')\n",
    "time1 = time.monotonic()\n",
    "news = [slow(old) for old in olds if slow(old) > threshold]\n",
    "time2 = time.monotonic()\n",
    "print(f'{news = }')\n",
    "print(f'consumed time: {round(time2 - time1, 2)} secs')\n",
    "print()\n",
    "\n",
    "print('--- comprehension with walrus operater ---')\n",
    "time1 = time.monotonic()\n",
    "# 使用assignment operator可節省不少時間。\n",
    "news = [new for old in olds if (new := slow(old)) > threshold]\n",
    "time2 = time.monotonic()\n",
    "print(f'{news = }')\n",
    "print(f'consumed time: {round(time2 - time1, 2)} secs')"
   ]
  },
  {
   "cell_type": "code",
   "execution_count": null,
   "metadata": {},
   "outputs": [
    {
     "ename": "NameError",
     "evalue": "name 'get_luck' is not defined",
     "output_type": "error",
     "traceback": [
      "\u001b[0;31m---------------------------------------------------------------------------\u001b[0m",
      "\u001b[0;31mNameError\u001b[0m                                 Traceback (most recent call last)",
      "Cell \u001b[0;32mIn[14], line 3\u001b[0m\n\u001b[1;32m      1\u001b[0m \u001b[39m# 抓出「幸運元素」運算過後的值。\u001b[39;00m\n\u001b[1;32m      2\u001b[0m time1 \u001b[39m=\u001b[39m time\u001b[39m.\u001b[39mtime()\n\u001b[0;32m----> 3\u001b[0m news \u001b[39m=\u001b[39m [luck \u001b[39mfor\u001b[39;49;00m num \u001b[39min\u001b[39;49;00m olds \u001b[39mif\u001b[39;49;00m (luck \u001b[39m:=\u001b[39;49m get_luck(num)) \u001b[39mis\u001b[39;49;00m \u001b[39mnot\u001b[39;49;00m \u001b[39mNone\u001b[39;49;00m]\n\u001b[1;32m      4\u001b[0m time2 \u001b[39m=\u001b[39m time\u001b[39m.\u001b[39mtime()\n\u001b[1;32m      5\u001b[0m \u001b[39mprint\u001b[39m(\u001b[39mf\u001b[39m\u001b[39m'\u001b[39m\u001b[39m{\u001b[39;00mnews\u001b[39m \u001b[39m\u001b[39m= }\u001b[39;00m\u001b[39m'\u001b[39m)   \u001b[39m# 不應該有None。\u001b[39;00m\n",
      "Cell \u001b[0;32mIn[14], line 3\u001b[0m, in \u001b[0;36m<listcomp>\u001b[0;34m(.0)\u001b[0m\n\u001b[1;32m      1\u001b[0m \u001b[39m# 抓出「幸運元素」運算過後的值。\u001b[39;00m\n\u001b[1;32m      2\u001b[0m time1 \u001b[39m=\u001b[39m time\u001b[39m.\u001b[39mtime()\n\u001b[0;32m----> 3\u001b[0m news \u001b[39m=\u001b[39m [luck \u001b[39mfor\u001b[39;00m num \u001b[39min\u001b[39;00m olds \u001b[39mif\u001b[39;00m (luck \u001b[39m:=\u001b[39m get_luck(num)) \u001b[39mis\u001b[39;00m \u001b[39mnot\u001b[39;00m \u001b[39mNone\u001b[39;00m]\n\u001b[1;32m      4\u001b[0m time2 \u001b[39m=\u001b[39m time\u001b[39m.\u001b[39mtime()\n\u001b[1;32m      5\u001b[0m \u001b[39mprint\u001b[39m(\u001b[39mf\u001b[39m\u001b[39m'\u001b[39m\u001b[39m{\u001b[39;00mnews\u001b[39m \u001b[39m\u001b[39m= }\u001b[39;00m\u001b[39m'\u001b[39m)   \u001b[39m# 不應該有None。\u001b[39;00m\n",
      "\u001b[0;31mNameError\u001b[0m: name 'get_luck' is not defined"
     ]
    }
   ],
   "source": [
    "# 抓出「幸運元素」運算過後的值。\n",
    "time1 = time.time()\n",
    "news = [luck for num in olds if (luck := get_luck(num)) is not None]\n",
    "time2 = time.time()\n",
    "print(f'{news = }')   # 不應該有None。\n",
    "print(f'consumed time: {round(time2 - time1, 2)} secs')"
   ]
  },
  {
   "cell_type": "code",
   "execution_count": null,
   "metadata": {},
   "outputs": [],
   "source": [
    "# 抓出「幸運元素」運算過後的值。\n",
    "time.monotonic()\n",
    "time1 = time.time()\n",
    "news = [luck for num in olds if (luck := get_luck(num)) is not None]\n",
    "time2 = time.time()\n",
    "print(f'{news = }')   # 不應該有None。\n",
    "print(f'consumed time: {round(time2 - time1, 2)} secs')"
   ]
  },
  {
   "attachments": {},
   "cell_type": "markdown",
   "metadata": {},
   "source": [
    "\n",
    "<div style=\"text-align:center\"><img src=\"https://hackmd.io/_uploads/HyZHtghjHn.jpg\" width=\"600\"/></div>\n"
   ]
  },
  {
   "attachments": {},
   "cell_type": "markdown",
   "metadata": {},
   "source": [
    "<div style=\"color: YellowGreen; font-family: 'Ubuntu Mono', 'Inconsolata', 'Noto Sans TC'; font-size: 200%; font-weight: 700;\">\n",
    "Use Case 3: Reusing a Value\n",
    "</div>\n",
    "<br>\n",
    "<div style=\"font-family: 'Inconsolata', 'Noto Sans TC'; font-size: 135%; color: Gainsboro\">\n",
    "\n",
    "還是和comprehensions一起「打混」："
   ]
  },
  {
   "cell_type": "code",
   "execution_count": null,
   "metadata": {},
   "outputs": [],
   "source": [
    "# 本例mul_by_2和rnd這兩個變數都有reused(重複使用)，如果沒有walrus operator，\n",
    "# 恐怕很難一行搞掂。\n",
    "import random as r\n",
    "from pprint import pprint\n",
    "\n",
    "def mul(num: int | float, multiplier: int) -> int | float:\n",
    "    return num * multiplier\n",
    "\n",
    "olds = [11, 12, 13, 14, 15]\n",
    "news = [\n",
    "    {'old_num': old_num, \n",
    "     'mul_by_2': (mul_by_2 := mul(old_num, 2)), \n",
    "     'mul_by_rnd': mul_by_2 * (rnd := r.randint(5, 20)),  # reuse mul_by_2\n",
    "     'rnd': rnd                                           # reuse rnd\n",
    "    } for old_num in olds\n",
    "]\n",
    "print()\n",
    "pprint(news, sort_dicts=False)"
   ]
  },
  {
   "cell_type": "code",
   "execution_count": null,
   "metadata": {},
   "outputs": [],
   "source": [
    "def compute_value(x):\n",
    "    return x * 2\n",
    "\n",
    "data = [1, 2, 3, 4, 5]\n",
    "processed_data = [(x, computed := compute_value(x), computed * 3) for x in data]\n",
    "print(processed_data)\n"
   ]
  },
  {
   "attachments": {},
   "cell_type": "markdown",
   "metadata": {},
   "source": [
    "\n",
    "<div style=\"text-align:center\"><img src=\"https://hackmd.io/_uploads/B1erYl3jS2.jpg\" width=\"600\"/></div>\n"
   ]
  },
  {
   "attachments": {},
   "cell_type": "markdown",
   "metadata": {},
   "source": [
    "<div style=\"color: YellowGreen; font-family: 'Ubuntu Mono', 'Inconsolata', 'Noto Sans TC'; font-size: 200%; font-weight: 700;\">\n",
    "Use Case 4: None移至末端\n",
    "</div>\n",
    "<br>\n",
    "<div style=\"font-family: 'Inconsolata', 'Noto Sans TC'; font-size: 135%; color: Gainsboro\">\n",
    "\n",
    "本例結合了walrus operator, list的長度差以及list相加等3個技術，技壓ChatGPT。"
   ]
  },
  {
   "cell_type": "code",
   "execution_count": null,
   "metadata": {},
   "outputs": [],
   "source": [
    "# 將序列(tuple / list)中的None移至末端，其餘元素次序保持不變。\n",
    "def reorder_list(seq: tuple | list) -> list:\n",
    "    return (new_list := [item for item in seq if item is not None]) + [None]*(len(seq) - len(new_list))\n",
    "\n",
    "print()\n",
    "print(f\"{reorder_list([4, 3, None, 9, None, None, 1]) = }\")\n",
    "print(f\"{reorder_list(['None', '0', '6']) = }\")\n",
    "print()"
   ]
  },
  {
   "attachments": {},
   "cell_type": "markdown",
   "metadata": {},
   "source": [
    "\n",
    "<div style=\"text-align:center\"><img src=\"https://hackmd.io/_uploads/SJZrtg3srn.png\" width=\"600\"/></div>\n"
   ]
  },
  {
   "attachments": {},
   "cell_type": "markdown",
   "metadata": {},
   "source": [
    "<div style=\"font-family: 'Gen Jyuu Gothic Monospace Medium', 'Noto Sans TC', 'Inconsolata'; font-size: 400%; font-weight: 700; text-align: center; color: Plum;\">\n",
    "<br>\n",
    "Walrus Operator暫時打住<br>\n",
    "再聊些別的...\n",
    "<br>\n",
    "</div>\n"
   ]
  },
  {
   "attachments": {},
   "cell_type": "markdown",
   "metadata": {},
   "source": [
    "\n",
    "<div style=\"text-align:center\"><img src=\"https://hackmd.io/_uploads/ByVFeniS2.png\" width=\"300\"/></div>"
   ]
  },
  {
   "attachments": {},
   "cell_type": "markdown",
   "metadata": {},
   "source": [
    "<div style=\"color: SteelBlue; font-family: 'Ubuntu Mono', 'Inconsolata', 'Noto Sans TC'; font-size: 300%; font-weight: 700;\">\n",
    "其他較少使用的運算子\n",
    "</div>\n",
    "<br>\n",
    "<div style=\"font-family: 'Inconsolata', 'Noto Sans TC'; font-size: 135%; color: Gainsboro\">\n"
   ]
  },
  {
   "attachments": {},
   "cell_type": "markdown",
   "metadata": {},
   "source": [
    "<div style=\"color: DarkSalmon; font-family: 'Ubuntu Mono', 'Inconsolata', 'Noto Sans TC'; font-size: 250%; font-weight: 700;\">\n",
    "list + str\n",
    "</div>\n",
    "\n",
    "<br>\n",
    "<div style=\"font-family: 'Inconsolata', 'Noto Sans TC'; font-size: 135%; color: Gainsboro\">\n",
    "\n",
    "list + str的運算較很少使用，剛開始筆者還以為會產生syntax error，殊不知真的可以："
   ]
  },
  {
   "cell_type": "code",
   "execution_count": null,
   "metadata": {},
   "outputs": [],
   "source": [
    "letters = ['a', 'b', 'c']\n",
    "letters += 'xyz'\n",
    "print(f'{letters = }')"
   ]
  },
  {
   "attachments": {},
   "cell_type": "markdown",
   "metadata": {},
   "source": [
    "<div style=\"color: DarkSalmon; font-family: 'Ubuntu Mono', 'Inconsolata', 'Noto Sans TC'; font-size: 250%; font-weight: 700;\">\n",
    "Ski Hat Operator(滑雪帽運算子)\n",
    "</div>\n",
    "\n",
    "<br>\n",
    "<div style=\"font-family: 'Inconsolata', 'Noto Sans TC'; font-size: 135%; color: Gainsboro\">\n",
    "\n",
    "* The <span style=\"color: Gold; font-size: 110%; font-weight: 800;\">ski hat operator</span>, written as <span style=\"color: Crimson; font-size: 150%; font-weight: 800;\">*=0</span>, can be used to empty out a variable, be it a list, string, tuple, or numeric value.\n",
    "\n",
    "* For example, after executing the following code, items will be an empty list."
   ]
  },
  {
   "cell_type": "code",
   "execution_count": null,
   "metadata": {},
   "outputs": [],
   "source": [
    "age = 39\n",
    "print(f'{age = }')\n",
    "age *= 0\n",
    "print(f'{age = }\\n')\n",
    "\n",
    "name = 'Alex'\n",
    "print(f'{id(name) = }   {name = }')\n",
    "name *= 0\n",
    "print(f'{id(name) = }   {name = }\\n')\n",
    "\n",
    "items = [1, 2, 3]\n",
    "print(f'{id(items)}   {items = }')\n",
    "items *= 0\n",
    "print(f'{id(items)}   {items = }\\n')\n",
    "\n",
    "items = (1, 2, 3)\n",
    "print(f'{id(items)}   {items = }')\n",
    "items *= 0\n",
    "print(f'{id(items)}   {items = }\\n')\n",
    "\n",
    "# 不能用在set。\n",
    "# items = {1, 2, 3}\n",
    "# print(f'{id(items)}   {items = }')\n",
    "# items *= 0\n",
    "# print(f'{id(items)}   {items = }\\n')\n",
    "\n",
    "# 不能用在dict。\n",
    "# items = {'id': 1, 'name': 'Alex', 'age': 39}\n",
    "# print(f'{id(items)}   {items = }')\n",
    "# items *= 0\n",
    "# print(f'{id(items)}   {items = }\\n')\n",
    "\n"
   ]
  },
  {
   "cell_type": "code",
   "execution_count": null,
   "metadata": {},
   "outputs": [],
   "source": [
    "items = [1, 2, 3]\n",
    "print(f'{id(items) = }   {items = }')\n",
    "print(f'{id(items[:]) = }   {items[:] = }')\n",
    "\n",
    "# 請猜下面會印出甚麼。\n",
    "# items[:5] = []\n",
    "# print(f'{items = }')"
   ]
  },
  {
   "attachments": {},
   "cell_type": "markdown",
   "metadata": {},
   "source": [
    "<div style=\"color: DarkSalmon; font-family: 'Ubuntu Mono', 'Inconsolata', 'Noto Sans TC'; font-size: 250%; font-weight: 700;\">\n",
    "Dumbbell Operator(啞鈴運算子)\n",
    "</div>\n",
    "\n",
    "<br>\n",
    "<div style=\"font-family: 'Inconsolata', 'Noto Sans TC'; font-size: 135%; color: Gainsboro\">\n",
    "\n",
    "* The <span style=\"color: Gold; font-size: 110%; font-weight: 800;\">dumbbell operator</span>, written as <span style=\"color: Crimson; font-size: 130%; font-weight: 800;\">[:]=[]</span>, can also be used to empty a list, but is not as versatile as the ski hat operator, as it only works for lists (and a few other lesser-used types).\n",
    "\n",
    "* After the following code, items will be an empty list:"
   ]
  },
  {
   "cell_type": "code",
   "execution_count": null,
   "metadata": {},
   "outputs": [],
   "source": [
    "items = [1, 2, 3]\n",
    "print(f'{items = }\\t{items[:] = }')\n",
    "print(f'{id(items) = }\\t{id(items[:]) = }')\n",
    "print(f'{items is items[:] = }\\n')\n",
    "\n",
    "print(f'{id(items) == id(items[:]) = }')"
   ]
  },
  {
   "attachments": {},
   "cell_type": "markdown",
   "metadata": {},
   "source": [
    "<div style=\"color: DarkSalmon; font-family: 'Ubuntu Mono', 'Inconsolata', 'Noto Sans TC'; font-size: 250%; font-weight: 700;\">\n",
    "Lapping Cat Operator(舔猫運算子)\n",
    "</div>\n",
    "\n",
    "<br>\n",
    "<div style=\"font-family: 'Inconsolata', 'Noto Sans TC'; font-size: 135%; color: Gainsboro\">\n",
    "\n",
    "* The <span style=\"color: Gold; font-size: 110%; font-weight: 800;\">lapping cat operator</span>, written as <span style=\"color: Crimson; font-size: 130%; font-weight: 800;\">,=,</span> picks out the first element of an iterable and asserts that the iterable has exactly one element.\n",
    "\n",
    "* After the following code, first is 1.\n",
    "\n"
   ]
  },
  {
   "cell_type": "code",
   "execution_count": null,
   "metadata": {},
   "outputs": [],
   "source": [
    "first, second = [3, 4]\n",
    "print(f'{first = }, {second = }')\n",
    "\n",
    "first = [7, 9]\n",
    "second = [5, 6]\n",
    "print(f'{first = }, {second = }')\n",
    "\n",
    "first ,= (3,)   # 只能有1個元素。\n",
    "second ,= [8]\n",
    "print(f'{first = }, {second = }')"
   ]
  },
  {
   "attachments": {},
   "cell_type": "markdown",
   "metadata": {},
   "source": [
    "<div style=\"color: SteelBlue; font-family: 'Ubuntu Mono', 'Inconsolata', 'Noto Sans TC'; font-size: 300%; font-weight: 700;\">\n",
    "幾個built-in沒提供的好用函數\n",
    "</div>\n",
    "<br>\n",
    "<div style=\"font-family: 'Inconsolata', 'Noto Sans TC'; font-size: 135%; color: Gainsboro\">"
   ]
  },
  {
   "attachments": {},
   "cell_type": "markdown",
   "metadata": {},
   "source": [
    "<div style=\"color: DarkSalmon; font-family: 'Ubuntu Mono', 'Inconsolata', 'Noto Sans TC'; font-size: 250%; font-weight: 700;\">\n",
    "矩陣轉置(Transposing a matrix)\n",
    "</div>\n",
    "\n",
    "<br>\n",
    "<div style=\"font-family: 'Inconsolata', 'Noto Sans TC'; font-size: 135%; color: Gainsboro\">\n",
    "\n",
    "* Python的standard libraries並沒有直接提供轉置矩陣的函數。\n",
    "* numpy(非Python的standard bibrary)倒是有一個built-in的transpose()函數，這大概是最直觀的方法。\n"
   ]
  },
  {
   "cell_type": "code",
   "execution_count": null,
   "metadata": {},
   "outputs": [],
   "source": [
    "import numpy as np\n",
    "\n",
    "old_matrix = np.array([[1, 2, 3], [4, 5, 6], [7, 8, 9], ['a', 'b', 'c']])\n",
    "print(f'{old_matrix = }')\n",
    "\n",
    "new_matrix = np.transpose(old_matrix)\n",
    "print(f'{new_matrix = }')"
   ]
  },
  {
   "attachments": {},
   "cell_type": "markdown",
   "metadata": {},
   "source": [
    "<div style=\"color: DarkSalmon; font-family: 'Ubuntu Mono', 'Inconsolata', 'Noto Sans TC'; font-size: 250%; font-weight: 700;\">\n",
    "矩陣轉置(Transposing a matrix)\n",
    "</div>\n",
    "\n",
    "<br>\n",
    "<div style=\"font-family: 'Inconsolata', 'Noto Sans TC'; font-size: 135%; color: Gainsboro\">\n",
    "\n",
    "但numpy的array結構如果是如下這樣會出錯。\n"
   ]
  },
  {
   "cell_type": "code",
   "execution_count": null,
   "metadata": {},
   "outputs": [],
   "source": [
    "import numpy as np\n",
    "\n",
    "old_matrix = np.array([[1, 2, 3], [4, 5, 6], [7, 8, 9], ['abc']])\n",
    "# old_matrix = np.array([[1, 2, 3], [4, 5, 6], [7, 8, 9], 'abc'])\n",
    "print(f'{old_matrix = }')\n",
    "\n",
    "new_matrix = np.transpose(old_matrix)\n",
    "print(f'{new_matrix = }')"
   ]
  },
  {
   "attachments": {},
   "cell_type": "markdown",
   "metadata": {},
   "source": [
    "<div style=\"color: DarkSalmon; font-family: 'Ubuntu Mono', 'Inconsolata', 'Noto Sans TC'; font-size: 250%; font-weight: 700;\">\n",
    "矩陣轉置(Transposing a matrix)\n",
    "</div>\n",
    "\n",
    "<br>\n",
    "<div style=\"font-family: 'Inconsolata', 'Noto Sans TC'; font-size: 135%; color: Gainsboro\">\n",
    "\n",
    "* 以下是不須動用numpy的transpose方法。\n",
    "* 注意：matrix可以用numpy的array不允許的結構。\n"
   ]
  },
  {
   "cell_type": "code",
   "execution_count": null,
   "metadata": {},
   "outputs": [],
   "source": [
    "# verbose version: 兩個for's的comprehension。\n",
    "def transpose_matrix1(matrix):\n",
    "    return [[row[i] for row in matrix] for i in range(len(matrix[0]))]\n",
    "\n",
    "# elegant version: 用zip()。\n",
    "def transpose_matrix2(matrix):\n",
    "    [print(row) for row in zip(*matrix)]\n",
    "    return [list(row) for row in zip(*matrix)]\n",
    "\n",
    "old_matrix = [(1, 2, 3), [4, 5, 6], (7, 8, 9), ['abc']]\n",
    "# old_matrix = [(1, 2, 3), [4, 5, 6], (7, 8, 9), 'abc']\n",
    "print(f'{old_matrix = }')\n",
    "new_matrix = transpose_matrix2(old_matrix)\n",
    "print(f'{new_matrix = }')"
   ]
  },
  {
   "attachments": {},
   "cell_type": "markdown",
   "metadata": {},
   "source": [
    "<div style=\"color: DarkSalmon; font-family: 'Ubuntu Mono', 'Inconsolata', 'Noto Sans TC'; font-size: 250%; font-weight: 700;\">\n",
    "刪除所有同值元素\n",
    "</div>\n",
    "\n",
    "<br>\n",
    "<div style=\"font-family: 'Inconsolata', 'Noto Sans TC'; font-size: 135%; color: Gainsboro\">\n"
   ]
  },
  {
   "cell_type": "code",
   "execution_count": null,
   "metadata": {},
   "outputs": [],
   "source": [
    "# remove all items with the same vallue.\n",
    "def remove_all(item, seq):\n",
    "    \"\"\"Return a copy of seq (or string) with all occurences of item removed.\"\"\"\n",
    "    if isinstance(seq, str):\n",
    "        return seq.replace(item, '')\n",
    "    else:\n",
    "        return [x for x in seq if x != item]\n",
    "\n",
    "item = 3\n",
    "seq = (9, 4, 3, 0, 7, 2, 3, 7, 33, 3, 7, '3', 0, 3.0)\n",
    "remove_all(item, seq)"
   ]
  },
  {
   "attachments": {},
   "cell_type": "markdown",
   "metadata": {},
   "source": [
    "<div style=\"color: DarkSalmon; font-family: 'Ubuntu Mono', 'Inconsolata', 'Noto Sans TC'; font-size: 250%; font-weight: 700;\">\n",
    "計算有多少解譯成True的items\n",
    "</div>\n",
    "\n",
    "<br>\n",
    "<div style=\"font-family: 'Inconsolata', 'Noto Sans TC'; font-size: 135%; color: Gainsboro\">"
   ]
  },
  {
   "cell_type": "code",
   "execution_count": null,
   "metadata": {},
   "outputs": [],
   "source": [
    "# 計算seq內有幾個可以解譯(interpreted)為True的items。\n",
    "def count_true(seq):\n",
    "    \"\"\"Count the number of items in sequence that are interpreted as True.\"\"\"\n",
    "    return sum(bool(x) for x in seq)\n",
    "\n",
    "seq = ()\n",
    "print(f'{seq = }')\n",
    "print(f'{count_true(seq) = }\\n')\n",
    "\n",
    "seq = (3, 0.0, None, True, '0', ' ', False, [], '', -1, (), (0), (0,), {})\n",
    "print(f'{seq = }')\n",
    "print(f'{count_true(seq) = }\\n')\n",
    "\n",
    "seq = (0, {}, set(), range(0))\n",
    "print(f'{seq = }')\n",
    "print(f'{count_true(seq) = }\\n')"
   ]
  },
  {
   "attachments": {},
   "cell_type": "markdown",
   "metadata": {},
   "source": []
  },
  {
   "cell_type": "code",
   "execution_count": null,
   "metadata": {},
   "outputs": [],
   "source": [
    "for i in range(10):\n",
    "    if i == 5:\n",
    "        print(\"Break loop, no else!\")\n",
    "        break\n",
    "else:\n",
    "    print(\"This won't be called.\")\n",
    "\n",
    "for i in range(10):\n",
    "    if i == 10:\n",
    "        print(\"This won't be called\")\n",
    "        break\n",
    "else:\n",
    "    print(\"The loop did not break!\")"
   ]
  },
  {
   "attachments": {},
   "cell_type": "markdown",
   "metadata": {},
   "source": [
    "\n",
    "<div style=\"text-align:center\"><img src=\"https://hackmd.io/_uploads/S1WrKe3sSh.jpg\" width=\"600\"/></div>\n"
   ]
  },
  {
   "attachments": {},
   "cell_type": "markdown",
   "metadata": {},
   "source": [
    "\n",
    "<div style=\"text-align:center\"><img src=\"https://hackmd.io/_uploads/S1HKehiB2.jpg\" width=\"600\"/></div>\n"
   ]
  },
  {
   "attachments": {},
   "cell_type": "markdown",
   "metadata": {},
   "source": [
    "\n",
    "<div style=\"text-align:center\"><img src=\"https://hackmd.io/_uploads/r1lrYe3oSh.jpg\" width=\"600\"/></div>\n"
   ]
  },
  {
   "cell_type": "code",
   "execution_count": null,
   "metadata": {},
   "outputs": [],
   "source": []
  },
  {
   "attachments": {},
   "cell_type": "markdown",
   "metadata": {},
   "source": [
    "\n",
    "<div style=\"text-align:center\"><img src=\"https://hackmd.io/_uploads/SJSYl3jrn.jpg\" width=\"600\"/></div>\n"
   ]
  },
  {
   "cell_type": "code",
   "execution_count": null,
   "metadata": {},
   "outputs": [],
   "source": []
  },
  {
   "attachments": {},
   "cell_type": "markdown",
   "metadata": {},
   "source": [
    "\n",
    "<div style=\"text-align:center\"><img src=\"https://hackmd.io/_uploads/rkMHYe2sr2.jpg\" width=\"600\"/></div>\n"
   ]
  },
  {
   "cell_type": "code",
   "execution_count": null,
   "metadata": {},
   "outputs": [],
   "source": []
  },
  {
   "cell_type": "code",
   "execution_count": null,
   "metadata": {},
   "outputs": [],
   "source": []
  },
  {
   "attachments": {},
   "cell_type": "markdown",
   "metadata": {},
   "source": [
    "\n",
    "<div style=\"text-align:center\"><img src=\"https://hackmd.io/_uploads/SkxHFg2sr2.jpg\" width=\"600\"/></div>\n"
   ]
  },
  {
   "cell_type": "code",
   "execution_count": null,
   "metadata": {},
   "outputs": [],
   "source": []
  },
  {
   "cell_type": "code",
   "execution_count": null,
   "metadata": {},
   "outputs": [],
   "source": []
  },
  {
   "attachments": {},
   "cell_type": "markdown",
   "metadata": {},
   "source": [
    "\n",
    "<div style=\"text-align:center\"><img src=\"https://hackmd.io/_uploads/r1lSFx2srn.jpg\" width=\"600\"/></div>\n"
   ]
  },
  {
   "cell_type": "code",
   "execution_count": null,
   "metadata": {},
   "outputs": [],
   "source": []
  },
  {
   "attachments": {},
   "cell_type": "markdown",
   "metadata": {},
   "source": [
    "\n",
    "<div style=\"text-align:center\"><img src=\"https://hackmd.io/_uploads/HySFe2sr2.jpg\" width=\"600\"/></div>\n"
   ]
  },
  {
   "attachments": {},
   "cell_type": "markdown",
   "metadata": {},
   "source": [
    "\n",
    "<div style=\"text-align:center\"><img src=\"https://hackmd.io/_uploads/rklSYg3oHh.jpg\" width=\"600\"/></div>\n"
   ]
  },
  {
   "attachments": {},
   "cell_type": "markdown",
   "metadata": {},
   "source": [
    "\n",
    "<div style=\"text-align:center\"><img src=\"https://hackmd.io/_uploads/BybHFenjr2.jpg\" width=\"600\"/></div>\n"
   ]
  },
  {
   "attachments": {},
   "cell_type": "markdown",
   "metadata": {},
   "source": [
    "\n",
    "<div style=\"text-align:center\"><img src=\"https://hackmd.io/_uploads/ByMBFg3iBh.png\" width=\"600\"/></div>\n"
   ]
  },
  {
   "attachments": {},
   "cell_type": "markdown",
   "metadata": {},
   "source": [
    "\n",
    "<div style=\"text-align:center\"><img src=\"https://hackmd.io/_uploads/rkbrtx3iS3.png\" width=\"600\"/></div>\n"
   ]
  },
  {
   "attachments": {},
   "cell_type": "markdown",
   "metadata": {},
   "source": [
    "\n",
    "<div style=\"text-align:center\"><img src=\"https://hackmd.io/_uploads/ry7HtehiS3.png\" width=\"600\"/></div>\n"
   ]
  },
  {
   "cell_type": "code",
   "execution_count": null,
   "metadata": {},
   "outputs": [],
   "source": [
    "# report = 'Preliminary report : G(+) Cocci in clusters, identification pending.'\n",
    "report = 'cttcrt rtd trrt '\n",
    "\n",
    "bacteria_prefix = 'Preliminary report :'\n",
    "if report.startswith(bacteria_prefix):\n",
    "    print('There are bacteria.')\n",
    "else:\n",
    "    print('There are no bacteria.')"
   ]
  }
 ],
 "metadata": {
  "kernelspec": {
   "display_name": "Python 3",
   "language": "python",
   "name": "python3"
  },
  "language_info": {
   "codemirror_mode": {
    "name": "ipython",
    "version": 3
   },
   "file_extension": ".py",
   "mimetype": "text/x-python",
   "name": "python",
   "nbconvert_exporter": "python",
   "pygments_lexer": "ipython3",
   "version": "3.11.3"
  },
  "orig_nbformat": 4
 },
 "nbformat": 4,
 "nbformat_minor": 2
}
