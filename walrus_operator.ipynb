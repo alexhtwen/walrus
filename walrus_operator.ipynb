{
 "cells": [
  {
   "attachments": {},
   "cell_type": "markdown",
   "metadata": {},
   "source": [
    "<br><br><br>\n",
    "<div style=\"font-family: 'Gen Jyuu Gothic Monospace Medium', 'Noto Sans TC'; font-size: 480%; font-weight: 700; text-align: center; color: Plum;\">再談談 Walrus Operator\n"
   ]
  },
  {
   "attachments": {},
   "cell_type": "markdown",
   "metadata": {},
   "source": [
    "<div style=\"text-align:center\"><img src=\"https://hackmd.io/_uploads/HJsUHmqEn.jpg\" width=\"700\"/></div>"
   ]
  },
  {
   "attachments": {},
   "cell_type": "markdown",
   "metadata": {},
   "source": [
    "<div style=\"text-align:center\"><img src=\"https://hackmd.io/_uploads/BkiLBm5N2.jpg\" width=\"700\"/></div>"
   ]
  },
  {
   "attachments": {},
   "cell_type": "markdown",
   "metadata": {},
   "source": [
    "<div style=\"text-align:center\"><img src=\"https://hackmd.io/_uploads/Bki8SQ54h.jpg\" width=\"700\"/></div>"
   ]
  },
  {
   "attachments": {},
   "cell_type": "markdown",
   "metadata": {},
   "source": [
    "<div style=\"text-align:center\"><img src=\"https://hackmd.io/_uploads/SyoIBX5Vn.jpg\" width=\"700\"/></div>"
   ]
  },
  {
   "attachments": {},
   "cell_type": "markdown",
   "metadata": {},
   "source": [
    "<div style=\"text-align:center\"><img src=\"https://hackmd.io/_uploads/Hkj8BmcEn.jpg\" width=\"700\"/></div>"
   ]
  },
  {
   "attachments": {},
   "cell_type": "markdown",
   "metadata": {},
   "source": [
    "<div style=\"text-align:center\"><img src=\"https://hackmd.io/_uploads/H1iIHQcV2.jpg\" width=\"700\"/></div>"
   ]
  },
  {
   "attachments": {},
   "cell_type": "markdown",
   "metadata": {},
   "source": [
    "<div style=\"text-align:center\"><img src=\"https://hackmd.io/_uploads/SkoUBXc4h.jpg\"\n",
    " width=\"700\"/></div>"
   ]
  },
  {
   "attachments": {},
   "cell_type": "markdown",
   "metadata": {},
   "source": [
    "<div style=\"text-align:center\"><img src=\"https://hackmd.io/_uploads/SksUHX54h.jpg\" width=\"700\"/></div>"
   ]
  },
  {
   "attachments": {},
   "cell_type": "markdown",
   "metadata": {},
   "source": [
    "<div style=\"text-align:center\"><img src=\"https://hackmd.io/_uploads/B1jISX9E3.jpg\" width=\"700\"/></div>"
   ]
  },
  {
   "attachments": {},
   "cell_type": "markdown",
   "metadata": {},
   "source": [
    "<div style=\"text-align:center\"><img src=\"https://hackmd.io/_uploads/BJFtB7qNn.jpg\" width=\"700\"/></div>"
   ]
  },
  {
   "attachments": {},
   "cell_type": "markdown",
   "metadata": {},
   "source": [
    "<div style=\"font-family: 'Inconsolata', 'Noto Sans TC'; font-size: 135%;\">\n",
    "\n",
    "## <font color='SteelBlue'><b>先釐清幾個程式語言上的術語和觀念</b></font>\n"
   ]
  },
  {
   "attachments": {},
   "cell_type": "markdown",
   "metadata": {},
   "source": [
    "<div style=\"font-family: 'Inconsolata', 'Noto Sans TC'; font-size: 150%;\">\n",
    "\n",
    "### <font color='DarkSalmon'><b>Literals vs Variables</b></font>\n",
    "\n",
    "In programming, the terms <span style=\"color: GoldenRod; font-size: 110%; font-weight: 800;\">literal</span> and <span style=\"color: GoldenRod; font-size: 110%; font-weight: 800;\">variable</span> refer to two different kinds of elements that you can use to store and manipulate data.\n",
    "\n",
    "* <span style=\"color: GoldenRod; font-size: 125%; font-weight: 800;\">Literal(定數)</span>:\n",
    "    * A literal is a notation for representing a fixed value in source code. They are called literals because they are \"literal\" representations of values. For instance, in the code int x = 5;, 5 is a literal. It's a specific, fixed value written into the code. Literals can be of different types such as:\n",
    "        \n",
    "        |定數型別|範例|\n",
    "        |--|--|\n",
    "        |Integer literals |1, 2, 3)|\n",
    "        |Floating-point literals |1.1, 2.2, 3.3)|\n",
    "        |Character literals |('a', 'b', 'c')|\n",
    "        |String literals |(\"hello\", \"world\")|\n",
    "        |Boolean literals |True, False|\n",
    "        |NoneType literal|None|\n",
    "\n",
    "* Variable(變數):\n",
    "\n",
    "A variable, on the other hand, is a symbolic name for a memory location where a programmer can store, retrieve and manipulate data. The value of a variable can change throughout the execution of a program. In the same example int x = 5;, x is a variable. The x symbol is a stand-in for whatever value is currently stored in the memory location that x represents.\n",
    "\n",
    "Comparison:\n",
    "\n",
    "Comparing the two:\n",
    "\n",
    "Literals are fixed values used in code, whereas variables are symbolic names for memory locations whose values can be changed.\n",
    "Literals don't change their values during the execution of a program. Variables, in contrast, can be assigned different values.\n",
    "Variables can hold the values of literals. For instance, in the line int x = 5;, x is a variable that is holding the integer literal 5.\n"
   ]
  },
  {
   "attachments": {},
   "cell_type": "markdown",
   "metadata": {},
   "source": [
    "<div style=\"font-family: 'Inconsolata', 'Noto Sans TC'; font-size: 135%;\">\n",
    "\n",
    "### <font color='DarkSalmon'><b>Expressions vs Statements</b></font>\n",
    "\n",
    "* Expression\n",
    "    * In programming, an expression is a combination of one or more values, variables, operators, and function calls that evaluate to a single value. Expressions can be used in a variety of contexts, such as assigning a value to a variable, passing arguments to a function, or as part of a larger expression. For example, in the following Python code, 2 + 3 is an expression that evaluates to 5:\n",
    "\n",
    "    ```    \n",
    "    x = 2 + 3\n",
    "    ```\n",
    "* In contrast, a statement is a complete instruction that performs a specific action. Statements are typically composed of one or more expressions, along with keywords and other syntax that specify the operation to be performed. For example, the following Python code contains a statement that assigns a value to a variable:\n",
    "    ```\n",
    "    x = 5\n",
    "    ```\n",
    "In this case, the entire line x = 5 is a statement that assigns the value 5 to the variable x.\n",
    "\n",
    "* In summary, expressions are used to represent values and computations that evaluate to a single value, while statements are used to perform actions and can include one or more expressions as part of their syntax.\n",
    "\n",
    "\n",
    "\n",
    "\n",
    "\n",
    "        * ..\n",
    "    * Statement\n",
    "        * ..\n",
    "        * ..\n"
   ]
  },
  {
   "attachments": {},
   "cell_type": "markdown",
   "metadata": {},
   "source": [
    "<div style=\"font-family: 'Inconsolata', 'Noto Sans TC'; font-size: 135%;\">\n",
    "\n",
    "### <font color='DarkSalmon'><b>第3層標題</b></font>\n",
    "\n",
    "* ...\n",
    "* ..."
   ]
  },
  {
   "attachments": {},
   "cell_type": "markdown",
   "metadata": {},
   "source": [
    "## 傳統version 0\n",
    "* 用for loop\n",
    "* 限制：\n",
    "    * 只有這種情形才能使用。"
   ]
  },
  {
   "cell_type": "code",
   "execution_count": 7,
   "metadata": {},
   "outputs": [
    {
     "name": "stdout",
     "output_type": "stream",
     "text": [
      "The Zen of Python, by Tim Peters\n",
      "\n",
      "Beautiful is better than ugly.\n",
      "Explicit is better than implicit.\n",
      "Simple is better than complex.\n",
      "Complex is better than complicated.\n",
      "Flat is better than nested.\n",
      "Sparse is better than dense.\n",
      "Readability counts.\n",
      "Special cases aren't special enough to break the rules.\n",
      "Although practicality beats purity.\n",
      "Errors should never pass silently.\n",
      "Unless explicitly silenced.\n",
      "In the face of ambiguity, refuse the temptation to guess.\n",
      "There should be one-- and preferably only one --obvious way to do it.\n",
      "Although that way may not be obvious at first unless you're Dutch.\n",
      "Now is better than never.\n",
      "Although never is often better than *right* now.\n",
      "If the implementation is hard to explain, it's a bad idea.\n",
      "If the implementation is easy to explain, it may be a good idea.\n",
      "Namespaces are one honking great idea -- let's do more of those!"
     ]
    }
   ],
   "source": [
    "with open('./Zen.txt', 'r') as f:\n",
    "    for line in f:\n",
    "        print(line, end='')"
   ]
  },
  {
   "attachments": {},
   "cell_type": "markdown",
   "metadata": {},
   "source": [
    "## 傳統version 1\n",
    "* 缺點：\n",
    "    * 要寫2次readline()，不夠簡潔優雅。\n",
    "    * ...\n"
   ]
  },
  {
   "cell_type": "code",
   "execution_count": null,
   "metadata": {},
   "outputs": [],
   "source": [
    "with open('./Zen.txt', 'r') as file:\n",
    "    line = file.readline()    # 讀取檔案的第1行。\n",
    "    while line:\n",
    "        print(line, end='')\n",
    "        line = file.readline()   # 從第2行起讀到檔案結束。"
   ]
  },
  {
   "attachments": {},
   "cell_type": "markdown",
   "metadata": {},
   "source": [
    "## 傳統version 2\n",
    "* 缺點：\n",
    "    * 在while True中用if，不夠簡潔優雅。\n",
    "    * ..."
   ]
  },
  {
   "cell_type": "code",
   "execution_count": null,
   "metadata": {},
   "outputs": [],
   "source": [
    "with open('./Zen.txt', 'r') as file:\n",
    "    while True:\n",
    "        line = file.readline()\n",
    "        if not line:\n",
    "            break\n",
    "        print(line, end='')"
   ]
  },
  {
   "attachments": {},
   "cell_type": "markdown",
   "metadata": {},
   "source": [
    "## Walrus Operator Version\n",
    "* Assignment Expression (賦值運算式)\n",
    "* Python 3.8版開始引進的一個新語法。\n",
    "* 長相很像一隻「海象」的鼻子+象牙(`:=`)\n"
   ]
  },
  {
   "cell_type": "code",
   "execution_count": null,
   "metadata": {},
   "outputs": [],
   "source": [
    "with open()"
   ]
  },
  {
   "cell_type": "code",
   "execution_count": 11,
   "metadata": {},
   "outputs": [
    {
     "ename": "SyntaxError",
     "evalue": "invalid syntax. Maybe you meant '==' or ':=' instead of '='? (2746450824.py, line 2)",
     "output_type": "error",
     "traceback": [
      "\u001b[0;36m  Cell \u001b[0;32mIn[11], line 2\u001b[0;36m\u001b[0m\n\u001b[0;31m    while line = file.readline():\u001b[0m\n\u001b[0m          ^\u001b[0m\n\u001b[0;31mSyntaxError\u001b[0m\u001b[0;31m:\u001b[0m invalid syntax. Maybe you meant '==' or ':=' instead of '='?\n"
     ]
    }
   ],
   "source": [
    "with open('./Zen.txt', 'r') as file:\n",
    "    while line := file.readline():   # expression\n",
    "        print(line, end='')\n",
    "        \n",
    "\n",
    "# Python的file stream物件給予的特別方便\n",
    "with open('./Zen.txt', 'r') as file:\n",
    "    for line in file:\n",
    "        print(line, end='')        "
   ]
  },
  {
   "attachments": {},
   "cell_type": "markdown",
   "metadata": {},
   "source": [
    "## walrus operator version\n",
    "* 優點：\n",
    "    * ..\n",
    "    * .."
   ]
  },
  {
   "attachments": {},
   "cell_type": "markdown",
   "metadata": {},
   "source": [
    "## walrus operator version\n",
    "* 缺點：\n",
    "    * ..\n",
    "    * ..\n",
    "疑點：\n",
    "    * ..\n",
    "    * .."
   ]
  },
  {
   "cell_type": "code",
   "execution_count": 41,
   "metadata": {},
   "outputs": [
    {
     "name": "stdout",
     "output_type": "stream",
     "text": [
      "Point(10, 20).x = 10\n"
     ]
    }
   ],
   "source": [
    "class Point():\n",
    "    def __init__(self, x, y):\n",
    "        self.x = x\n",
    "        self.y = y\n",
    "    def move(self):\n",
    "        print('move')\n",
    "        \n",
    "print(f'{Point(10, 20).x = }')"
   ]
  },
  {
   "attachments": {},
   "cell_type": "markdown",
   "metadata": {},
   "source": [
    "<div style=\"font-family: 'Inconsolata', 'Noto Sans TC'; font-size: 135%;\">\n",
    "\n",
    "## <font color='SteelBlue'><b>其他較少用或見都沒見過的運算子</b></font>\n"
   ]
  },
  {
   "attachments": {},
   "cell_type": "markdown",
   "metadata": {},
   "source": [
    "<div style=\"font-family: 'Inconsolata', 'Noto Sans TC'; font-size: 150%;\">\n",
    "\n",
    "### <font color='DarkSalmon'><b>list + str</b></font>\n"
   ]
  },
  {
   "cell_type": "code",
   "execution_count": 1,
   "metadata": {},
   "outputs": [
    {
     "name": "stdout",
     "output_type": "stream",
     "text": [
      "letters = ['a', 'b', 'c', 'x', 'y', 'z']\n"
     ]
    }
   ],
   "source": [
    "letters = ['a', 'b', 'c']\n",
    "letters += 'xyz'\n",
    "print(f'{letters = }')"
   ]
  },
  {
   "attachments": {},
   "cell_type": "markdown",
   "metadata": {},
   "source": [
    "<div style=\"font-family: 'Inconsolata', 'Noto Sans TC'; font-size: 150%;\">\n",
    "\n",
    "### <font color='DarkSalmon'><b>Ski Hat Operator</b></font>\n",
    "\n",
    "* The “ski hat” operator, written as *=0, can be used to empty out a variable, be it a list, string, tuple, or numeric value.\n",
    "\n",
    "* For example, after executing the following code, items will be an empty list."
   ]
  },
  {
   "cell_type": "code",
   "execution_count": null,
   "metadata": {},
   "outputs": [],
   "source": [
    "items = [1, 2, 3]\n",
    "items *=0"
   ]
  },
  {
   "attachments": {},
   "cell_type": "markdown",
   "metadata": {},
   "source": [
    "<div style=\"font-family: 'Inconsolata', 'Noto Sans TC'; font-size: 150%;\">\n",
    "\n",
    "### <font color='DarkSalmon'><b>Dumbbell Operator</b></font>\n",
    "\n",
    "* The \"dumbbell operator\", written as [:]=[], can also be used to empty a list, but is not as versatile as the ski hat operator, as it only works for lists (and a few other lesser-used types).\n",
    "\n",
    "* After the following code, items will be an empty list:"
   ]
  },
  {
   "cell_type": "code",
   "execution_count": 9,
   "metadata": {},
   "outputs": [
    {
     "name": "stdout",
     "output_type": "stream",
     "text": [
      "items = [1, 2, 3]\titems[:] = [1, 2, 3]\n",
      "id(items) = 140570676790464\t140570677042112\n",
      "items is items[:] = False\n",
      "id(items) == id(items[:]) = False\n"
     ]
    }
   ],
   "source": [
    "items = [1, 2, 3]\n",
    "print(f'{items = }\\t{items[:] = }')\n",
    "print(f'{id(items) = }\\t{id(items[:])}')\n",
    "print(f'{items is items[:] = }')\n",
    "print(f'{id(items) == id(items[:]) = }')"
   ]
  },
  {
   "cell_type": "code",
   "execution_count": 12,
   "metadata": {},
   "outputs": [
    {
     "name": "stdout",
     "output_type": "stream",
     "text": [
      "items = []\n"
     ]
    }
   ],
   "source": [
    "print(f'{items = }')"
   ]
  },
  {
   "cell_type": "code",
   "execution_count": 15,
   "metadata": {},
   "outputs": [
    {
     "name": "stdout",
     "output_type": "stream",
     "text": [
      "items = [1, 2, 3]\n",
      "items[:] = []\n",
      "items = []\n"
     ]
    }
   ],
   "source": [
    "items = (1, 2, 3)\n",
    "print(f'{items = }')\n",
    "items[:5] = []\n",
    "print(f'{items[:] = }')\n",
    "\n",
    "# 請猜下面會印出甚麼。\n",
    "print(f'{items = }')"
   ]
  },
  {
   "attachments": {},
   "cell_type": "markdown",
   "metadata": {},
   "source": [
    "<div style=\"font-family: 'Inconsolata', 'Noto Sans TC'; font-size: 150%;\">\n",
    "\n",
    "### <font color='DarkSalmon'><b>Lapping Cat Operator</b></font>\n",
    "\n",
    "* The \"lapping cat\" operator, written as ,=, picks out the first element of an iterable and asserts that the iterable has exactly one element.\n",
    "\n",
    "* After the following code, first is 1.\n",
    "\n"
   ]
  },
  {
   "cell_type": "code",
   "execution_count": 9,
   "metadata": {},
   "outputs": [
    {
     "data": {
      "text/plain": [
       "(1, 2)"
      ]
     },
     "execution_count": 9,
     "metadata": {},
     "output_type": "execute_result"
    }
   ],
   "source": [
    "first , second = [1, 2]\n",
    "first, second"
   ]
  },
  {
   "attachments": {},
   "cell_type": "markdown",
   "metadata": {},
   "source": [
    "<div style=\"font-family: 'Inconsolata', 'Noto Sans TC'; font-size: 135%;\">\n",
    "\n",
    "## <font color='SteelBlue'><b>幾個built-in沒提供的好用函數</b></font>\n"
   ]
  },
  {
   "attachments": {},
   "cell_type": "markdown",
   "metadata": {},
   "source": [
    "<div style=\"font-family: 'Inconsolata', 'Noto Sans TC'; font-size: 150%;\">\n",
    "\n",
    "### <font color='DarkSalmon'><b>矩陣轉置(Transposing a matrix)</b></font>\n",
    "* Python的standard libraries並沒有直接提供轉置矩陣的函數。\n",
    "* numpy(非Python的standard bibrary)倒是有一個built-in的transpose()函數，這大概是最直觀的方法。\n"
   ]
  },
  {
   "cell_type": "code",
   "execution_count": 41,
   "metadata": {},
   "outputs": [
    {
     "name": "stdout",
     "output_type": "stream",
     "text": [
      "old_matrix = array([['1', '2', '3'],\n",
      "       ['4', '5', '6'],\n",
      "       ['7', '8', '9'],\n",
      "       ['a', 'b', 'c']], dtype='<U21')\n",
      "new_matrix = array([['1', '4', '7', 'a'],\n",
      "       ['2', '5', '8', 'b'],\n",
      "       ['3', '6', '9', 'c']], dtype='<U21')\n"
     ]
    }
   ],
   "source": [
    "import numpy as np\n",
    "\n",
    "old_matrix = np.array([[1, 2, 3], [4, 5, 6], [7, 8, 9], ['a', 'b', 'c']])\n",
    "print(f'{old_matrix = }')\n",
    "\n",
    "new_matrix = np.transpose(old_matrix)\n",
    "print(f'{new_matrix = }')"
   ]
  },
  {
   "attachments": {},
   "cell_type": "markdown",
   "metadata": {},
   "source": [
    "<div style=\"font-family: 'Inconsolata', 'Noto Sans TC'; font-size: 150%;\">\n",
    "\n",
    "### <font color='DarkSalmon'><b>矩陣轉置(Transposing a matrix)</b></font>\n",
    "* 但numpy的array結構如果是如下這樣會出錯。\n"
   ]
  },
  {
   "cell_type": "code",
   "execution_count": 4,
   "metadata": {},
   "outputs": [
    {
     "ename": "ValueError",
     "evalue": "setting an array element with a sequence. The requested array has an inhomogeneous shape after 1 dimensions. The detected shape was (4,) + inhomogeneous part.",
     "output_type": "error",
     "traceback": [
      "\u001b[0;31m---------------------------------------------------------------------------\u001b[0m",
      "\u001b[0;31mValueError\u001b[0m                                Traceback (most recent call last)",
      "Cell \u001b[0;32mIn[4], line 3\u001b[0m\n\u001b[1;32m      1\u001b[0m \u001b[39mimport\u001b[39;00m \u001b[39mnumpy\u001b[39;00m \u001b[39mas\u001b[39;00m \u001b[39mnp\u001b[39;00m\n\u001b[0;32m----> 3\u001b[0m old_matrix \u001b[39m=\u001b[39m np\u001b[39m.\u001b[39;49marray([[\u001b[39m1\u001b[39;49m, \u001b[39m2\u001b[39;49m, \u001b[39m3\u001b[39;49m], [\u001b[39m4\u001b[39;49m, \u001b[39m5\u001b[39;49m, \u001b[39m6\u001b[39;49m], [\u001b[39m7\u001b[39;49m, \u001b[39m8\u001b[39;49m, \u001b[39m9\u001b[39;49m], [\u001b[39m'\u001b[39;49m\u001b[39mabc\u001b[39;49m\u001b[39m'\u001b[39;49m]])\n\u001b[1;32m      4\u001b[0m \u001b[39m# old_matrix = np.array([[1, 2, 3], [4, 5, 6], [7, 8, 9], 'abc'])\u001b[39;00m\n\u001b[1;32m      5\u001b[0m \u001b[39mprint\u001b[39m(\u001b[39mf\u001b[39m\u001b[39m'\u001b[39m\u001b[39m{\u001b[39;00mold_matrix\u001b[39m \u001b[39m\u001b[39m= }\u001b[39;00m\u001b[39m'\u001b[39m)\n",
      "\u001b[0;31mValueError\u001b[0m: setting an array element with a sequence. The requested array has an inhomogeneous shape after 1 dimensions. The detected shape was (4,) + inhomogeneous part."
     ]
    }
   ],
   "source": [
    "import numpy as np\n",
    "\n",
    "old_matrix = np.array([[1, 2, 3], [4, 5, 6], [7, 8, 9], ['abc']])\n",
    "# old_matrix = np.array([[1, 2, 3], [4, 5, 6], [7, 8, 9], 'abc'])\n",
    "print(f'{old_matrix = }')\n",
    "\n",
    "new_matrix = np.transpose(old_matrix)\n",
    "print(f'{new_matrix = }')"
   ]
  },
  {
   "attachments": {},
   "cell_type": "markdown",
   "metadata": {},
   "source": [
    "<div style=\"font-family: 'Inconsolata', 'Noto Sans TC'; font-size: 150%;\">\n",
    "\n",
    "### <font color='DarkSalmon'><b>矩陣轉置(Transposing a matrix)</b></font>\n",
    "* 以下是不須動用numpy的transpose方法。\n",
    "* 注意：matrix可以用numpy的array不允許的結構。\n"
   ]
  },
  {
   "cell_type": "code",
   "execution_count": 5,
   "metadata": {},
   "outputs": [
    {
     "name": "stdout",
     "output_type": "stream",
     "text": [
      "old_matrix = [(1, 2, 3), [4, 5, 6], (7, 8, 9), ['abc']]\n",
      "(1, 4, 7, 'abc')\n",
      "new_matrix = [[1, 4, 7, 'abc']]\n"
     ]
    }
   ],
   "source": [
    "# verbose version: 兩個for's的comprehension。\n",
    "def transpose_matrix1(matrix):\n",
    "    return [[row[i] for row in matrix] for i in range(len(matrix[0]))]\n",
    "\n",
    "# elegant version: 用zip()。\n",
    "def transpose_matrix2(matrix):\n",
    "    [print(row) for row in zip(*matrix)]\n",
    "    return [list(row) for row in zip(*matrix)]\n",
    "\n",
    "old_matrix = [(1, 2, 3), [4, 5, 6], (7, 8, 9), ['abc']]\n",
    "# old_matrix = [(1, 2, 3), [4, 5, 6], (7, 8, 9), 'abc']\n",
    "print(f'{old_matrix = }')\n",
    "new_matrix = transpose_matrix2(old_matrix)\n",
    "print(f'{new_matrix = }')"
   ]
  },
  {
   "attachments": {},
   "cell_type": "markdown",
   "metadata": {},
   "source": [
    "<div style=\"font-family: 'Inconsolata', 'Noto Sans TC'; font-size: 150%;\">\n",
    "\n",
    "### <font color='DarkSalmon'><b>刪除所有同值元素</b></font>\n"
   ]
  },
  {
   "cell_type": "code",
   "execution_count": 23,
   "metadata": {},
   "outputs": [
    {
     "data": {
      "text/plain": [
       "[9, 4, 0, 7, 2, 7, 33, 7, '3', 0]"
      ]
     },
     "execution_count": 23,
     "metadata": {},
     "output_type": "execute_result"
    }
   ],
   "source": [
    "# remove all items with the same vallue.\n",
    "def remove_all(item, seq):\n",
    "    \"\"\"Return a copy of seq (or string) with all occurences of item removed.\"\"\"\n",
    "    if isinstance(seq, str):\n",
    "        return seq.replace(item, '')\n",
    "    else:\n",
    "        return [x for x in seq if x != item]\n",
    "\n",
    "item = 3\n",
    "seq = (9, 4, 3, 0, 7, 2, 3, 7, 33, 3, 7, '3', 0, 3.0)\n",
    "remove_all(item, seq)"
   ]
  },
  {
   "attachments": {},
   "cell_type": "markdown",
   "metadata": {},
   "source": [
    "<div style=\"font-family: 'Inconsolata', 'Noto Sans TC'; font-size: 150%;\">\n",
    "\n",
    "### <font color='DarkSalmon'><b>計算有多少解譯成True的items</b></font>"
   ]
  },
  {
   "cell_type": "code",
   "execution_count": 12,
   "metadata": {},
   "outputs": [
    {
     "name": "stdout",
     "output_type": "stream",
     "text": [
      "seq = ()\n",
      "count_true(seq) = 0\n",
      "\n",
      "seq = (3, 0.0, None, True, '0', ' ', False, [], '', -1, (), 0, (0,), {})\n",
      "count_true(seq) = 6\n",
      "\n",
      "seq = (0, {}, set(), range(0, 0))\n",
      "count_true(seq) = 0\n",
      "\n"
     ]
    }
   ],
   "source": [
    "# 計算seq內有幾個可以解譯(interpreted)為True的items。\n",
    "def count_true(seq):\n",
    "    \"\"\"Count the number of items in sequence that are interpreted as True.\"\"\"\n",
    "    return sum(bool(x) for x in seq)\n",
    "\n",
    "seq = ()\n",
    "print(f'{seq = }')\n",
    "print(f'{count_true(seq) = }\\n')\n",
    "\n",
    "seq = (3, 0.0, None, True, '0', ' ', False, [], '', -1, (), (0), (0,), {})\n",
    "print(f'{seq = }')\n",
    "print(f'{count_true(seq) = }\\n')\n",
    "\n",
    "seq = (0, {}, set(), range(0))\n",
    "print(f'{seq = }')\n",
    "print(f'{count_true(seq) = }\\n')"
   ]
  }
 ],
 "metadata": {
  "kernelspec": {
   "display_name": "Python 3",
   "language": "python",
   "name": "python3"
  },
  "language_info": {
   "codemirror_mode": {
    "name": "ipython",
    "version": 3
   },
   "file_extension": ".py",
   "mimetype": "text/x-python",
   "name": "python",
   "nbconvert_exporter": "python",
   "pygments_lexer": "ipython3",
   "version": "3.11.3"
  },
  "orig_nbformat": 4
 },
 "nbformat": 4,
 "nbformat_minor": 2
}
